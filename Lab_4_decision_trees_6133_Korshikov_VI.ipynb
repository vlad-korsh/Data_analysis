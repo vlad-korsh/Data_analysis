{
  "cells": [
    {
      "cell_type": "markdown",
      "id": "f0b7b965",
      "metadata": {
        "id": "f0b7b965"
      },
      "source": [
        "# Лабораторная работа №4. Деревья решений.\n",
        "## Выполнил Коршиков Владислав Игоревич, группа 6133-010402D"
      ]
    },
    {
      "cell_type": "code",
      "source": [
        "# Подключаемся к Google Диск\n",
        "from google.colab import drive\n",
        "drive.mount(\"/content/drive\")"
      ],
      "metadata": {
        "colab": {
          "base_uri": "https://localhost:8080/"
        },
        "id": "B1r8C8UvB6Xh",
        "outputId": "035c1ab1-67a3-4b1b-99e2-6588b915254c"
      },
      "id": "B1r8C8UvB6Xh",
      "execution_count": 236,
      "outputs": [
        {
          "output_type": "stream",
          "name": "stdout",
          "text": [
            "Drive already mounted at /content/drive; to attempt to forcibly remount, call drive.mount(\"/content/drive\", force_remount=True).\n"
          ]
        }
      ]
    },
    {
      "cell_type": "code",
      "execution_count": 237,
      "id": "02ad4b76-02c3-4778-95c3-eec40ac0b8ad",
      "metadata": {
        "tags": [],
        "id": "02ad4b76-02c3-4778-95c3-eec40ac0b8ad"
      },
      "outputs": [],
      "source": [
        "# Импортируем необходимые библиотеки\n",
        "import pandas as pd\n",
        "import numpy as np\n",
        "import matplotlib.pyplot as plt\n",
        "import seaborn as sns\n",
        "from sklearn.naive_bayes import GaussianNB\n",
        "\n",
        "from sklearn.metrics import classification_report\n",
        "from sklearn.metrics import confusion_matrix\n",
        "from sklearn.metrics import accuracy_score\n",
        "from sklearn.neighbors import KNeighborsClassifier\n",
        "from sklearn.svm import SVC\n",
        "from sklearn.preprocessing import MinMaxScaler\n",
        "from sklearn.model_selection import StratifiedKFold, RandomizedSearchCV, train_test_split, cross_val_score\n",
        "\n",
        "from sklearn.ensemble import RandomForestClassifier\n",
        "from sklearn.ensemble import RandomForestRegressor\n",
        "from sklearn.model_selection import GridSearchCV\n",
        "from sklearn.metrics import classification_report,confusion_matrix\n",
        "from sklearn.tree import DecisionTreeClassifier\n",
        "\n",
        "\n",
        "from sklearn.metrics import classification_report, accuracy_score\n",
        "from sklearn.pipeline import Pipeline\n",
        "\n",
        "\n",
        "from sklearn import metrics\n",
        "from sklearn.metrics import recall_score, precision_score, f1_score, classification_report\n",
        "\n",
        "import warnings\n",
        "import sys  \n",
        "if not sys.warnoptions:\n",
        "    warnings.simplefilter(\"ignore\")"
      ]
    },
    {
      "cell_type": "markdown",
      "id": "48ea23a5",
      "metadata": {
        "id": "48ea23a5"
      },
      "source": [
        "Для данной лабораторной работы использовался DataFrame, содержащий все машины из Gran Turismo 6: https://www.kaggle.com/prasertk/gran-turismo-6-cars/version/1\n",
        "\n",
        "Категориальные: car_type, drive\n",
        "\n",
        "Числовые: price, hp, weight, torque"
      ]
    },
    {
      "cell_type": "code",
      "source": [
        "# Загрузим датафрейм и удалим строчки с пустующими значениями\n",
        "gran_turismo_a = pd.read_csv(\"/content/drive/MyDrive/gran_turismo_gt6.csv\") \n",
        "gran_turismo_2=gran_turismo_a\n",
        "gran_turismo=gran_turismo_2.dropna(axis=0)\n",
        "gran_turismo.isnull().sum()"
      ],
      "metadata": {
        "colab": {
          "base_uri": "https://localhost:8080/"
        },
        "id": "J0etrKMzCxTy",
        "outputId": "a85ac907-c5ae-45b3-afe5-da0e90f5f01c"
      },
      "id": "J0etrKMzCxTy",
      "execution_count": 238,
      "outputs": [
        {
          "output_type": "execute_result",
          "data": {
            "text/plain": [
              "brand       0\n",
              "model       0\n",
              "car_type    0\n",
              "img_url     0\n",
              "price       0\n",
              "drive       0\n",
              "hp          0\n",
              "weight      0\n",
              "torque      0\n",
              "w_kg        0\n",
              "dtype: int64"
            ]
          },
          "metadata": {},
          "execution_count": 238
        }
      ]
    },
    {
      "cell_type": "code",
      "source": [
        "gran_turismo"
      ],
      "metadata": {
        "colab": {
          "base_uri": "https://localhost:8080/",
          "height": 423
        },
        "id": "lv2LJe5zNOKs",
        "outputId": "4fb4eb6e-1f18-4e8f-b445-bf5dbeefd1f5"
      },
      "id": "lv2LJe5zNOKs",
      "execution_count": 239,
      "outputs": [
        {
          "output_type": "execute_result",
          "data": {
            "text/plain": [
              "           brand               model car_type  \\\n",
              "0        AC Cars         427 S/C '66   Street   \n",
              "1            AEM               S2000    Tuned   \n",
              "3         Abarth             500 '09   Street   \n",
              "4         Abarth    Grande Punto '09   Street   \n",
              "5          Acura   CL 3.2 Type-S '01   Street   \n",
              "...          ...                 ...      ...   \n",
              "1265  Volkswagen      Scirocco R '10   Street   \n",
              "1266  Volkswagen       W12 Nardo '01   Street   \n",
              "1267       Volvo  240 GLT Estate '88   Street   \n",
              "1268       Volvo    C30 R-Design '09   Street   \n",
              "1269       Volvo   S60 T-5 Sport '03   Street   \n",
              "\n",
              "                                                img_url      price drive  \\\n",
              "0     https://www.kudosprime.com/gt6/images/cars/gt6...   423200.0    FR   \n",
              "1     https://www.kudosprime.com/gt6/images/cars/gt6...   100000.0    FR   \n",
              "3     https://www.kudosprime.com/gt6/images/cars/gt6...    29500.0    FF   \n",
              "4     https://www.kudosprime.com/gt6/images/cars/gt6...    27000.0    FF   \n",
              "5     https://www.kudosprime.com/gt6/images/cars/gt6...    32180.0    FF   \n",
              "...                                                 ...        ...   ...   \n",
              "1265  https://www.kudosprime.com/gt6/images/cars/gt6...    51500.0    FF   \n",
              "1266  https://www.kudosprime.com/gt6/images/cars/gt6...  1250000.0    MR   \n",
              "1267  https://www.kudosprime.com/gt6/images/cars/gt6...    15920.0    FR   \n",
              "1268  https://www.kudosprime.com/gt6/images/cars/gt6...    42000.0    FF   \n",
              "1269  https://www.kudosprime.com/gt6/images/cars/gt6...    35580.0    FF   \n",
              "\n",
              "         hp  weight  torque             w_kg  \n",
              "0     478.0  1311.0   651.0    272 to ? W/Kg  \n",
              "1     430.0  1155.0   495.0  278 to 345 W/Kg  \n",
              "3     133.0  1035.0   180.0   96 to 251 W/Kg  \n",
              "4     153.0  1240.0   230.0     92 to ? W/Kg  \n",
              "5     260.0  1592.0   315.0    122 to ? W/Kg  \n",
              "...     ...     ...     ...              ...  \n",
              "1265  252.0  1410.0   330.0  133 to 298 W/Kg  \n",
              "1266  574.0  1300.0   620.0    329 to ? W/Kg  \n",
              "1267  127.0  1890.0   190.0     50 to ? W/Kg  \n",
              "1268  227.0  1430.0   319.0    118 to ? W/Kg  \n",
              "1269  246.0  1550.0   330.0    119 to ? W/Kg  \n",
              "\n",
              "[1031 rows x 10 columns]"
            ],
            "text/html": [
              "\n",
              "  <div id=\"df-492b7d8c-f784-48df-b0f3-3a7a662e61bc\">\n",
              "    <div class=\"colab-df-container\">\n",
              "      <div>\n",
              "<style scoped>\n",
              "    .dataframe tbody tr th:only-of-type {\n",
              "        vertical-align: middle;\n",
              "    }\n",
              "\n",
              "    .dataframe tbody tr th {\n",
              "        vertical-align: top;\n",
              "    }\n",
              "\n",
              "    .dataframe thead th {\n",
              "        text-align: right;\n",
              "    }\n",
              "</style>\n",
              "<table border=\"1\" class=\"dataframe\">\n",
              "  <thead>\n",
              "    <tr style=\"text-align: right;\">\n",
              "      <th></th>\n",
              "      <th>brand</th>\n",
              "      <th>model</th>\n",
              "      <th>car_type</th>\n",
              "      <th>img_url</th>\n",
              "      <th>price</th>\n",
              "      <th>drive</th>\n",
              "      <th>hp</th>\n",
              "      <th>weight</th>\n",
              "      <th>torque</th>\n",
              "      <th>w_kg</th>\n",
              "    </tr>\n",
              "  </thead>\n",
              "  <tbody>\n",
              "    <tr>\n",
              "      <th>0</th>\n",
              "      <td>AC Cars</td>\n",
              "      <td>427 S/C '66</td>\n",
              "      <td>Street</td>\n",
              "      <td>https://www.kudosprime.com/gt6/images/cars/gt6...</td>\n",
              "      <td>423200.0</td>\n",
              "      <td>FR</td>\n",
              "      <td>478.0</td>\n",
              "      <td>1311.0</td>\n",
              "      <td>651.0</td>\n",
              "      <td>272 to ? W/Kg</td>\n",
              "    </tr>\n",
              "    <tr>\n",
              "      <th>1</th>\n",
              "      <td>AEM</td>\n",
              "      <td>S2000</td>\n",
              "      <td>Tuned</td>\n",
              "      <td>https://www.kudosprime.com/gt6/images/cars/gt6...</td>\n",
              "      <td>100000.0</td>\n",
              "      <td>FR</td>\n",
              "      <td>430.0</td>\n",
              "      <td>1155.0</td>\n",
              "      <td>495.0</td>\n",
              "      <td>278 to 345 W/Kg</td>\n",
              "    </tr>\n",
              "    <tr>\n",
              "      <th>3</th>\n",
              "      <td>Abarth</td>\n",
              "      <td>500 '09</td>\n",
              "      <td>Street</td>\n",
              "      <td>https://www.kudosprime.com/gt6/images/cars/gt6...</td>\n",
              "      <td>29500.0</td>\n",
              "      <td>FF</td>\n",
              "      <td>133.0</td>\n",
              "      <td>1035.0</td>\n",
              "      <td>180.0</td>\n",
              "      <td>96 to 251 W/Kg</td>\n",
              "    </tr>\n",
              "    <tr>\n",
              "      <th>4</th>\n",
              "      <td>Abarth</td>\n",
              "      <td>Grande Punto '09</td>\n",
              "      <td>Street</td>\n",
              "      <td>https://www.kudosprime.com/gt6/images/cars/gt6...</td>\n",
              "      <td>27000.0</td>\n",
              "      <td>FF</td>\n",
              "      <td>153.0</td>\n",
              "      <td>1240.0</td>\n",
              "      <td>230.0</td>\n",
              "      <td>92 to ? W/Kg</td>\n",
              "    </tr>\n",
              "    <tr>\n",
              "      <th>5</th>\n",
              "      <td>Acura</td>\n",
              "      <td>CL 3.2 Type-S '01</td>\n",
              "      <td>Street</td>\n",
              "      <td>https://www.kudosprime.com/gt6/images/cars/gt6...</td>\n",
              "      <td>32180.0</td>\n",
              "      <td>FF</td>\n",
              "      <td>260.0</td>\n",
              "      <td>1592.0</td>\n",
              "      <td>315.0</td>\n",
              "      <td>122 to ? W/Kg</td>\n",
              "    </tr>\n",
              "    <tr>\n",
              "      <th>...</th>\n",
              "      <td>...</td>\n",
              "      <td>...</td>\n",
              "      <td>...</td>\n",
              "      <td>...</td>\n",
              "      <td>...</td>\n",
              "      <td>...</td>\n",
              "      <td>...</td>\n",
              "      <td>...</td>\n",
              "      <td>...</td>\n",
              "      <td>...</td>\n",
              "    </tr>\n",
              "    <tr>\n",
              "      <th>1265</th>\n",
              "      <td>Volkswagen</td>\n",
              "      <td>Scirocco R '10</td>\n",
              "      <td>Street</td>\n",
              "      <td>https://www.kudosprime.com/gt6/images/cars/gt6...</td>\n",
              "      <td>51500.0</td>\n",
              "      <td>FF</td>\n",
              "      <td>252.0</td>\n",
              "      <td>1410.0</td>\n",
              "      <td>330.0</td>\n",
              "      <td>133 to 298 W/Kg</td>\n",
              "    </tr>\n",
              "    <tr>\n",
              "      <th>1266</th>\n",
              "      <td>Volkswagen</td>\n",
              "      <td>W12 Nardo '01</td>\n",
              "      <td>Street</td>\n",
              "      <td>https://www.kudosprime.com/gt6/images/cars/gt6...</td>\n",
              "      <td>1250000.0</td>\n",
              "      <td>MR</td>\n",
              "      <td>574.0</td>\n",
              "      <td>1300.0</td>\n",
              "      <td>620.0</td>\n",
              "      <td>329 to ? W/Kg</td>\n",
              "    </tr>\n",
              "    <tr>\n",
              "      <th>1267</th>\n",
              "      <td>Volvo</td>\n",
              "      <td>240 GLT Estate '88</td>\n",
              "      <td>Street</td>\n",
              "      <td>https://www.kudosprime.com/gt6/images/cars/gt6...</td>\n",
              "      <td>15920.0</td>\n",
              "      <td>FR</td>\n",
              "      <td>127.0</td>\n",
              "      <td>1890.0</td>\n",
              "      <td>190.0</td>\n",
              "      <td>50 to ? W/Kg</td>\n",
              "    </tr>\n",
              "    <tr>\n",
              "      <th>1268</th>\n",
              "      <td>Volvo</td>\n",
              "      <td>C30 R-Design '09</td>\n",
              "      <td>Street</td>\n",
              "      <td>https://www.kudosprime.com/gt6/images/cars/gt6...</td>\n",
              "      <td>42000.0</td>\n",
              "      <td>FF</td>\n",
              "      <td>227.0</td>\n",
              "      <td>1430.0</td>\n",
              "      <td>319.0</td>\n",
              "      <td>118 to ? W/Kg</td>\n",
              "    </tr>\n",
              "    <tr>\n",
              "      <th>1269</th>\n",
              "      <td>Volvo</td>\n",
              "      <td>S60 T-5 Sport '03</td>\n",
              "      <td>Street</td>\n",
              "      <td>https://www.kudosprime.com/gt6/images/cars/gt6...</td>\n",
              "      <td>35580.0</td>\n",
              "      <td>FF</td>\n",
              "      <td>246.0</td>\n",
              "      <td>1550.0</td>\n",
              "      <td>330.0</td>\n",
              "      <td>119 to ? W/Kg</td>\n",
              "    </tr>\n",
              "  </tbody>\n",
              "</table>\n",
              "<p>1031 rows × 10 columns</p>\n",
              "</div>\n",
              "      <button class=\"colab-df-convert\" onclick=\"convertToInteractive('df-492b7d8c-f784-48df-b0f3-3a7a662e61bc')\"\n",
              "              title=\"Convert this dataframe to an interactive table.\"\n",
              "              style=\"display:none;\">\n",
              "        \n",
              "  <svg xmlns=\"http://www.w3.org/2000/svg\" height=\"24px\"viewBox=\"0 0 24 24\"\n",
              "       width=\"24px\">\n",
              "    <path d=\"M0 0h24v24H0V0z\" fill=\"none\"/>\n",
              "    <path d=\"M18.56 5.44l.94 2.06.94-2.06 2.06-.94-2.06-.94-.94-2.06-.94 2.06-2.06.94zm-11 1L8.5 8.5l.94-2.06 2.06-.94-2.06-.94L8.5 2.5l-.94 2.06-2.06.94zm10 10l.94 2.06.94-2.06 2.06-.94-2.06-.94-.94-2.06-.94 2.06-2.06.94z\"/><path d=\"M17.41 7.96l-1.37-1.37c-.4-.4-.92-.59-1.43-.59-.52 0-1.04.2-1.43.59L10.3 9.45l-7.72 7.72c-.78.78-.78 2.05 0 2.83L4 21.41c.39.39.9.59 1.41.59.51 0 1.02-.2 1.41-.59l7.78-7.78 2.81-2.81c.8-.78.8-2.07 0-2.86zM5.41 20L4 18.59l7.72-7.72 1.47 1.35L5.41 20z\"/>\n",
              "  </svg>\n",
              "      </button>\n",
              "      \n",
              "  <style>\n",
              "    .colab-df-container {\n",
              "      display:flex;\n",
              "      flex-wrap:wrap;\n",
              "      gap: 12px;\n",
              "    }\n",
              "\n",
              "    .colab-df-convert {\n",
              "      background-color: #E8F0FE;\n",
              "      border: none;\n",
              "      border-radius: 50%;\n",
              "      cursor: pointer;\n",
              "      display: none;\n",
              "      fill: #1967D2;\n",
              "      height: 32px;\n",
              "      padding: 0 0 0 0;\n",
              "      width: 32px;\n",
              "    }\n",
              "\n",
              "    .colab-df-convert:hover {\n",
              "      background-color: #E2EBFA;\n",
              "      box-shadow: 0px 1px 2px rgba(60, 64, 67, 0.3), 0px 1px 3px 1px rgba(60, 64, 67, 0.15);\n",
              "      fill: #174EA6;\n",
              "    }\n",
              "\n",
              "    [theme=dark] .colab-df-convert {\n",
              "      background-color: #3B4455;\n",
              "      fill: #D2E3FC;\n",
              "    }\n",
              "\n",
              "    [theme=dark] .colab-df-convert:hover {\n",
              "      background-color: #434B5C;\n",
              "      box-shadow: 0px 1px 3px 1px rgba(0, 0, 0, 0.15);\n",
              "      filter: drop-shadow(0px 1px 2px rgba(0, 0, 0, 0.3));\n",
              "      fill: #FFFFFF;\n",
              "    }\n",
              "  </style>\n",
              "\n",
              "      <script>\n",
              "        const buttonEl =\n",
              "          document.querySelector('#df-492b7d8c-f784-48df-b0f3-3a7a662e61bc button.colab-df-convert');\n",
              "        buttonEl.style.display =\n",
              "          google.colab.kernel.accessAllowed ? 'block' : 'none';\n",
              "\n",
              "        async function convertToInteractive(key) {\n",
              "          const element = document.querySelector('#df-492b7d8c-f784-48df-b0f3-3a7a662e61bc');\n",
              "          const dataTable =\n",
              "            await google.colab.kernel.invokeFunction('convertToInteractive',\n",
              "                                                     [key], {});\n",
              "          if (!dataTable) return;\n",
              "\n",
              "          const docLinkHtml = 'Like what you see? Visit the ' +\n",
              "            '<a target=\"_blank\" href=https://colab.research.google.com/notebooks/data_table.ipynb>data table notebook</a>'\n",
              "            + ' to learn more about interactive tables.';\n",
              "          element.innerHTML = '';\n",
              "          dataTable['output_type'] = 'display_data';\n",
              "          await google.colab.output.renderOutput(dataTable, element);\n",
              "          const docLink = document.createElement('div');\n",
              "          docLink.innerHTML = docLinkHtml;\n",
              "          element.appendChild(docLink);\n",
              "        }\n",
              "      </script>\n",
              "    </div>\n",
              "  </div>\n",
              "  "
            ]
          },
          "metadata": {},
          "execution_count": 239
        }
      ]
    },
    {
      "cell_type": "code",
      "source": [
        "#Уберём столбцы, которые не оказывают влияние на целевое значение, чтобы с датафреймом было проще работать\n",
        "# Также, нам необходимо заменить tuned на street в car_type, так как tuned является подклассом race, но это выделение нигде не используется\n",
        "gran_turismo.pop('w_kg')\n",
        "gran_turismo.pop('model')\n",
        "gran_turismo.pop('img_url')\n",
        "gran_turismo['car_type'] = np.where((gran_turismo.car_type == 'Tuned'), 'Race', gran_turismo.car_type)\n",
        "\n"
      ],
      "metadata": {
        "colab": {
          "base_uri": "https://localhost:8080/"
        },
        "id": "cA6w8iIzLOXI",
        "outputId": "ac84750a-f702-4f6a-d2c8-4c5359f24762"
      },
      "id": "cA6w8iIzLOXI",
      "execution_count": 240,
      "outputs": [
        {
          "output_type": "stream",
          "name": "stderr",
          "text": [
            "/usr/local/lib/python3.7/dist-packages/ipykernel_launcher.py:6: SettingWithCopyWarning: \n",
            "A value is trying to be set on a copy of a slice from a DataFrame.\n",
            "Try using .loc[row_indexer,col_indexer] = value instead\n",
            "\n",
            "See the caveats in the documentation: https://pandas.pydata.org/pandas-docs/stable/user_guide/indexing.html#returning-a-view-versus-a-copy\n",
            "  \n"
          ]
        }
      ]
    },
    {
      "cell_type": "markdown",
      "source": [
        "1. На любом датасете продемонстрировать многоклассовую классификацию с помощью ЛЮБОГО алгоритма. Оценить accuracy"
      ],
      "metadata": {
        "id": "mlzmMdVNd3SJ"
      },
      "id": "mlzmMdVNd3SJ"
    },
    {
      "cell_type": "code",
      "execution_count": 241,
      "id": "9c61198d",
      "metadata": {
        "id": "9c61198d"
      },
      "outputs": [],
      "source": [
        "\n",
        "#Разобьём датасет на тестовую и тренировочную датафреймы\n",
        "gran_turismo_3 = gran_turismo.copy()\n",
        "gran_turismo_3.pop('brand')\n",
        "\n",
        "\n",
        "gran_turismo_3 = gran_turismo_3[gran_turismo_3.drive != 'RR']\n"
      ]
    },
    {
      "cell_type": "markdown",
      "source": [
        "# 1.0. Для вашего датасета преобразовать категориальные признаки в бинарные с помощью pd.factorize / pd.get_dummies"
      ],
      "metadata": {
        "id": "0dCcsrn3oixd"
      },
      "id": "0dCcsrn3oixd"
    },
    {
      "cell_type": "code",
      "source": [
        "gran_turismo_3.car_type, unique=  pd.factorize(gran_turismo_3.car_type)\n",
        "print(gran_turismo_3.car_type)\n",
        "print(unique)\n",
        "\n",
        "\n"
      ],
      "metadata": {
        "colab": {
          "base_uri": "https://localhost:8080/"
        },
        "id": "LqsBZvPIjTyi",
        "outputId": "52563948-64b0-426c-fee9-35b0498ac66c"
      },
      "id": "LqsBZvPIjTyi",
      "execution_count": 242,
      "outputs": [
        {
          "output_type": "stream",
          "name": "stdout",
          "text": [
            "0       0\n",
            "1       1\n",
            "3       0\n",
            "4       0\n",
            "5       0\n",
            "       ..\n",
            "1265    0\n",
            "1266    0\n",
            "1267    0\n",
            "1268    0\n",
            "1269    0\n",
            "Name: car_type, Length: 1013, dtype: int64\n",
            "Index(['Street', 'Race'], dtype='object')\n"
          ]
        }
      ]
    },
    {
      "cell_type": "code",
      "source": [
        "gran_turismo_3"
      ],
      "metadata": {
        "colab": {
          "base_uri": "https://localhost:8080/",
          "height": 423
        },
        "id": "vCorOfSfzDHF",
        "outputId": "da8a5f72-2535-40a4-e5f4-601aecce6f95"
      },
      "id": "vCorOfSfzDHF",
      "execution_count": 243,
      "outputs": [
        {
          "output_type": "execute_result",
          "data": {
            "text/plain": [
              "      car_type      price drive     hp  weight  torque\n",
              "0            0   423200.0    FR  478.0  1311.0   651.0\n",
              "1            1   100000.0    FR  430.0  1155.0   495.0\n",
              "3            0    29500.0    FF  133.0  1035.0   180.0\n",
              "4            0    27000.0    FF  153.0  1240.0   230.0\n",
              "5            0    32180.0    FF  260.0  1592.0   315.0\n",
              "...        ...        ...   ...    ...     ...     ...\n",
              "1265         0    51500.0    FF  252.0  1410.0   330.0\n",
              "1266         0  1250000.0    MR  574.0  1300.0   620.0\n",
              "1267         0    15920.0    FR  127.0  1890.0   190.0\n",
              "1268         0    42000.0    FF  227.0  1430.0   319.0\n",
              "1269         0    35580.0    FF  246.0  1550.0   330.0\n",
              "\n",
              "[1013 rows x 6 columns]"
            ],
            "text/html": [
              "\n",
              "  <div id=\"df-9f29ecf4-7a63-4926-8350-310ef33078c0\">\n",
              "    <div class=\"colab-df-container\">\n",
              "      <div>\n",
              "<style scoped>\n",
              "    .dataframe tbody tr th:only-of-type {\n",
              "        vertical-align: middle;\n",
              "    }\n",
              "\n",
              "    .dataframe tbody tr th {\n",
              "        vertical-align: top;\n",
              "    }\n",
              "\n",
              "    .dataframe thead th {\n",
              "        text-align: right;\n",
              "    }\n",
              "</style>\n",
              "<table border=\"1\" class=\"dataframe\">\n",
              "  <thead>\n",
              "    <tr style=\"text-align: right;\">\n",
              "      <th></th>\n",
              "      <th>car_type</th>\n",
              "      <th>price</th>\n",
              "      <th>drive</th>\n",
              "      <th>hp</th>\n",
              "      <th>weight</th>\n",
              "      <th>torque</th>\n",
              "    </tr>\n",
              "  </thead>\n",
              "  <tbody>\n",
              "    <tr>\n",
              "      <th>0</th>\n",
              "      <td>0</td>\n",
              "      <td>423200.0</td>\n",
              "      <td>FR</td>\n",
              "      <td>478.0</td>\n",
              "      <td>1311.0</td>\n",
              "      <td>651.0</td>\n",
              "    </tr>\n",
              "    <tr>\n",
              "      <th>1</th>\n",
              "      <td>1</td>\n",
              "      <td>100000.0</td>\n",
              "      <td>FR</td>\n",
              "      <td>430.0</td>\n",
              "      <td>1155.0</td>\n",
              "      <td>495.0</td>\n",
              "    </tr>\n",
              "    <tr>\n",
              "      <th>3</th>\n",
              "      <td>0</td>\n",
              "      <td>29500.0</td>\n",
              "      <td>FF</td>\n",
              "      <td>133.0</td>\n",
              "      <td>1035.0</td>\n",
              "      <td>180.0</td>\n",
              "    </tr>\n",
              "    <tr>\n",
              "      <th>4</th>\n",
              "      <td>0</td>\n",
              "      <td>27000.0</td>\n",
              "      <td>FF</td>\n",
              "      <td>153.0</td>\n",
              "      <td>1240.0</td>\n",
              "      <td>230.0</td>\n",
              "    </tr>\n",
              "    <tr>\n",
              "      <th>5</th>\n",
              "      <td>0</td>\n",
              "      <td>32180.0</td>\n",
              "      <td>FF</td>\n",
              "      <td>260.0</td>\n",
              "      <td>1592.0</td>\n",
              "      <td>315.0</td>\n",
              "    </tr>\n",
              "    <tr>\n",
              "      <th>...</th>\n",
              "      <td>...</td>\n",
              "      <td>...</td>\n",
              "      <td>...</td>\n",
              "      <td>...</td>\n",
              "      <td>...</td>\n",
              "      <td>...</td>\n",
              "    </tr>\n",
              "    <tr>\n",
              "      <th>1265</th>\n",
              "      <td>0</td>\n",
              "      <td>51500.0</td>\n",
              "      <td>FF</td>\n",
              "      <td>252.0</td>\n",
              "      <td>1410.0</td>\n",
              "      <td>330.0</td>\n",
              "    </tr>\n",
              "    <tr>\n",
              "      <th>1266</th>\n",
              "      <td>0</td>\n",
              "      <td>1250000.0</td>\n",
              "      <td>MR</td>\n",
              "      <td>574.0</td>\n",
              "      <td>1300.0</td>\n",
              "      <td>620.0</td>\n",
              "    </tr>\n",
              "    <tr>\n",
              "      <th>1267</th>\n",
              "      <td>0</td>\n",
              "      <td>15920.0</td>\n",
              "      <td>FR</td>\n",
              "      <td>127.0</td>\n",
              "      <td>1890.0</td>\n",
              "      <td>190.0</td>\n",
              "    </tr>\n",
              "    <tr>\n",
              "      <th>1268</th>\n",
              "      <td>0</td>\n",
              "      <td>42000.0</td>\n",
              "      <td>FF</td>\n",
              "      <td>227.0</td>\n",
              "      <td>1430.0</td>\n",
              "      <td>319.0</td>\n",
              "    </tr>\n",
              "    <tr>\n",
              "      <th>1269</th>\n",
              "      <td>0</td>\n",
              "      <td>35580.0</td>\n",
              "      <td>FF</td>\n",
              "      <td>246.0</td>\n",
              "      <td>1550.0</td>\n",
              "      <td>330.0</td>\n",
              "    </tr>\n",
              "  </tbody>\n",
              "</table>\n",
              "<p>1013 rows × 6 columns</p>\n",
              "</div>\n",
              "      <button class=\"colab-df-convert\" onclick=\"convertToInteractive('df-9f29ecf4-7a63-4926-8350-310ef33078c0')\"\n",
              "              title=\"Convert this dataframe to an interactive table.\"\n",
              "              style=\"display:none;\">\n",
              "        \n",
              "  <svg xmlns=\"http://www.w3.org/2000/svg\" height=\"24px\"viewBox=\"0 0 24 24\"\n",
              "       width=\"24px\">\n",
              "    <path d=\"M0 0h24v24H0V0z\" fill=\"none\"/>\n",
              "    <path d=\"M18.56 5.44l.94 2.06.94-2.06 2.06-.94-2.06-.94-.94-2.06-.94 2.06-2.06.94zm-11 1L8.5 8.5l.94-2.06 2.06-.94-2.06-.94L8.5 2.5l-.94 2.06-2.06.94zm10 10l.94 2.06.94-2.06 2.06-.94-2.06-.94-.94-2.06-.94 2.06-2.06.94z\"/><path d=\"M17.41 7.96l-1.37-1.37c-.4-.4-.92-.59-1.43-.59-.52 0-1.04.2-1.43.59L10.3 9.45l-7.72 7.72c-.78.78-.78 2.05 0 2.83L4 21.41c.39.39.9.59 1.41.59.51 0 1.02-.2 1.41-.59l7.78-7.78 2.81-2.81c.8-.78.8-2.07 0-2.86zM5.41 20L4 18.59l7.72-7.72 1.47 1.35L5.41 20z\"/>\n",
              "  </svg>\n",
              "      </button>\n",
              "      \n",
              "  <style>\n",
              "    .colab-df-container {\n",
              "      display:flex;\n",
              "      flex-wrap:wrap;\n",
              "      gap: 12px;\n",
              "    }\n",
              "\n",
              "    .colab-df-convert {\n",
              "      background-color: #E8F0FE;\n",
              "      border: none;\n",
              "      border-radius: 50%;\n",
              "      cursor: pointer;\n",
              "      display: none;\n",
              "      fill: #1967D2;\n",
              "      height: 32px;\n",
              "      padding: 0 0 0 0;\n",
              "      width: 32px;\n",
              "    }\n",
              "\n",
              "    .colab-df-convert:hover {\n",
              "      background-color: #E2EBFA;\n",
              "      box-shadow: 0px 1px 2px rgba(60, 64, 67, 0.3), 0px 1px 3px 1px rgba(60, 64, 67, 0.15);\n",
              "      fill: #174EA6;\n",
              "    }\n",
              "\n",
              "    [theme=dark] .colab-df-convert {\n",
              "      background-color: #3B4455;\n",
              "      fill: #D2E3FC;\n",
              "    }\n",
              "\n",
              "    [theme=dark] .colab-df-convert:hover {\n",
              "      background-color: #434B5C;\n",
              "      box-shadow: 0px 1px 3px 1px rgba(0, 0, 0, 0.15);\n",
              "      filter: drop-shadow(0px 1px 2px rgba(0, 0, 0, 0.3));\n",
              "      fill: #FFFFFF;\n",
              "    }\n",
              "  </style>\n",
              "\n",
              "      <script>\n",
              "        const buttonEl =\n",
              "          document.querySelector('#df-9f29ecf4-7a63-4926-8350-310ef33078c0 button.colab-df-convert');\n",
              "        buttonEl.style.display =\n",
              "          google.colab.kernel.accessAllowed ? 'block' : 'none';\n",
              "\n",
              "        async function convertToInteractive(key) {\n",
              "          const element = document.querySelector('#df-9f29ecf4-7a63-4926-8350-310ef33078c0');\n",
              "          const dataTable =\n",
              "            await google.colab.kernel.invokeFunction('convertToInteractive',\n",
              "                                                     [key], {});\n",
              "          if (!dataTable) return;\n",
              "\n",
              "          const docLinkHtml = 'Like what you see? Visit the ' +\n",
              "            '<a target=\"_blank\" href=https://colab.research.google.com/notebooks/data_table.ipynb>data table notebook</a>'\n",
              "            + ' to learn more about interactive tables.';\n",
              "          element.innerHTML = '';\n",
              "          dataTable['output_type'] = 'display_data';\n",
              "          await google.colab.output.renderOutput(dataTable, element);\n",
              "          const docLink = document.createElement('div');\n",
              "          docLink.innerHTML = docLinkHtml;\n",
              "          element.appendChild(docLink);\n",
              "        }\n",
              "      </script>\n",
              "    </div>\n",
              "  </div>\n",
              "  "
            ]
          },
          "metadata": {},
          "execution_count": 243
        }
      ]
    },
    {
      "cell_type": "markdown",
      "source": [
        "# 1.1.  С помощью sklearn.preprocessing.StandardScaler нормализовать значения признаков и построить для нормализованного датасета KNeighborsClassifier (без использования конвееров)"
      ],
      "metadata": {
        "id": "7ruKMH6YyR2V"
      },
      "id": "7ruKMH6YyR2V"
    },
    {
      "cell_type": "code",
      "source": [
        "y=  gran_turismo_3.drive\n",
        "print(y)\n",
        "X=gran_turismo_3.drop(\"drive\", axis=1)\n",
        "X.head()"
      ],
      "metadata": {
        "colab": {
          "base_uri": "https://localhost:8080/",
          "height": 423
        },
        "id": "bnsqWfrFy27S",
        "outputId": "a60559f5-0f31-463e-b079-b6d8c39af12f"
      },
      "id": "bnsqWfrFy27S",
      "execution_count": 244,
      "outputs": [
        {
          "output_type": "stream",
          "name": "stdout",
          "text": [
            "0       FR\n",
            "1       FR\n",
            "3       FF\n",
            "4       FF\n",
            "5       FF\n",
            "        ..\n",
            "1265    FF\n",
            "1266    MR\n",
            "1267    FR\n",
            "1268    FF\n",
            "1269    FF\n",
            "Name: drive, Length: 1013, dtype: object\n"
          ]
        },
        {
          "output_type": "execute_result",
          "data": {
            "text/plain": [
              "   car_type     price     hp  weight  torque\n",
              "0         0  423200.0  478.0  1311.0   651.0\n",
              "1         1  100000.0  430.0  1155.0   495.0\n",
              "3         0   29500.0  133.0  1035.0   180.0\n",
              "4         0   27000.0  153.0  1240.0   230.0\n",
              "5         0   32180.0  260.0  1592.0   315.0"
            ],
            "text/html": [
              "\n",
              "  <div id=\"df-08ebfd8d-f4e8-4f2f-9164-6f71d648adc3\">\n",
              "    <div class=\"colab-df-container\">\n",
              "      <div>\n",
              "<style scoped>\n",
              "    .dataframe tbody tr th:only-of-type {\n",
              "        vertical-align: middle;\n",
              "    }\n",
              "\n",
              "    .dataframe tbody tr th {\n",
              "        vertical-align: top;\n",
              "    }\n",
              "\n",
              "    .dataframe thead th {\n",
              "        text-align: right;\n",
              "    }\n",
              "</style>\n",
              "<table border=\"1\" class=\"dataframe\">\n",
              "  <thead>\n",
              "    <tr style=\"text-align: right;\">\n",
              "      <th></th>\n",
              "      <th>car_type</th>\n",
              "      <th>price</th>\n",
              "      <th>hp</th>\n",
              "      <th>weight</th>\n",
              "      <th>torque</th>\n",
              "    </tr>\n",
              "  </thead>\n",
              "  <tbody>\n",
              "    <tr>\n",
              "      <th>0</th>\n",
              "      <td>0</td>\n",
              "      <td>423200.0</td>\n",
              "      <td>478.0</td>\n",
              "      <td>1311.0</td>\n",
              "      <td>651.0</td>\n",
              "    </tr>\n",
              "    <tr>\n",
              "      <th>1</th>\n",
              "      <td>1</td>\n",
              "      <td>100000.0</td>\n",
              "      <td>430.0</td>\n",
              "      <td>1155.0</td>\n",
              "      <td>495.0</td>\n",
              "    </tr>\n",
              "    <tr>\n",
              "      <th>3</th>\n",
              "      <td>0</td>\n",
              "      <td>29500.0</td>\n",
              "      <td>133.0</td>\n",
              "      <td>1035.0</td>\n",
              "      <td>180.0</td>\n",
              "    </tr>\n",
              "    <tr>\n",
              "      <th>4</th>\n",
              "      <td>0</td>\n",
              "      <td>27000.0</td>\n",
              "      <td>153.0</td>\n",
              "      <td>1240.0</td>\n",
              "      <td>230.0</td>\n",
              "    </tr>\n",
              "    <tr>\n",
              "      <th>5</th>\n",
              "      <td>0</td>\n",
              "      <td>32180.0</td>\n",
              "      <td>260.0</td>\n",
              "      <td>1592.0</td>\n",
              "      <td>315.0</td>\n",
              "    </tr>\n",
              "  </tbody>\n",
              "</table>\n",
              "</div>\n",
              "      <button class=\"colab-df-convert\" onclick=\"convertToInteractive('df-08ebfd8d-f4e8-4f2f-9164-6f71d648adc3')\"\n",
              "              title=\"Convert this dataframe to an interactive table.\"\n",
              "              style=\"display:none;\">\n",
              "        \n",
              "  <svg xmlns=\"http://www.w3.org/2000/svg\" height=\"24px\"viewBox=\"0 0 24 24\"\n",
              "       width=\"24px\">\n",
              "    <path d=\"M0 0h24v24H0V0z\" fill=\"none\"/>\n",
              "    <path d=\"M18.56 5.44l.94 2.06.94-2.06 2.06-.94-2.06-.94-.94-2.06-.94 2.06-2.06.94zm-11 1L8.5 8.5l.94-2.06 2.06-.94-2.06-.94L8.5 2.5l-.94 2.06-2.06.94zm10 10l.94 2.06.94-2.06 2.06-.94-2.06-.94-.94-2.06-.94 2.06-2.06.94z\"/><path d=\"M17.41 7.96l-1.37-1.37c-.4-.4-.92-.59-1.43-.59-.52 0-1.04.2-1.43.59L10.3 9.45l-7.72 7.72c-.78.78-.78 2.05 0 2.83L4 21.41c.39.39.9.59 1.41.59.51 0 1.02-.2 1.41-.59l7.78-7.78 2.81-2.81c.8-.78.8-2.07 0-2.86zM5.41 20L4 18.59l7.72-7.72 1.47 1.35L5.41 20z\"/>\n",
              "  </svg>\n",
              "      </button>\n",
              "      \n",
              "  <style>\n",
              "    .colab-df-container {\n",
              "      display:flex;\n",
              "      flex-wrap:wrap;\n",
              "      gap: 12px;\n",
              "    }\n",
              "\n",
              "    .colab-df-convert {\n",
              "      background-color: #E8F0FE;\n",
              "      border: none;\n",
              "      border-radius: 50%;\n",
              "      cursor: pointer;\n",
              "      display: none;\n",
              "      fill: #1967D2;\n",
              "      height: 32px;\n",
              "      padding: 0 0 0 0;\n",
              "      width: 32px;\n",
              "    }\n",
              "\n",
              "    .colab-df-convert:hover {\n",
              "      background-color: #E2EBFA;\n",
              "      box-shadow: 0px 1px 2px rgba(60, 64, 67, 0.3), 0px 1px 3px 1px rgba(60, 64, 67, 0.15);\n",
              "      fill: #174EA6;\n",
              "    }\n",
              "\n",
              "    [theme=dark] .colab-df-convert {\n",
              "      background-color: #3B4455;\n",
              "      fill: #D2E3FC;\n",
              "    }\n",
              "\n",
              "    [theme=dark] .colab-df-convert:hover {\n",
              "      background-color: #434B5C;\n",
              "      box-shadow: 0px 1px 3px 1px rgba(0, 0, 0, 0.15);\n",
              "      filter: drop-shadow(0px 1px 2px rgba(0, 0, 0, 0.3));\n",
              "      fill: #FFFFFF;\n",
              "    }\n",
              "  </style>\n",
              "\n",
              "      <script>\n",
              "        const buttonEl =\n",
              "          document.querySelector('#df-08ebfd8d-f4e8-4f2f-9164-6f71d648adc3 button.colab-df-convert');\n",
              "        buttonEl.style.display =\n",
              "          google.colab.kernel.accessAllowed ? 'block' : 'none';\n",
              "\n",
              "        async function convertToInteractive(key) {\n",
              "          const element = document.querySelector('#df-08ebfd8d-f4e8-4f2f-9164-6f71d648adc3');\n",
              "          const dataTable =\n",
              "            await google.colab.kernel.invokeFunction('convertToInteractive',\n",
              "                                                     [key], {});\n",
              "          if (!dataTable) return;\n",
              "\n",
              "          const docLinkHtml = 'Like what you see? Visit the ' +\n",
              "            '<a target=\"_blank\" href=https://colab.research.google.com/notebooks/data_table.ipynb>data table notebook</a>'\n",
              "            + ' to learn more about interactive tables.';\n",
              "          element.innerHTML = '';\n",
              "          dataTable['output_type'] = 'display_data';\n",
              "          await google.colab.output.renderOutput(dataTable, element);\n",
              "          const docLink = document.createElement('div');\n",
              "          docLink.innerHTML = docLinkHtml;\n",
              "          element.appendChild(docLink);\n",
              "        }\n",
              "      </script>\n",
              "    </div>\n",
              "  </div>\n",
              "  "
            ]
          },
          "metadata": {},
          "execution_count": 244
        }
      ]
    },
    {
      "cell_type": "code",
      "source": [
        "Scaler = MinMaxScaler()\n",
        "X_scaler = Scaler.fit_transform(X)"
      ],
      "metadata": {
        "id": "W9b7w_BBz5zh"
      },
      "id": "W9b7w_BBz5zh",
      "execution_count": 245,
      "outputs": []
    },
    {
      "cell_type": "code",
      "source": [
        "X_train, X_test, y_train, y_test = train_test_split(X, y, test_size=.25, stratify=y, random_state=12)\n",
        "\n",
        "\n",
        "\n",
        "KNN_model = KNeighborsClassifier(n_neighbors=7)\n",
        "\n",
        "KNN_model.fit(X_train, y_train)\n",
        "\n",
        "KNN_prediction = KNN_model.predict(X_test)\n",
        "\n",
        "print(classification_report(y_test, KNN_prediction))\n",
        "print(accuracy_score(y_test, KNN_prediction) * 100)"
      ],
      "metadata": {
        "colab": {
          "base_uri": "https://localhost:8080/"
        },
        "id": "2WmtTVool3Tc",
        "outputId": "767ff243-b2d2-4599-c192-3d0e5349bfac"
      },
      "id": "2WmtTVool3Tc",
      "execution_count": 246,
      "outputs": [
        {
          "output_type": "stream",
          "name": "stdout",
          "text": [
            "              precision    recall  f1-score   support\n",
            "\n",
            "         4WD       0.48      0.52      0.50        52\n",
            "          FF       0.67      0.55      0.61        56\n",
            "          FR       0.54      0.70      0.61       105\n",
            "          MR       0.72      0.32      0.44        41\n",
            "\n",
            "    accuracy                           0.57       254\n",
            "   macro avg       0.61      0.52      0.54       254\n",
            "weighted avg       0.59      0.57      0.56       254\n",
            "\n",
            "56.69291338582677\n"
          ]
        }
      ]
    },
    {
      "cell_type": "markdown",
      "source": [
        "# 1.2. То же самое и использованием sklearn.pipeline.Pipeline"
      ],
      "metadata": {
        "id": "JXf2H5tXpJkD"
      },
      "id": "JXf2H5tXpJkD"
    },
    {
      "cell_type": "code",
      "source": [
        "KNeighborsPipe = Pipeline([('Scaler', MinMaxScaler()), ('kNN', KNeighborsClassifier())])\n",
        "KNeighborsPipe.fit(X_train, y_train)\n",
        "KNeighborsPredictPipe = KNeighborsPipe.predict(X_test)\n",
        "print(classification_report(y_test, KNeighborsPredictPipe))\n",
        "print(accuracy_score(y_test, KNeighborsPredictPipe) * 100)"
      ],
      "metadata": {
        "id": "OfGe9hZyogjo",
        "colab": {
          "base_uri": "https://localhost:8080/"
        },
        "outputId": "fdb3a51f-bcae-4317-82d2-1b7c52d3a5b0"
      },
      "id": "OfGe9hZyogjo",
      "execution_count": 247,
      "outputs": [
        {
          "output_type": "stream",
          "name": "stdout",
          "text": [
            "              precision    recall  f1-score   support\n",
            "\n",
            "         4WD       0.48      0.60      0.53        52\n",
            "          FF       0.59      0.68      0.63        56\n",
            "          FR       0.64      0.61      0.62       105\n",
            "          MR       0.81      0.51      0.63        41\n",
            "\n",
            "    accuracy                           0.61       254\n",
            "   macro avg       0.63      0.60      0.60       254\n",
            "weighted avg       0.63      0.61      0.61       254\n",
            "\n",
            "60.629921259842526\n"
          ]
        }
      ]
    },
    {
      "cell_type": "markdown",
      "source": [
        "# 1.3. С помощью GridSearchCV произвести подбор гиперпараметра KNeighborsClassifier (n_neighbors) и выведите значение гиперпараметра и метрику для наилучшей модели"
      ],
      "metadata": {
        "id": "cIvAr4xW_sHu"
      },
      "id": "cIvAr4xW_sHu"
    },
    {
      "cell_type": "code",
      "source": [
        "KNeighborsParams = {'n_neighbors': range(1, 30)}\n",
        "KNeighborsGCV = GridSearchCV(KNeighborsClassifier(), KNeighborsParams)\n",
        "KNeighborsGCV.fit(X_train, y_train)\n",
        "KNeighborsPredictGCV = KNeighborsGCV.predict(X_test)\n",
        "print(classification_report(y_test, KNeighborsPredictGCV))\n",
        "print(accuracy_score(y_test, KNeighborsPredictGCV) * 100)"
      ],
      "metadata": {
        "id": "jrSPA5m5ACX8",
        "colab": {
          "base_uri": "https://localhost:8080/"
        },
        "outputId": "963d5db3-1d02-4b2d-df8d-25aed8ede514"
      },
      "id": "jrSPA5m5ACX8",
      "execution_count": 248,
      "outputs": [
        {
          "output_type": "stream",
          "name": "stdout",
          "text": [
            "              precision    recall  f1-score   support\n",
            "\n",
            "         4WD       0.54      0.60      0.57        52\n",
            "          FF       0.71      0.62      0.67        56\n",
            "          FR       0.63      0.65      0.64       105\n",
            "          MR       0.55      0.54      0.54        41\n",
            "\n",
            "    accuracy                           0.61       254\n",
            "   macro avg       0.61      0.60      0.60       254\n",
            "weighted avg       0.62      0.61      0.62       254\n",
            "\n",
            "61.417322834645674\n"
          ]
        }
      ]
    },
    {
      "cell_type": "code",
      "source": [
        "KNeighborsGCV.best_estimator_"
      ],
      "metadata": {
        "id": "B6sLrKqVACgG",
        "colab": {
          "base_uri": "https://localhost:8080/"
        },
        "outputId": "d538958d-b0a2-4401-de6b-a71612b238f0"
      },
      "id": "B6sLrKqVACgG",
      "execution_count": 249,
      "outputs": [
        {
          "output_type": "execute_result",
          "data": {
            "text/plain": [
              "KNeighborsClassifier(n_neighbors=1)"
            ]
          },
          "metadata": {},
          "execution_count": 249
        }
      ]
    },
    {
      "cell_type": "markdown",
      "source": [
        "# 2.1. Продемонстрировать работу DecisionTreeClassifier, посчитать метрики качества на отложенной выборке"
      ],
      "metadata": {
        "id": "1gn7--GG5rop"
      },
      "id": "1gn7--GG5rop"
    },
    {
      "cell_type": "code",
      "source": [
        "DTC = DecisionTreeClassifier()\n",
        "DTC.fit(X_train, y_train)\n",
        "DTCPredict = DTC.predict(X_test)\n",
        "print(classification_report(y_test, DTCPredict))\n",
        "print(accuracy_score(y_test, DTCPredict) * 100)"
      ],
      "metadata": {
        "colab": {
          "base_uri": "https://localhost:8080/"
        },
        "id": "HpYXGBkT8W2r",
        "outputId": "df72492c-5b62-4ff2-b3b3-dc698dd36d4c"
      },
      "id": "HpYXGBkT8W2r",
      "execution_count": 250,
      "outputs": [
        {
          "output_type": "stream",
          "name": "stdout",
          "text": [
            "              precision    recall  f1-score   support\n",
            "\n",
            "         4WD       0.70      0.67      0.69        52\n",
            "          FF       0.74      0.75      0.74        56\n",
            "          FR       0.74      0.77      0.76       105\n",
            "          MR       0.76      0.71      0.73        41\n",
            "\n",
            "    accuracy                           0.74       254\n",
            "   macro avg       0.74      0.73      0.73       254\n",
            "weighted avg       0.74      0.74      0.74       254\n",
            "\n",
            "73.62204724409449\n"
          ]
        }
      ]
    },
    {
      "cell_type": "markdown",
      "source": [
        "# 2.2. С помощью GridSearchCV произвести подбор гиперпараметров для поиска наилучшего дерева (перебрать max_depth, max_features и может быть что-то ещё)"
      ],
      "metadata": {
        "id": "itDHttoP9od0"
      },
      "id": "itDHttoP9od0"
    },
    {
      "cell_type": "code",
      "source": [
        "parametrs = {\n",
        "    \"max_depth\": np.linspace(1, 32, 32, endpoint=True),\n",
        "    \"min_samples_split\": np.linspace(0.01, 0.1, 10, endpoint=True),\n",
        "    \"min_samples_leaf\": np.linspace(0.01, 0.1, 10, endpoint=True),\n",
        "}\n",
        "\n",
        "DTC_GCV = GridSearchCV(DecisionTreeClassifier(), parametrs)\n",
        "DTC_GCV.fit(X_train, y_train)\n",
        "print(DTC_GCV.best_estimator_)\n",
        "DTC_GCV_Predict = DTC_GCV.predict(X_test)\n",
        "print(classification_report(y_test, DTC_GCV_Predict))\n",
        "print(accuracy_score(y_test, DTC_GCV_Predict) * 100)"
      ],
      "metadata": {
        "colab": {
          "base_uri": "https://localhost:8080/"
        },
        "id": "KqSaWXPX8nQ8",
        "outputId": "73048e5d-6911-4b72-ed42-1b9ce7d62494"
      },
      "id": "KqSaWXPX8nQ8",
      "execution_count": 251,
      "outputs": [
        {
          "output_type": "stream",
          "name": "stdout",
          "text": [
            "DecisionTreeClassifier(max_depth=14.0, min_samples_leaf=0.01,\n",
            "                       min_samples_split=0.01)\n",
            "              precision    recall  f1-score   support\n",
            "\n",
            "         4WD       0.51      0.54      0.52        52\n",
            "          FF       0.70      0.80      0.75        56\n",
            "          FR       0.66      0.66      0.66       105\n",
            "          MR       0.77      0.56      0.65        41\n",
            "\n",
            "    accuracy                           0.65       254\n",
            "   macro avg       0.66      0.64      0.64       254\n",
            "weighted avg       0.65      0.65      0.65       254\n",
            "\n",
            "64.96062992125984\n"
          ]
        }
      ]
    },
    {
      "cell_type": "markdown",
      "source": [
        "# 2.3. Для полученного наилучшего дерева построить график feature_importances и дополнительно напечатать 3 наиболее важных признака, отсортировав их по убыванию важности"
      ],
      "metadata": {
        "id": "Uxnk2KYG_jFe"
      },
      "id": "Uxnk2KYG_jFe"
    },
    {
      "cell_type": "code",
      "source": [
        "feature_importance = pd.DataFrame(data={\"feature\": X_train.columns, 'importance': DTC_GCV.best_estimator_.feature_importances_})\n",
        "important = feature_importance.sort_values(by=\"importance\", ascending=False).head(3)\n",
        "print(important)\n",
        "sns.barplot(data=important[important['importance'] > 0], y=\"feature\", x=\"importance\")"
      ],
      "metadata": {
        "colab": {
          "base_uri": "https://localhost:8080/",
          "height": 369
        },
        "id": "Hcx6S_7n-i8U",
        "outputId": "22f7ada1-55b1-42a4-b020-4a2872bbb613"
      },
      "id": "Hcx6S_7n-i8U",
      "execution_count": 252,
      "outputs": [
        {
          "output_type": "stream",
          "name": "stdout",
          "text": [
            "  feature  importance\n",
            "2      hp    0.381651\n",
            "1   price    0.320758\n",
            "3  weight    0.161425\n"
          ]
        },
        {
          "output_type": "execute_result",
          "data": {
            "text/plain": [
              "<matplotlib.axes._subplots.AxesSubplot at 0x7f58286ba2d0>"
            ]
          },
          "metadata": {},
          "execution_count": 252
        },
        {
          "output_type": "display_data",
          "data": {
            "text/plain": [
              "<Figure size 432x288 with 1 Axes>"
            ],
            "image/png": "[encoded data removed]"
          },
          "metadata": {
            "needs_background": "light"
          }
        }
      ]
    },
    {
      "cell_type": "markdown",
      "source": [
        "##Итак, у нас есть три наиболее важных признака: hp, price и weight"
      ],
      "metadata": {
        "id": "X_Mm1aBKAfyc"
      },
      "id": "X_Mm1aBKAfyc"
    },
    {
      "cell_type": "markdown",
      "source": [
        "# 3.1. Продемонстрировать работу случайного леса RandomForestClassifier"
      ],
      "metadata": {
        "id": "Am3BwGsiDEKc"
      },
      "id": "Am3BwGsiDEKc"
    },
    {
      "cell_type": "code",
      "source": [
        "RF = RandomForestClassifier()\n",
        "RF.fit(X_train, y_train)\n",
        "RF_Predict = RF.predict(X_test)\n",
        "print(classification_report(y_test, RF_Predict))\n",
        "print(accuracy_score(y_test, RF_Predict) * 100)"
      ],
      "metadata": {
        "colab": {
          "base_uri": "https://localhost:8080/"
        },
        "id": "xqUTSTFeBWFk",
        "outputId": "0b700a44-0a40-4300-cce4-07306dca5e1a"
      },
      "id": "xqUTSTFeBWFk",
      "execution_count": 253,
      "outputs": [
        {
          "output_type": "stream",
          "name": "stdout",
          "text": [
            "              precision    recall  f1-score   support\n",
            "\n",
            "         4WD       0.79      0.73      0.76        52\n",
            "          FF       0.78      0.82      0.80        56\n",
            "          FR       0.77      0.84      0.80       105\n",
            "          MR       0.94      0.73      0.82        41\n",
            "\n",
            "    accuracy                           0.80       254\n",
            "   macro avg       0.82      0.78      0.80       254\n",
            "weighted avg       0.80      0.80      0.80       254\n",
            "\n",
            "79.52755905511812\n"
          ]
        }
      ]
    },
    {
      "cell_type": "markdown",
      "source": [
        "# 3.2. С помощью GridSearchCV произвести подбор гиперпараметров для поиск наилучшего леса, посмотреть насколько улучшились метрики"
      ],
      "metadata": {
        "id": "-NDk1R3uHEVP"
      },
      "id": "-NDk1R3uHEVP"
    },
    {
      "cell_type": "code",
      "source": [
        "parametrs = {\"n_estimators\": range(1, 65)}\n",
        "\n",
        "RF_GCV = GridSearchCV(RandomForestClassifier(), parametrs)\n",
        "RF_GCV.fit(X_train, y_train)\n",
        "print(RF_GCV.best_estimator_)\n",
        "\n",
        "RF_GCV_Predict = RF_GCV.predict(X_test)\n",
        "print(classification_report(y_test, RF_GCV_Predict))\n",
        "print(accuracy_score(y_test, RF_GCV_Predict) * 100)"
      ],
      "metadata": {
        "colab": {
          "base_uri": "https://localhost:8080/"
        },
        "id": "X8zOLlwhDk3C",
        "outputId": "a002c8e6-9a46-494f-8804-1ae042c4dd86"
      },
      "id": "X8zOLlwhDk3C",
      "execution_count": 254,
      "outputs": [
        {
          "output_type": "stream",
          "name": "stdout",
          "text": [
            "RandomForestClassifier(n_estimators=37)\n",
            "              precision    recall  f1-score   support\n",
            "\n",
            "         4WD       0.84      0.71      0.77        52\n",
            "          FF       0.76      0.84      0.80        56\n",
            "          FR       0.75      0.82      0.78       105\n",
            "          MR       0.85      0.68      0.76        41\n",
            "\n",
            "    accuracy                           0.78       254\n",
            "   macro avg       0.80      0.76      0.78       254\n",
            "weighted avg       0.79      0.78      0.78       254\n",
            "\n",
            "77.95275590551181\n"
          ]
        }
      ]
    },
    {
      "cell_type": "markdown",
      "source": [
        "#Наибольшей точности удалось добиться, используя RandomForestClassifier."
      ],
      "metadata": {
        "id": "pdgyizI9umBm"
      },
      "id": "pdgyizI9umBm"
    }
  ],
  "metadata": {
    "kernelspec": {
      "display_name": "Python 3 (ipykernel)",
      "language": "python",
      "name": "python3"
    },
    "language_info": {
      "codemirror_mode": {
        "name": "ipython",
        "version": 3
      },
      "file_extension": ".py",
      "mimetype": "text/x-python",
      "name": "python",
      "nbconvert_exporter": "python",
      "pygments_lexer": "ipython3",
      "version": "3.8.5"
    },
    "colab": {
      "name": "Lab_4_decision_trees_6133_Korshikov_VI.ipynb",
      "provenance": [],
      "collapsed_sections": []
    }
  },
  "nbformat": 4,
  "nbformat_minor": 5
}