{
  "cells": [
    {
      "cell_type": "markdown",
      "id": "f0b7b965",
      "metadata": {
        "id": "f0b7b965"
      },
      "source": [
        "# Лабораторная работа №5. Catboost.\n",
        "## Выполнил Коршиков Владислав Игоревич, группа 6133-010402D"
      ]
    },
    {
      "cell_type": "code",
      "source": [
        "# Подключаемся к Google Диск\n",
        "from google.colab import drive\n",
        "drive.mount(\"/content/drive\")"
      ],
      "metadata": {
        "colab": {
          "base_uri": "https://localhost:8080/"
        },
        "id": "B1r8C8UvB6Xh",
        "outputId": "b5521acb-984d-4c15-ab6f-5b8795dee4c4"
      },
      "id": "B1r8C8UvB6Xh",
      "execution_count": 274,
      "outputs": [
        {
          "output_type": "stream",
          "name": "stdout",
          "text": [
            "Drive already mounted at /content/drive; to attempt to forcibly remount, call drive.mount(\"/content/drive\", force_remount=True).\n"
          ]
        }
      ]
    },
    {
      "cell_type": "code",
      "source": [
        "# Устанавливаем Catboost\n",
        "! pip install catboost shap ipywidgets\n",
        "! jupyter nbextension enable --py widgetsnbextension"
      ],
      "metadata": {
        "colab": {
          "base_uri": "https://localhost:8080/"
        },
        "id": "RxotZ0QA5qPG",
        "outputId": "23e6ce57-b710-4f81-d444-5450f1695522"
      },
      "id": "RxotZ0QA5qPG",
      "execution_count": 275,
      "outputs": [
        {
          "output_type": "stream",
          "name": "stdout",
          "text": [
            "Looking in indexes: https://pypi.org/simple, https://us-python.pkg.dev/colab-wheels/public/simple/\n",
            "Requirement already satisfied: catboost in /usr/local/lib/python3.7/dist-packages (1.0.6)\n",
            "Requirement already satisfied: shap in /usr/local/lib/python3.7/dist-packages (0.40.0)\n",
            "Requirement already satisfied: ipywidgets in /usr/local/lib/python3.7/dist-packages (7.7.0)\n",
            "Requirement already satisfied: pandas>=0.24.0 in /usr/local/lib/python3.7/dist-packages (from catboost) (1.3.5)\n",
            "Requirement already satisfied: plotly in /usr/local/lib/python3.7/dist-packages (from catboost) (5.5.0)\n",
            "Requirement already satisfied: numpy>=1.16.0 in /usr/local/lib/python3.7/dist-packages (from catboost) (1.21.6)\n",
            "Requirement already satisfied: graphviz in /usr/local/lib/python3.7/dist-packages (from catboost) (0.10.1)\n",
            "Requirement already satisfied: scipy in /usr/local/lib/python3.7/dist-packages (from catboost) (1.4.1)\n",
            "Requirement already satisfied: matplotlib in /usr/local/lib/python3.7/dist-packages (from catboost) (3.2.2)\n",
            "Requirement already satisfied: six in /usr/local/lib/python3.7/dist-packages (from catboost) (1.15.0)\n",
            "Requirement already satisfied: python-dateutil>=2.7.3 in /usr/local/lib/python3.7/dist-packages (from pandas>=0.24.0->catboost) (2.8.2)\n",
            "Requirement already satisfied: pytz>=2017.3 in /usr/local/lib/python3.7/dist-packages (from pandas>=0.24.0->catboost) (2022.1)\n",
            "Requirement already satisfied: scikit-learn in /usr/local/lib/python3.7/dist-packages (from shap) (1.0.2)\n",
            "Requirement already satisfied: cloudpickle in /usr/local/lib/python3.7/dist-packages (from shap) (1.3.0)\n",
            "Requirement already satisfied: packaging>20.9 in /usr/local/lib/python3.7/dist-packages (from shap) (21.3)\n",
            "Requirement already satisfied: tqdm>4.25.0 in /usr/local/lib/python3.7/dist-packages (from shap) (4.64.0)\n",
            "Requirement already satisfied: slicer==0.0.7 in /usr/local/lib/python3.7/dist-packages (from shap) (0.0.7)\n",
            "Requirement already satisfied: numba in /usr/local/lib/python3.7/dist-packages (from shap) (0.51.2)\n",
            "Requirement already satisfied: pyparsing!=3.0.5,>=2.0.2 in /usr/local/lib/python3.7/dist-packages (from packaging>20.9->shap) (3.0.9)\n",
            "Requirement already satisfied: jupyterlab-widgets>=1.0.0 in /usr/local/lib/python3.7/dist-packages (from ipywidgets) (1.1.0)\n",
            "Requirement already satisfied: ipykernel>=4.5.1 in /usr/local/lib/python3.7/dist-packages (from ipywidgets) (4.10.1)\n",
            "Requirement already satisfied: ipython-genutils~=0.2.0 in /usr/local/lib/python3.7/dist-packages (from ipywidgets) (0.2.0)\n",
            "Requirement already satisfied: widgetsnbextension~=3.6.0 in /usr/local/lib/python3.7/dist-packages (from ipywidgets) (3.6.0)\n",
            "Requirement already satisfied: nbformat>=4.2.0 in /usr/local/lib/python3.7/dist-packages (from ipywidgets) (5.4.0)\n",
            "Requirement already satisfied: ipython>=4.0.0 in /usr/local/lib/python3.7/dist-packages (from ipywidgets) (5.5.0)\n",
            "Requirement already satisfied: traitlets>=4.3.1 in /usr/local/lib/python3.7/dist-packages (from ipywidgets) (5.1.1)\n",
            "Requirement already satisfied: jupyter-client in /usr/local/lib/python3.7/dist-packages (from ipykernel>=4.5.1->ipywidgets) (5.3.5)\n",
            "Requirement already satisfied: tornado>=4.0 in /usr/local/lib/python3.7/dist-packages (from ipykernel>=4.5.1->ipywidgets) (5.1.1)\n",
            "Requirement already satisfied: decorator in /usr/local/lib/python3.7/dist-packages (from ipython>=4.0.0->ipywidgets) (4.4.2)\n",
            "Requirement already satisfied: pygments in /usr/local/lib/python3.7/dist-packages (from ipython>=4.0.0->ipywidgets) (2.6.1)\n",
            "Requirement already satisfied: pickleshare in /usr/local/lib/python3.7/dist-packages (from ipython>=4.0.0->ipywidgets) (0.7.5)\n",
            "Requirement already satisfied: pexpect in /usr/local/lib/python3.7/dist-packages (from ipython>=4.0.0->ipywidgets) (4.8.0)\n",
            "Requirement already satisfied: prompt-toolkit<2.0.0,>=1.0.4 in /usr/local/lib/python3.7/dist-packages (from ipython>=4.0.0->ipywidgets) (1.0.18)\n",
            "Requirement already satisfied: setuptools>=18.5 in /usr/local/lib/python3.7/dist-packages (from ipython>=4.0.0->ipywidgets) (57.4.0)\n",
            "Requirement already satisfied: simplegeneric>0.8 in /usr/local/lib/python3.7/dist-packages (from ipython>=4.0.0->ipywidgets) (0.8.1)\n",
            "Requirement already satisfied: jsonschema>=2.6 in /usr/local/lib/python3.7/dist-packages (from nbformat>=4.2.0->ipywidgets) (4.3.3)\n",
            "Requirement already satisfied: fastjsonschema in /usr/local/lib/python3.7/dist-packages (from nbformat>=4.2.0->ipywidgets) (2.15.3)\n",
            "Requirement already satisfied: jupyter-core in /usr/local/lib/python3.7/dist-packages (from nbformat>=4.2.0->ipywidgets) (4.10.0)\n",
            "Requirement already satisfied: importlib-resources>=1.4.0 in /usr/local/lib/python3.7/dist-packages (from jsonschema>=2.6->nbformat>=4.2.0->ipywidgets) (5.7.1)\n",
            "Requirement already satisfied: attrs>=17.4.0 in /usr/local/lib/python3.7/dist-packages (from jsonschema>=2.6->nbformat>=4.2.0->ipywidgets) (21.4.0)\n",
            "Requirement already satisfied: typing-extensions in /usr/local/lib/python3.7/dist-packages (from jsonschema>=2.6->nbformat>=4.2.0->ipywidgets) (4.2.0)\n",
            "Requirement already satisfied: pyrsistent!=0.17.0,!=0.17.1,!=0.17.2,>=0.14.0 in /usr/local/lib/python3.7/dist-packages (from jsonschema>=2.6->nbformat>=4.2.0->ipywidgets) (0.18.1)\n",
            "Requirement already satisfied: importlib-metadata in /usr/local/lib/python3.7/dist-packages (from jsonschema>=2.6->nbformat>=4.2.0->ipywidgets) (4.11.4)\n",
            "Requirement already satisfied: zipp>=3.1.0 in /usr/local/lib/python3.7/dist-packages (from importlib-resources>=1.4.0->jsonschema>=2.6->nbformat>=4.2.0->ipywidgets) (3.8.0)\n",
            "Requirement already satisfied: wcwidth in /usr/local/lib/python3.7/dist-packages (from prompt-toolkit<2.0.0,>=1.0.4->ipython>=4.0.0->ipywidgets) (0.2.5)\n",
            "Requirement already satisfied: notebook>=4.4.1 in /usr/local/lib/python3.7/dist-packages (from widgetsnbextension~=3.6.0->ipywidgets) (5.3.1)\n",
            "Requirement already satisfied: jinja2 in /usr/local/lib/python3.7/dist-packages (from notebook>=4.4.1->widgetsnbextension~=3.6.0->ipywidgets) (2.11.3)\n",
            "Requirement already satisfied: Send2Trash in /usr/local/lib/python3.7/dist-packages (from notebook>=4.4.1->widgetsnbextension~=3.6.0->ipywidgets) (1.8.0)\n",
            "Requirement already satisfied: terminado>=0.8.1 in /usr/local/lib/python3.7/dist-packages (from notebook>=4.4.1->widgetsnbextension~=3.6.0->ipywidgets) (0.13.3)\n",
            "Requirement already satisfied: nbconvert in /usr/local/lib/python3.7/dist-packages (from notebook>=4.4.1->widgetsnbextension~=3.6.0->ipywidgets) (5.6.1)\n",
            "Requirement already satisfied: pyzmq>=13 in /usr/local/lib/python3.7/dist-packages (from jupyter-client->ipykernel>=4.5.1->ipywidgets) (23.1.0)\n",
            "Requirement already satisfied: ptyprocess in /usr/local/lib/python3.7/dist-packages (from terminado>=0.8.1->notebook>=4.4.1->widgetsnbextension~=3.6.0->ipywidgets) (0.7.0)\n",
            "Requirement already satisfied: MarkupSafe>=0.23 in /usr/local/lib/python3.7/dist-packages (from jinja2->notebook>=4.4.1->widgetsnbextension~=3.6.0->ipywidgets) (2.0.1)\n",
            "Requirement already satisfied: cycler>=0.10 in /usr/local/lib/python3.7/dist-packages (from matplotlib->catboost) (0.11.0)\n",
            "Requirement already satisfied: kiwisolver>=1.0.1 in /usr/local/lib/python3.7/dist-packages (from matplotlib->catboost) (1.4.2)\n",
            "Requirement already satisfied: entrypoints>=0.2.2 in /usr/local/lib/python3.7/dist-packages (from nbconvert->notebook>=4.4.1->widgetsnbextension~=3.6.0->ipywidgets) (0.4)\n",
            "Requirement already satisfied: pandocfilters>=1.4.1 in /usr/local/lib/python3.7/dist-packages (from nbconvert->notebook>=4.4.1->widgetsnbextension~=3.6.0->ipywidgets) (1.5.0)\n",
            "Requirement already satisfied: bleach in /usr/local/lib/python3.7/dist-packages (from nbconvert->notebook>=4.4.1->widgetsnbextension~=3.6.0->ipywidgets) (5.0.0)\n",
            "Requirement already satisfied: testpath in /usr/local/lib/python3.7/dist-packages (from nbconvert->notebook>=4.4.1->widgetsnbextension~=3.6.0->ipywidgets) (0.6.0)\n",
            "Requirement already satisfied: mistune<2,>=0.8.1 in /usr/local/lib/python3.7/dist-packages (from nbconvert->notebook>=4.4.1->widgetsnbextension~=3.6.0->ipywidgets) (0.8.4)\n",
            "Requirement already satisfied: defusedxml in /usr/local/lib/python3.7/dist-packages (from nbconvert->notebook>=4.4.1->widgetsnbextension~=3.6.0->ipywidgets) (0.7.1)\n",
            "Requirement already satisfied: webencodings in /usr/local/lib/python3.7/dist-packages (from bleach->nbconvert->notebook>=4.4.1->widgetsnbextension~=3.6.0->ipywidgets) (0.5.1)\n",
            "Requirement already satisfied: llvmlite<0.35,>=0.34.0.dev0 in /usr/local/lib/python3.7/dist-packages (from numba->shap) (0.34.0)\n",
            "Requirement already satisfied: tenacity>=6.2.0 in /usr/local/lib/python3.7/dist-packages (from plotly->catboost) (8.0.1)\n",
            "Requirement already satisfied: threadpoolctl>=2.0.0 in /usr/local/lib/python3.7/dist-packages (from scikit-learn->shap) (3.1.0)\n",
            "Requirement already satisfied: joblib>=0.11 in /usr/local/lib/python3.7/dist-packages (from scikit-learn->shap) (1.1.0)\n",
            "Enabling notebook extension jupyter-js-widgets/extension...\n",
            "Paths used for configuration of notebook: \n",
            "    \t/root/.jupyter/nbconfig/notebook.json\n",
            "      - Validating: \u001b[32mOK\u001b[0m\n",
            "Paths used for configuration of notebook: \n",
            "    \t/root/.jupyter/nbconfig/notebook.json\n"
          ]
        }
      ]
    },
    {
      "cell_type": "code",
      "execution_count": 276,
      "id": "02ad4b76-02c3-4778-95c3-eec40ac0b8ad",
      "metadata": {
        "tags": [],
        "id": "02ad4b76-02c3-4778-95c3-eec40ac0b8ad"
      },
      "outputs": [],
      "source": [
        "# Импортируем необходимые библиотеки\n",
        "import pandas as pd\n",
        "import numpy as np\n",
        "import matplotlib.pyplot as plt\n",
        "import seaborn as sns\n",
        "\n",
        "from sklearn.metrics import classification_report\n",
        "from sklearn.metrics import confusion_matrix\n",
        "from sklearn.metrics import accuracy_score\n",
        "from sklearn.neighbors import KNeighborsClassifier\n",
        "from sklearn.svm import SVC\n",
        "from sklearn.preprocessing import MinMaxScaler\n",
        "from sklearn.model_selection import StratifiedKFold, RandomizedSearchCV, train_test_split, cross_val_score\n",
        "\n",
        "from sklearn.ensemble import RandomForestClassifier\n",
        "from sklearn.ensemble import RandomForestRegressor\n",
        "from sklearn.model_selection import GridSearchCV\n",
        "from sklearn.metrics import classification_report,confusion_matrix\n",
        "from sklearn.tree import DecisionTreeClassifier\n",
        "\n",
        "\n",
        "from sklearn.metrics import classification_report, accuracy_score\n",
        "from sklearn.pipeline import Pipeline\n",
        "\n",
        "\n",
        "from sklearn import metrics\n",
        "from sklearn.metrics import recall_score, precision_score, f1_score, classification_report\n",
        "\n",
        "import catboost\n",
        "from catboost import *\n",
        "from catboost import datasets\n",
        "from catboost.utils import get_roc_curve\n",
        "\n",
        "\n",
        "import sklearn.model_selection\n",
        "import sklearn.metrics\n",
        "\n",
        "import warnings\n",
        "import sys  \n",
        "if not sys.warnoptions:\n",
        "    warnings.simplefilter(\"ignore\")"
      ]
    },
    {
      "cell_type": "markdown",
      "id": "48ea23a5",
      "metadata": {
        "id": "48ea23a5"
      },
      "source": [
        "Для данной лабораторной работы использовался DataFrame, содержащий все машины из Gran Turismo 6: https://www.kaggle.com/prasertk/gran-turismo-6-cars/version/1\n",
        "\n",
        "Категориальные: car_type, drive\n",
        "\n",
        "Числовые: price, hp, weight, torque"
      ]
    },
    {
      "cell_type": "code",
      "source": [
        "# Загрузим датафрейм и удалим строчки с пустующими значениями\n",
        "gran_turismo_a = pd.read_csv(\"/content/drive/MyDrive/gran_turismo_gt6.csv\") \n",
        "gran_turismo_2=gran_turismo_a\n",
        "gran_turismo=gran_turismo_2.dropna(axis=0)\n",
        "gran_turismo.isnull().sum()"
      ],
      "metadata": {
        "colab": {
          "base_uri": "https://localhost:8080/"
        },
        "id": "J0etrKMzCxTy",
        "outputId": "bb959ff2-37e5-42c9-cd83-e89c4f5a69f1"
      },
      "id": "J0etrKMzCxTy",
      "execution_count": 277,
      "outputs": [
        {
          "output_type": "execute_result",
          "data": {
            "text/plain": [
              "brand       0\n",
              "model       0\n",
              "car_type    0\n",
              "img_url     0\n",
              "price       0\n",
              "drive       0\n",
              "hp          0\n",
              "weight      0\n",
              "torque      0\n",
              "w_kg        0\n",
              "dtype: int64"
            ]
          },
          "metadata": {},
          "execution_count": 277
        }
      ]
    },
    {
      "cell_type": "code",
      "source": [
        "gran_turismo"
      ],
      "metadata": {
        "colab": {
          "base_uri": "https://localhost:8080/",
          "height": 423
        },
        "id": "lv2LJe5zNOKs",
        "outputId": "47f8d8f8-0570-4a69-d53f-7d7b32e5986d"
      },
      "id": "lv2LJe5zNOKs",
      "execution_count": 278,
      "outputs": [
        {
          "output_type": "execute_result",
          "data": {
            "text/plain": [
              "           brand               model car_type  \\\n",
              "0        AC Cars         427 S/C '66   Street   \n",
              "1            AEM               S2000    Tuned   \n",
              "3         Abarth             500 '09   Street   \n",
              "4         Abarth    Grande Punto '09   Street   \n",
              "5          Acura   CL 3.2 Type-S '01   Street   \n",
              "...          ...                 ...      ...   \n",
              "1265  Volkswagen      Scirocco R '10   Street   \n",
              "1266  Volkswagen       W12 Nardo '01   Street   \n",
              "1267       Volvo  240 GLT Estate '88   Street   \n",
              "1268       Volvo    C30 R-Design '09   Street   \n",
              "1269       Volvo   S60 T-5 Sport '03   Street   \n",
              "\n",
              "                                                img_url      price drive  \\\n",
              "0     https://www.kudosprime.com/gt6/images/cars/gt6...   423200.0    FR   \n",
              "1     https://www.kudosprime.com/gt6/images/cars/gt6...   100000.0    FR   \n",
              "3     https://www.kudosprime.com/gt6/images/cars/gt6...    29500.0    FF   \n",
              "4     https://www.kudosprime.com/gt6/images/cars/gt6...    27000.0    FF   \n",
              "5     https://www.kudosprime.com/gt6/images/cars/gt6...    32180.0    FF   \n",
              "...                                                 ...        ...   ...   \n",
              "1265  https://www.kudosprime.com/gt6/images/cars/gt6...    51500.0    FF   \n",
              "1266  https://www.kudosprime.com/gt6/images/cars/gt6...  1250000.0    MR   \n",
              "1267  https://www.kudosprime.com/gt6/images/cars/gt6...    15920.0    FR   \n",
              "1268  https://www.kudosprime.com/gt6/images/cars/gt6...    42000.0    FF   \n",
              "1269  https://www.kudosprime.com/gt6/images/cars/gt6...    35580.0    FF   \n",
              "\n",
              "         hp  weight  torque             w_kg  \n",
              "0     478.0  1311.0   651.0    272 to ? W/Kg  \n",
              "1     430.0  1155.0   495.0  278 to 345 W/Kg  \n",
              "3     133.0  1035.0   180.0   96 to 251 W/Kg  \n",
              "4     153.0  1240.0   230.0     92 to ? W/Kg  \n",
              "5     260.0  1592.0   315.0    122 to ? W/Kg  \n",
              "...     ...     ...     ...              ...  \n",
              "1265  252.0  1410.0   330.0  133 to 298 W/Kg  \n",
              "1266  574.0  1300.0   620.0    329 to ? W/Kg  \n",
              "1267  127.0  1890.0   190.0     50 to ? W/Kg  \n",
              "1268  227.0  1430.0   319.0    118 to ? W/Kg  \n",
              "1269  246.0  1550.0   330.0    119 to ? W/Kg  \n",
              "\n",
              "[1031 rows x 10 columns]"
            ],
            "text/html": [
              "\n",
              "  <div id=\"df-2cc7a801-0aa7-453c-8950-f5066b1d4063\">\n",
              "    <div class=\"colab-df-container\">\n",
              "      <div>\n",
              "<style scoped>\n",
              "    .dataframe tbody tr th:only-of-type {\n",
              "        vertical-align: middle;\n",
              "    }\n",
              "\n",
              "    .dataframe tbody tr th {\n",
              "        vertical-align: top;\n",
              "    }\n",
              "\n",
              "    .dataframe thead th {\n",
              "        text-align: right;\n",
              "    }\n",
              "</style>\n",
              "<table border=\"1\" class=\"dataframe\">\n",
              "  <thead>\n",
              "    <tr style=\"text-align: right;\">\n",
              "      <th></th>\n",
              "      <th>brand</th>\n",
              "      <th>model</th>\n",
              "      <th>car_type</th>\n",
              "      <th>img_url</th>\n",
              "      <th>price</th>\n",
              "      <th>drive</th>\n",
              "      <th>hp</th>\n",
              "      <th>weight</th>\n",
              "      <th>torque</th>\n",
              "      <th>w_kg</th>\n",
              "    </tr>\n",
              "  </thead>\n",
              "  <tbody>\n",
              "    <tr>\n",
              "      <th>0</th>\n",
              "      <td>AC Cars</td>\n",
              "      <td>427 S/C '66</td>\n",
              "      <td>Street</td>\n",
              "      <td>https://www.kudosprime.com/gt6/images/cars/gt6...</td>\n",
              "      <td>423200.0</td>\n",
              "      <td>FR</td>\n",
              "      <td>478.0</td>\n",
              "      <td>1311.0</td>\n",
              "      <td>651.0</td>\n",
              "      <td>272 to ? W/Kg</td>\n",
              "    </tr>\n",
              "    <tr>\n",
              "      <th>1</th>\n",
              "      <td>AEM</td>\n",
              "      <td>S2000</td>\n",
              "      <td>Tuned</td>\n",
              "      <td>https://www.kudosprime.com/gt6/images/cars/gt6...</td>\n",
              "      <td>100000.0</td>\n",
              "      <td>FR</td>\n",
              "      <td>430.0</td>\n",
              "      <td>1155.0</td>\n",
              "      <td>495.0</td>\n",
              "      <td>278 to 345 W/Kg</td>\n",
              "    </tr>\n",
              "    <tr>\n",
              "      <th>3</th>\n",
              "      <td>Abarth</td>\n",
              "      <td>500 '09</td>\n",
              "      <td>Street</td>\n",
              "      <td>https://www.kudosprime.com/gt6/images/cars/gt6...</td>\n",
              "      <td>29500.0</td>\n",
              "      <td>FF</td>\n",
              "      <td>133.0</td>\n",
              "      <td>1035.0</td>\n",
              "      <td>180.0</td>\n",
              "      <td>96 to 251 W/Kg</td>\n",
              "    </tr>\n",
              "    <tr>\n",
              "      <th>4</th>\n",
              "      <td>Abarth</td>\n",
              "      <td>Grande Punto '09</td>\n",
              "      <td>Street</td>\n",
              "      <td>https://www.kudosprime.com/gt6/images/cars/gt6...</td>\n",
              "      <td>27000.0</td>\n",
              "      <td>FF</td>\n",
              "      <td>153.0</td>\n",
              "      <td>1240.0</td>\n",
              "      <td>230.0</td>\n",
              "      <td>92 to ? W/Kg</td>\n",
              "    </tr>\n",
              "    <tr>\n",
              "      <th>5</th>\n",
              "      <td>Acura</td>\n",
              "      <td>CL 3.2 Type-S '01</td>\n",
              "      <td>Street</td>\n",
              "      <td>https://www.kudosprime.com/gt6/images/cars/gt6...</td>\n",
              "      <td>32180.0</td>\n",
              "      <td>FF</td>\n",
              "      <td>260.0</td>\n",
              "      <td>1592.0</td>\n",
              "      <td>315.0</td>\n",
              "      <td>122 to ? W/Kg</td>\n",
              "    </tr>\n",
              "    <tr>\n",
              "      <th>...</th>\n",
              "      <td>...</td>\n",
              "      <td>...</td>\n",
              "      <td>...</td>\n",
              "      <td>...</td>\n",
              "      <td>...</td>\n",
              "      <td>...</td>\n",
              "      <td>...</td>\n",
              "      <td>...</td>\n",
              "      <td>...</td>\n",
              "      <td>...</td>\n",
              "    </tr>\n",
              "    <tr>\n",
              "      <th>1265</th>\n",
              "      <td>Volkswagen</td>\n",
              "      <td>Scirocco R '10</td>\n",
              "      <td>Street</td>\n",
              "      <td>https://www.kudosprime.com/gt6/images/cars/gt6...</td>\n",
              "      <td>51500.0</td>\n",
              "      <td>FF</td>\n",
              "      <td>252.0</td>\n",
              "      <td>1410.0</td>\n",
              "      <td>330.0</td>\n",
              "      <td>133 to 298 W/Kg</td>\n",
              "    </tr>\n",
              "    <tr>\n",
              "      <th>1266</th>\n",
              "      <td>Volkswagen</td>\n",
              "      <td>W12 Nardo '01</td>\n",
              "      <td>Street</td>\n",
              "      <td>https://www.kudosprime.com/gt6/images/cars/gt6...</td>\n",
              "      <td>1250000.0</td>\n",
              "      <td>MR</td>\n",
              "      <td>574.0</td>\n",
              "      <td>1300.0</td>\n",
              "      <td>620.0</td>\n",
              "      <td>329 to ? W/Kg</td>\n",
              "    </tr>\n",
              "    <tr>\n",
              "      <th>1267</th>\n",
              "      <td>Volvo</td>\n",
              "      <td>240 GLT Estate '88</td>\n",
              "      <td>Street</td>\n",
              "      <td>https://www.kudosprime.com/gt6/images/cars/gt6...</td>\n",
              "      <td>15920.0</td>\n",
              "      <td>FR</td>\n",
              "      <td>127.0</td>\n",
              "      <td>1890.0</td>\n",
              "      <td>190.0</td>\n",
              "      <td>50 to ? W/Kg</td>\n",
              "    </tr>\n",
              "    <tr>\n",
              "      <th>1268</th>\n",
              "      <td>Volvo</td>\n",
              "      <td>C30 R-Design '09</td>\n",
              "      <td>Street</td>\n",
              "      <td>https://www.kudosprime.com/gt6/images/cars/gt6...</td>\n",
              "      <td>42000.0</td>\n",
              "      <td>FF</td>\n",
              "      <td>227.0</td>\n",
              "      <td>1430.0</td>\n",
              "      <td>319.0</td>\n",
              "      <td>118 to ? W/Kg</td>\n",
              "    </tr>\n",
              "    <tr>\n",
              "      <th>1269</th>\n",
              "      <td>Volvo</td>\n",
              "      <td>S60 T-5 Sport '03</td>\n",
              "      <td>Street</td>\n",
              "      <td>https://www.kudosprime.com/gt6/images/cars/gt6...</td>\n",
              "      <td>35580.0</td>\n",
              "      <td>FF</td>\n",
              "      <td>246.0</td>\n",
              "      <td>1550.0</td>\n",
              "      <td>330.0</td>\n",
              "      <td>119 to ? W/Kg</td>\n",
              "    </tr>\n",
              "  </tbody>\n",
              "</table>\n",
              "<p>1031 rows × 10 columns</p>\n",
              "</div>\n",
              "      <button class=\"colab-df-convert\" onclick=\"convertToInteractive('df-2cc7a801-0aa7-453c-8950-f5066b1d4063')\"\n",
              "              title=\"Convert this dataframe to an interactive table.\"\n",
              "              style=\"display:none;\">\n",
              "        \n",
              "  <svg xmlns=\"http://www.w3.org/2000/svg\" height=\"24px\"viewBox=\"0 0 24 24\"\n",
              "       width=\"24px\">\n",
              "    <path d=\"M0 0h24v24H0V0z\" fill=\"none\"/>\n",
              "    <path d=\"M18.56 5.44l.94 2.06.94-2.06 2.06-.94-2.06-.94-.94-2.06-.94 2.06-2.06.94zm-11 1L8.5 8.5l.94-2.06 2.06-.94-2.06-.94L8.5 2.5l-.94 2.06-2.06.94zm10 10l.94 2.06.94-2.06 2.06-.94-2.06-.94-.94-2.06-.94 2.06-2.06.94z\"/><path d=\"M17.41 7.96l-1.37-1.37c-.4-.4-.92-.59-1.43-.59-.52 0-1.04.2-1.43.59L10.3 9.45l-7.72 7.72c-.78.78-.78 2.05 0 2.83L4 21.41c.39.39.9.59 1.41.59.51 0 1.02-.2 1.41-.59l7.78-7.78 2.81-2.81c.8-.78.8-2.07 0-2.86zM5.41 20L4 18.59l7.72-7.72 1.47 1.35L5.41 20z\"/>\n",
              "  </svg>\n",
              "      </button>\n",
              "      \n",
              "  <style>\n",
              "    .colab-df-container {\n",
              "      display:flex;\n",
              "      flex-wrap:wrap;\n",
              "      gap: 12px;\n",
              "    }\n",
              "\n",
              "    .colab-df-convert {\n",
              "      background-color: #E8F0FE;\n",
              "      border: none;\n",
              "      border-radius: 50%;\n",
              "      cursor: pointer;\n",
              "      display: none;\n",
              "      fill: #1967D2;\n",
              "      height: 32px;\n",
              "      padding: 0 0 0 0;\n",
              "      width: 32px;\n",
              "    }\n",
              "\n",
              "    .colab-df-convert:hover {\n",
              "      background-color: #E2EBFA;\n",
              "      box-shadow: 0px 1px 2px rgba(60, 64, 67, 0.3), 0px 1px 3px 1px rgba(60, 64, 67, 0.15);\n",
              "      fill: #174EA6;\n",
              "    }\n",
              "\n",
              "    [theme=dark] .colab-df-convert {\n",
              "      background-color: #3B4455;\n",
              "      fill: #D2E3FC;\n",
              "    }\n",
              "\n",
              "    [theme=dark] .colab-df-convert:hover {\n",
              "      background-color: #434B5C;\n",
              "      box-shadow: 0px 1px 3px 1px rgba(0, 0, 0, 0.15);\n",
              "      filter: drop-shadow(0px 1px 2px rgba(0, 0, 0, 0.3));\n",
              "      fill: #FFFFFF;\n",
              "    }\n",
              "  </style>\n",
              "\n",
              "      <script>\n",
              "        const buttonEl =\n",
              "          document.querySelector('#df-2cc7a801-0aa7-453c-8950-f5066b1d4063 button.colab-df-convert');\n",
              "        buttonEl.style.display =\n",
              "          google.colab.kernel.accessAllowed ? 'block' : 'none';\n",
              "\n",
              "        async function convertToInteractive(key) {\n",
              "          const element = document.querySelector('#df-2cc7a801-0aa7-453c-8950-f5066b1d4063');\n",
              "          const dataTable =\n",
              "            await google.colab.kernel.invokeFunction('convertToInteractive',\n",
              "                                                     [key], {});\n",
              "          if (!dataTable) return;\n",
              "\n",
              "          const docLinkHtml = 'Like what you see? Visit the ' +\n",
              "            '<a target=\"_blank\" href=https://colab.research.google.com/notebooks/data_table.ipynb>data table notebook</a>'\n",
              "            + ' to learn more about interactive tables.';\n",
              "          element.innerHTML = '';\n",
              "          dataTable['output_type'] = 'display_data';\n",
              "          await google.colab.output.renderOutput(dataTable, element);\n",
              "          const docLink = document.createElement('div');\n",
              "          docLink.innerHTML = docLinkHtml;\n",
              "          element.appendChild(docLink);\n",
              "        }\n",
              "      </script>\n",
              "    </div>\n",
              "  </div>\n",
              "  "
            ]
          },
          "metadata": {},
          "execution_count": 278
        }
      ]
    },
    {
      "cell_type": "code",
      "source": [
        "#Уберём столбцы, которые не оказывают влияние на целевое значение, чтобы с датафреймом было проще работать\n",
        "# Также, нам необходимо заменить tuned на street в car_type, так как tuned является подклассом race, но это выделение нигде не используется\n",
        "gran_turismo.pop('w_kg')\n",
        "gran_turismo.pop('model')\n",
        "gran_turismo.pop('img_url')\n",
        "gran_turismo['car_type'] = np.where((gran_turismo.car_type == 'Tuned'), 'Race', gran_turismo.car_type)\n",
        "\n"
      ],
      "metadata": {
        "colab": {
          "base_uri": "https://localhost:8080/"
        },
        "id": "cA6w8iIzLOXI",
        "outputId": "14d84a9c-7259-4e90-db83-f4d2f4357a0c"
      },
      "id": "cA6w8iIzLOXI",
      "execution_count": 279,
      "outputs": [
        {
          "output_type": "stream",
          "name": "stderr",
          "text": [
            "/usr/local/lib/python3.7/dist-packages/ipykernel_launcher.py:6: SettingWithCopyWarning: \n",
            "A value is trying to be set on a copy of a slice from a DataFrame.\n",
            "Try using .loc[row_indexer,col_indexer] = value instead\n",
            "\n",
            "See the caveats in the documentation: https://pandas.pydata.org/pandas-docs/stable/user_guide/indexing.html#returning-a-view-versus-a-copy\n",
            "  \n"
          ]
        }
      ]
    },
    {
      "cell_type": "code",
      "execution_count": 280,
      "id": "9c61198d",
      "metadata": {
        "id": "9c61198d"
      },
      "outputs": [],
      "source": [
        "#Разобьём датасет на тестовую и тренировочную датафреймы\n",
        "gran_turismo_3 = gran_turismo.copy()\n",
        "gran_turismo_3.pop('brand')\n",
        "\n",
        "\n",
        "gran_turismo_3 = gran_turismo_3[gran_turismo_3.drive != 'RR']\n"
      ]
    },
    {
      "cell_type": "markdown",
      "source": [
        "# 1.0. Применить классификатор CatBoostClassifier к вашему набору данных."
      ],
      "metadata": {
        "id": "0dCcsrn3oixd"
      },
      "id": "0dCcsrn3oixd"
    },
    {
      "cell_type": "code",
      "source": [
        "# Выделим целевое значение\n",
        "y=  gran_turismo_3.car_type\n",
        "print(y)\n",
        "X=gran_turismo_3.drop(\"car_type\", axis=1)\n",
        "X.head()\n",
        "\n"
      ],
      "metadata": {
        "colab": {
          "base_uri": "https://localhost:8080/",
          "height": 423
        },
        "id": "LqsBZvPIjTyi",
        "outputId": "91ba2aab-b9f7-455e-f3b8-246d5ba9baf9"
      },
      "id": "LqsBZvPIjTyi",
      "execution_count": 281,
      "outputs": [
        {
          "output_type": "stream",
          "name": "stdout",
          "text": [
            "0       Street\n",
            "1         Race\n",
            "3       Street\n",
            "4       Street\n",
            "5       Street\n",
            "         ...  \n",
            "1265    Street\n",
            "1266    Street\n",
            "1267    Street\n",
            "1268    Street\n",
            "1269    Street\n",
            "Name: car_type, Length: 1013, dtype: object\n"
          ]
        },
        {
          "output_type": "execute_result",
          "data": {
            "text/plain": [
              "      price drive     hp  weight  torque\n",
              "0  423200.0    FR  478.0  1311.0   651.0\n",
              "1  100000.0    FR  430.0  1155.0   495.0\n",
              "3   29500.0    FF  133.0  1035.0   180.0\n",
              "4   27000.0    FF  153.0  1240.0   230.0\n",
              "5   32180.0    FF  260.0  1592.0   315.0"
            ],
            "text/html": [
              "\n",
              "  <div id=\"df-b7201424-9331-4bf2-98e7-c878d3141573\">\n",
              "    <div class=\"colab-df-container\">\n",
              "      <div>\n",
              "<style scoped>\n",
              "    .dataframe tbody tr th:only-of-type {\n",
              "        vertical-align: middle;\n",
              "    }\n",
              "\n",
              "    .dataframe tbody tr th {\n",
              "        vertical-align: top;\n",
              "    }\n",
              "\n",
              "    .dataframe thead th {\n",
              "        text-align: right;\n",
              "    }\n",
              "</style>\n",
              "<table border=\"1\" class=\"dataframe\">\n",
              "  <thead>\n",
              "    <tr style=\"text-align: right;\">\n",
              "      <th></th>\n",
              "      <th>price</th>\n",
              "      <th>drive</th>\n",
              "      <th>hp</th>\n",
              "      <th>weight</th>\n",
              "      <th>torque</th>\n",
              "    </tr>\n",
              "  </thead>\n",
              "  <tbody>\n",
              "    <tr>\n",
              "      <th>0</th>\n",
              "      <td>423200.0</td>\n",
              "      <td>FR</td>\n",
              "      <td>478.0</td>\n",
              "      <td>1311.0</td>\n",
              "      <td>651.0</td>\n",
              "    </tr>\n",
              "    <tr>\n",
              "      <th>1</th>\n",
              "      <td>100000.0</td>\n",
              "      <td>FR</td>\n",
              "      <td>430.0</td>\n",
              "      <td>1155.0</td>\n",
              "      <td>495.0</td>\n",
              "    </tr>\n",
              "    <tr>\n",
              "      <th>3</th>\n",
              "      <td>29500.0</td>\n",
              "      <td>FF</td>\n",
              "      <td>133.0</td>\n",
              "      <td>1035.0</td>\n",
              "      <td>180.0</td>\n",
              "    </tr>\n",
              "    <tr>\n",
              "      <th>4</th>\n",
              "      <td>27000.0</td>\n",
              "      <td>FF</td>\n",
              "      <td>153.0</td>\n",
              "      <td>1240.0</td>\n",
              "      <td>230.0</td>\n",
              "    </tr>\n",
              "    <tr>\n",
              "      <th>5</th>\n",
              "      <td>32180.0</td>\n",
              "      <td>FF</td>\n",
              "      <td>260.0</td>\n",
              "      <td>1592.0</td>\n",
              "      <td>315.0</td>\n",
              "    </tr>\n",
              "  </tbody>\n",
              "</table>\n",
              "</div>\n",
              "      <button class=\"colab-df-convert\" onclick=\"convertToInteractive('df-b7201424-9331-4bf2-98e7-c878d3141573')\"\n",
              "              title=\"Convert this dataframe to an interactive table.\"\n",
              "              style=\"display:none;\">\n",
              "        \n",
              "  <svg xmlns=\"http://www.w3.org/2000/svg\" height=\"24px\"viewBox=\"0 0 24 24\"\n",
              "       width=\"24px\">\n",
              "    <path d=\"M0 0h24v24H0V0z\" fill=\"none\"/>\n",
              "    <path d=\"M18.56 5.44l.94 2.06.94-2.06 2.06-.94-2.06-.94-.94-2.06-.94 2.06-2.06.94zm-11 1L8.5 8.5l.94-2.06 2.06-.94-2.06-.94L8.5 2.5l-.94 2.06-2.06.94zm10 10l.94 2.06.94-2.06 2.06-.94-2.06-.94-.94-2.06-.94 2.06-2.06.94z\"/><path d=\"M17.41 7.96l-1.37-1.37c-.4-.4-.92-.59-1.43-.59-.52 0-1.04.2-1.43.59L10.3 9.45l-7.72 7.72c-.78.78-.78 2.05 0 2.83L4 21.41c.39.39.9.59 1.41.59.51 0 1.02-.2 1.41-.59l7.78-7.78 2.81-2.81c.8-.78.8-2.07 0-2.86zM5.41 20L4 18.59l7.72-7.72 1.47 1.35L5.41 20z\"/>\n",
              "  </svg>\n",
              "      </button>\n",
              "      \n",
              "  <style>\n",
              "    .colab-df-container {\n",
              "      display:flex;\n",
              "      flex-wrap:wrap;\n",
              "      gap: 12px;\n",
              "    }\n",
              "\n",
              "    .colab-df-convert {\n",
              "      background-color: #E8F0FE;\n",
              "      border: none;\n",
              "      border-radius: 50%;\n",
              "      cursor: pointer;\n",
              "      display: none;\n",
              "      fill: #1967D2;\n",
              "      height: 32px;\n",
              "      padding: 0 0 0 0;\n",
              "      width: 32px;\n",
              "    }\n",
              "\n",
              "    .colab-df-convert:hover {\n",
              "      background-color: #E2EBFA;\n",
              "      box-shadow: 0px 1px 2px rgba(60, 64, 67, 0.3), 0px 1px 3px 1px rgba(60, 64, 67, 0.15);\n",
              "      fill: #174EA6;\n",
              "    }\n",
              "\n",
              "    [theme=dark] .colab-df-convert {\n",
              "      background-color: #3B4455;\n",
              "      fill: #D2E3FC;\n",
              "    }\n",
              "\n",
              "    [theme=dark] .colab-df-convert:hover {\n",
              "      background-color: #434B5C;\n",
              "      box-shadow: 0px 1px 3px 1px rgba(0, 0, 0, 0.15);\n",
              "      filter: drop-shadow(0px 1px 2px rgba(0, 0, 0, 0.3));\n",
              "      fill: #FFFFFF;\n",
              "    }\n",
              "  </style>\n",
              "\n",
              "      <script>\n",
              "        const buttonEl =\n",
              "          document.querySelector('#df-b7201424-9331-4bf2-98e7-c878d3141573 button.colab-df-convert');\n",
              "        buttonEl.style.display =\n",
              "          google.colab.kernel.accessAllowed ? 'block' : 'none';\n",
              "\n",
              "        async function convertToInteractive(key) {\n",
              "          const element = document.querySelector('#df-b7201424-9331-4bf2-98e7-c878d3141573');\n",
              "          const dataTable =\n",
              "            await google.colab.kernel.invokeFunction('convertToInteractive',\n",
              "                                                     [key], {});\n",
              "          if (!dataTable) return;\n",
              "\n",
              "          const docLinkHtml = 'Like what you see? Visit the ' +\n",
              "            '<a target=\"_blank\" href=https://colab.research.google.com/notebooks/data_table.ipynb>data table notebook</a>'\n",
              "            + ' to learn more about interactive tables.';\n",
              "          element.innerHTML = '';\n",
              "          dataTable['output_type'] = 'display_data';\n",
              "          await google.colab.output.renderOutput(dataTable, element);\n",
              "          const docLink = document.createElement('div');\n",
              "          docLink.innerHTML = docLinkHtml;\n",
              "          element.appendChild(docLink);\n",
              "        }\n",
              "      </script>\n",
              "    </div>\n",
              "  </div>\n",
              "  "
            ]
          },
          "metadata": {},
          "execution_count": 281
        }
      ]
    },
    {
      "cell_type": "code",
      "source": [
        "# Теперь необходимо задать колонки категориальных признаков\n",
        "cat_features = list([1])\n",
        "print(cat_features)"
      ],
      "metadata": {
        "colab": {
          "base_uri": "https://localhost:8080/"
        },
        "id": "vCorOfSfzDHF",
        "outputId": "98a95af6-c4ef-49fa-d7f6-260324cf77b0"
      },
      "id": "vCorOfSfzDHF",
      "execution_count": 282,
      "outputs": [
        {
          "output_type": "stream",
          "name": "stdout",
          "text": [
            "[1]\n"
          ]
        }
      ]
    },
    {
      "cell_type": "code",
      "source": [
        "# Теперь необходимо разбить датафрейм на тестовую и обучающую выборки\n",
        "X_train, X_test, y_train, y_test = train_test_split(X, y, test_size=.25, stratify=y, random_state=0)\n",
        "\n"
      ],
      "metadata": {
        "id": "iC_UEgom_HF0"
      },
      "id": "iC_UEgom_HF0",
      "execution_count": 283,
      "outputs": []
    },
    {
      "cell_type": "markdown",
      "source": [
        "# 1.1. Переходим к построению модели Catboost"
      ],
      "metadata": {
        "id": "x4cdGcQwBJ45"
      },
      "id": "x4cdGcQwBJ45"
    },
    {
      "cell_type": "code",
      "source": [
        "model = CatBoostClassifier(\n",
        "    iterations=100,\n",
        "    learning_rate=0.1,\n",
        "    loss_function='Logloss', \n",
        ")\n",
        "model.fit(\n",
        "    X_train, y_train,\n",
        "    cat_features=cat_features,\n",
        "    eval_set=(X_test, y_test),\n",
        "    verbose = False\n",
        "    \n",
        ")\n",
        "\n",
        "print(f'Model is fitted: {str(model.is_fitted())}')\n",
        "print(f'Model params: {model.get_params()}')"
      ],
      "metadata": {
        "colab": {
          "base_uri": "https://localhost:8080/"
        },
        "id": "_6X5HWDIBIe8",
        "outputId": "d75ba354-2ef2-4695-c258-e6ce7d2a124e"
      },
      "id": "_6X5HWDIBIe8",
      "execution_count": 284,
      "outputs": [
        {
          "output_type": "stream",
          "name": "stdout",
          "text": [
            "Model is fitted: True\n",
            "Model params: {'iterations': 100, 'learning_rate': 0.1, 'loss_function': 'Logloss'}\n"
          ]
        }
      ]
    },
    {
      "cell_type": "code",
      "source": [
        "# Определим итерацию с наименьшим logloss\n",
        "\n",
        "model.get_best_iteration()"
      ],
      "metadata": {
        "colab": {
          "base_uri": "https://localhost:8080/"
        },
        "id": "oWYxQsAdCcMP",
        "outputId": "78848e20-7a5b-4b99-d9ce-c7114f68a25e"
      },
      "id": "oWYxQsAdCcMP",
      "execution_count": 285,
      "outputs": [
        {
          "output_type": "execute_result",
          "data": {
            "text/plain": [
              "98"
            ]
          },
          "metadata": {},
          "execution_count": 285
        }
      ]
    },
    {
      "cell_type": "code",
      "source": [
        "# Определим значения для данной итерации\n",
        "\n",
        "model.best_score_"
      ],
      "metadata": {
        "colab": {
          "base_uri": "https://localhost:8080/"
        },
        "id": "-c0Mz-dNCyWA",
        "outputId": "93f5665d-2f70-4497-9e15-3d50da572d0e"
      },
      "id": "-c0Mz-dNCyWA",
      "execution_count": 286,
      "outputs": [
        {
          "output_type": "execute_result",
          "data": {
            "text/plain": [
              "{'learn': {'Logloss': 0.14572914167920292},\n",
              " 'validation': {'Logloss': 0.18546620538706224}}"
            ]
          },
          "metadata": {},
          "execution_count": 286
        }
      ]
    },
    {
      "cell_type": "code",
      "source": [
        "print(sklearn.metrics.classification_report( \n",
        "    model.predict(X_test), y_test, target_names=[\"two\", \"four\"]\n",
        ") )"
      ],
      "metadata": {
        "colab": {
          "base_uri": "https://localhost:8080/"
        },
        "id": "r2M4IJ9mDwFt",
        "outputId": "89526792-1e69-4b16-cd9b-baca4d3bba43"
      },
      "id": "r2M4IJ9mDwFt",
      "execution_count": 287,
      "outputs": [
        {
          "output_type": "stream",
          "name": "stdout",
          "text": [
            "              precision    recall  f1-score   support\n",
            "\n",
            "         two       0.81      0.86      0.83        50\n",
            "        four       0.97      0.95      0.96       204\n",
            "\n",
            "    accuracy                           0.93       254\n",
            "   macro avg       0.89      0.91      0.90       254\n",
            "weighted avg       0.93      0.93      0.93       254\n",
            "\n"
          ]
        }
      ]
    },
    {
      "cell_type": "markdown",
      "source": [
        "# 2.0. Применить регрессию CatBoostRegressor к набору данных для регрессии."
      ],
      "metadata": {
        "id": "vp3HCAkCEcXp"
      },
      "id": "vp3HCAkCEcXp"
    },
    {
      "cell_type": "code",
      "source": [
        "# Добавим в список категориальные признаки\n",
        "\n",
        "gran_turismo_4 = gran_turismo_3.copy()\n",
        "col = list(['car_type', 'drive'])\n",
        "\n",
        "for i in col: \n",
        "    gran_turismo_4[i] = pd.factorize(gran_turismo_3[i])[0]"
      ],
      "metadata": {
        "id": "9LGWBTO8El08"
      },
      "id": "9LGWBTO8El08",
      "execution_count": 288,
      "outputs": []
    },
    {
      "cell_type": "code",
      "source": [
        "y_r=  gran_turismo_4.car_type\n",
        "print(y)\n",
        "X_r=gran_turismo_4.drop(\"car_type\", axis=1)\n",
        "X.head()"
      ],
      "metadata": {
        "colab": {
          "base_uri": "https://localhost:8080/",
          "height": 423
        },
        "id": "bqFqpI4ZJqjs",
        "outputId": "65357cde-73ac-4f64-cfc5-df871cdf1218"
      },
      "id": "bqFqpI4ZJqjs",
      "execution_count": 289,
      "outputs": [
        {
          "output_type": "stream",
          "name": "stdout",
          "text": [
            "0       Street\n",
            "1         Race\n",
            "3       Street\n",
            "4       Street\n",
            "5       Street\n",
            "         ...  \n",
            "1265    Street\n",
            "1266    Street\n",
            "1267    Street\n",
            "1268    Street\n",
            "1269    Street\n",
            "Name: car_type, Length: 1013, dtype: object\n"
          ]
        },
        {
          "output_type": "execute_result",
          "data": {
            "text/plain": [
              "      price drive     hp  weight  torque\n",
              "0  423200.0    FR  478.0  1311.0   651.0\n",
              "1  100000.0    FR  430.0  1155.0   495.0\n",
              "3   29500.0    FF  133.0  1035.0   180.0\n",
              "4   27000.0    FF  153.0  1240.0   230.0\n",
              "5   32180.0    FF  260.0  1592.0   315.0"
            ],
            "text/html": [
              "\n",
              "  <div id=\"df-2c938b6b-c32f-4646-897c-6dfb4c98fdee\">\n",
              "    <div class=\"colab-df-container\">\n",
              "      <div>\n",
              "<style scoped>\n",
              "    .dataframe tbody tr th:only-of-type {\n",
              "        vertical-align: middle;\n",
              "    }\n",
              "\n",
              "    .dataframe tbody tr th {\n",
              "        vertical-align: top;\n",
              "    }\n",
              "\n",
              "    .dataframe thead th {\n",
              "        text-align: right;\n",
              "    }\n",
              "</style>\n",
              "<table border=\"1\" class=\"dataframe\">\n",
              "  <thead>\n",
              "    <tr style=\"text-align: right;\">\n",
              "      <th></th>\n",
              "      <th>price</th>\n",
              "      <th>drive</th>\n",
              "      <th>hp</th>\n",
              "      <th>weight</th>\n",
              "      <th>torque</th>\n",
              "    </tr>\n",
              "  </thead>\n",
              "  <tbody>\n",
              "    <tr>\n",
              "      <th>0</th>\n",
              "      <td>423200.0</td>\n",
              "      <td>FR</td>\n",
              "      <td>478.0</td>\n",
              "      <td>1311.0</td>\n",
              "      <td>651.0</td>\n",
              "    </tr>\n",
              "    <tr>\n",
              "      <th>1</th>\n",
              "      <td>100000.0</td>\n",
              "      <td>FR</td>\n",
              "      <td>430.0</td>\n",
              "      <td>1155.0</td>\n",
              "      <td>495.0</td>\n",
              "    </tr>\n",
              "    <tr>\n",
              "      <th>3</th>\n",
              "      <td>29500.0</td>\n",
              "      <td>FF</td>\n",
              "      <td>133.0</td>\n",
              "      <td>1035.0</td>\n",
              "      <td>180.0</td>\n",
              "    </tr>\n",
              "    <tr>\n",
              "      <th>4</th>\n",
              "      <td>27000.0</td>\n",
              "      <td>FF</td>\n",
              "      <td>153.0</td>\n",
              "      <td>1240.0</td>\n",
              "      <td>230.0</td>\n",
              "    </tr>\n",
              "    <tr>\n",
              "      <th>5</th>\n",
              "      <td>32180.0</td>\n",
              "      <td>FF</td>\n",
              "      <td>260.0</td>\n",
              "      <td>1592.0</td>\n",
              "      <td>315.0</td>\n",
              "    </tr>\n",
              "  </tbody>\n",
              "</table>\n",
              "</div>\n",
              "      <button class=\"colab-df-convert\" onclick=\"convertToInteractive('df-2c938b6b-c32f-4646-897c-6dfb4c98fdee')\"\n",
              "              title=\"Convert this dataframe to an interactive table.\"\n",
              "              style=\"display:none;\">\n",
              "        \n",
              "  <svg xmlns=\"http://www.w3.org/2000/svg\" height=\"24px\"viewBox=\"0 0 24 24\"\n",
              "       width=\"24px\">\n",
              "    <path d=\"M0 0h24v24H0V0z\" fill=\"none\"/>\n",
              "    <path d=\"M18.56 5.44l.94 2.06.94-2.06 2.06-.94-2.06-.94-.94-2.06-.94 2.06-2.06.94zm-11 1L8.5 8.5l.94-2.06 2.06-.94-2.06-.94L8.5 2.5l-.94 2.06-2.06.94zm10 10l.94 2.06.94-2.06 2.06-.94-2.06-.94-.94-2.06-.94 2.06-2.06.94z\"/><path d=\"M17.41 7.96l-1.37-1.37c-.4-.4-.92-.59-1.43-.59-.52 0-1.04.2-1.43.59L10.3 9.45l-7.72 7.72c-.78.78-.78 2.05 0 2.83L4 21.41c.39.39.9.59 1.41.59.51 0 1.02-.2 1.41-.59l7.78-7.78 2.81-2.81c.8-.78.8-2.07 0-2.86zM5.41 20L4 18.59l7.72-7.72 1.47 1.35L5.41 20z\"/>\n",
              "  </svg>\n",
              "      </button>\n",
              "      \n",
              "  <style>\n",
              "    .colab-df-container {\n",
              "      display:flex;\n",
              "      flex-wrap:wrap;\n",
              "      gap: 12px;\n",
              "    }\n",
              "\n",
              "    .colab-df-convert {\n",
              "      background-color: #E8F0FE;\n",
              "      border: none;\n",
              "      border-radius: 50%;\n",
              "      cursor: pointer;\n",
              "      display: none;\n",
              "      fill: #1967D2;\n",
              "      height: 32px;\n",
              "      padding: 0 0 0 0;\n",
              "      width: 32px;\n",
              "    }\n",
              "\n",
              "    .colab-df-convert:hover {\n",
              "      background-color: #E2EBFA;\n",
              "      box-shadow: 0px 1px 2px rgba(60, 64, 67, 0.3), 0px 1px 3px 1px rgba(60, 64, 67, 0.15);\n",
              "      fill: #174EA6;\n",
              "    }\n",
              "\n",
              "    [theme=dark] .colab-df-convert {\n",
              "      background-color: #3B4455;\n",
              "      fill: #D2E3FC;\n",
              "    }\n",
              "\n",
              "    [theme=dark] .colab-df-convert:hover {\n",
              "      background-color: #434B5C;\n",
              "      box-shadow: 0px 1px 3px 1px rgba(0, 0, 0, 0.15);\n",
              "      filter: drop-shadow(0px 1px 2px rgba(0, 0, 0, 0.3));\n",
              "      fill: #FFFFFF;\n",
              "    }\n",
              "  </style>\n",
              "\n",
              "      <script>\n",
              "        const buttonEl =\n",
              "          document.querySelector('#df-2c938b6b-c32f-4646-897c-6dfb4c98fdee button.colab-df-convert');\n",
              "        buttonEl.style.display =\n",
              "          google.colab.kernel.accessAllowed ? 'block' : 'none';\n",
              "\n",
              "        async function convertToInteractive(key) {\n",
              "          const element = document.querySelector('#df-2c938b6b-c32f-4646-897c-6dfb4c98fdee');\n",
              "          const dataTable =\n",
              "            await google.colab.kernel.invokeFunction('convertToInteractive',\n",
              "                                                     [key], {});\n",
              "          if (!dataTable) return;\n",
              "\n",
              "          const docLinkHtml = 'Like what you see? Visit the ' +\n",
              "            '<a target=\"_blank\" href=https://colab.research.google.com/notebooks/data_table.ipynb>data table notebook</a>'\n",
              "            + ' to learn more about interactive tables.';\n",
              "          element.innerHTML = '';\n",
              "          dataTable['output_type'] = 'display_data';\n",
              "          await google.colab.output.renderOutput(dataTable, element);\n",
              "          const docLink = document.createElement('div');\n",
              "          docLink.innerHTML = docLinkHtml;\n",
              "          element.appendChild(docLink);\n",
              "        }\n",
              "      </script>\n",
              "    </div>\n",
              "  </div>\n",
              "  "
            ]
          },
          "metadata": {},
          "execution_count": 289
        }
      ]
    },
    {
      "cell_type": "code",
      "source": [
        "X_train_r, X_test_r, y_train_r, y_test_r = sklearn.model_selection.train_test_split(\n",
        "    X_r, y_r, random_state = 0\n",
        ")"
      ],
      "metadata": {
        "id": "XVzyx7fpH2CU"
      },
      "id": "XVzyx7fpH2CU",
      "execution_count": 290,
      "outputs": []
    },
    {
      "cell_type": "markdown",
      "source": [
        "# 2.1. Вывести номер итерации и значения метрик (MAE и MSE) для наилучшей итерации"
      ],
      "metadata": {
        "id": "uBfmQbpCKZQg"
      },
      "id": "uBfmQbpCKZQg"
    },
    {
      "cell_type": "code",
      "source": [
        "# Метрика MSE\n",
        "\n",
        "# Необходимо создать и передать выборку КБ\n",
        "\n",
        "model_r = CatBoostRegressor(iterations=500, learning_rate=0.1, use_best_model=True, loss_function = 'RMSE') \n",
        "model_r.fit(X_train_r, y_train_r, verbose=False, eval_set=(X_test_r, y_test_r))"
      ],
      "metadata": {
        "colab": {
          "base_uri": "https://localhost:8080/"
        },
        "id": "WknGMB8hJiNd",
        "outputId": "3ae55deb-ad05-48fc-922c-0d533d9c0351"
      },
      "id": "WknGMB8hJiNd",
      "execution_count": 291,
      "outputs": [
        {
          "output_type": "execute_result",
          "data": {
            "text/plain": [
              "<catboost.core.CatBoostRegressor at 0x7f182f2b1050>"
            ]
          },
          "metadata": {},
          "execution_count": 291
        }
      ]
    },
    {
      "cell_type": "code",
      "source": [
        "# Выведем лучшую итерацию\n",
        "\n",
        "model_r.get_best_iteration()"
      ],
      "metadata": {
        "colab": {
          "base_uri": "https://localhost:8080/"
        },
        "id": "N1Nsw5xkNUS0",
        "outputId": "5bd8ec8c-926f-489e-a29a-16a09d4b1f21"
      },
      "id": "N1Nsw5xkNUS0",
      "execution_count": 292,
      "outputs": [
        {
          "output_type": "execute_result",
          "data": {
            "text/plain": [
              "493"
            ]
          },
          "metadata": {},
          "execution_count": 292
        }
      ]
    },
    {
      "cell_type": "code",
      "source": [
        "# Перейдём к подсчёту метрик\n",
        "\n",
        "print(f'MAE: {str(sklearn.metrics.mean_absolute_error(y_test_r, model_r.predict(data=X_test_r)))}')\n",
        "print(f'MSE: {str(sklearn.metrics.mean_squared_error(y_test_r, model_r.predict(data=X_test_r)))}')"
      ],
      "metadata": {
        "colab": {
          "base_uri": "https://localhost:8080/"
        },
        "id": "9W9e-8CnNZi3",
        "outputId": "8ae40c86-28fd-4d11-8f01-bd43a41f968e"
      },
      "id": "9W9e-8CnNZi3",
      "execution_count": 293,
      "outputs": [
        {
          "output_type": "stream",
          "name": "stdout",
          "text": [
            "MAE: 0.09677561187765914\n",
            "MSE: 0.05089287762973158\n"
          ]
        }
      ]
    },
    {
      "cell_type": "code",
      "source": [
        "# Метрика MAE\n",
        "\n",
        "# Необходимо создать и передать выборку КБ\n",
        "\n",
        "model_r = CatBoostRegressor(iterations=500, learning_rate=0.1, use_best_model=True, loss_function = 'MAE') \n",
        "model_r.fit(X_train_r, y_train_r, verbose=False, eval_set=(X_test_r, y_test_r))"
      ],
      "metadata": {
        "colab": {
          "base_uri": "https://localhost:8080/"
        },
        "id": "AE3vBvsROSc6",
        "outputId": "43d44c9f-7519-41e4-c9d9-47c6ef9610d3"
      },
      "id": "AE3vBvsROSc6",
      "execution_count": 294,
      "outputs": [
        {
          "output_type": "execute_result",
          "data": {
            "text/plain": [
              "<catboost.core.CatBoostRegressor at 0x7f182f9114d0>"
            ]
          },
          "metadata": {},
          "execution_count": 294
        }
      ]
    },
    {
      "cell_type": "code",
      "source": [
        "# Выведем лучшую итерацию\n",
        "\n",
        "model_r.get_best_iteration()"
      ],
      "metadata": {
        "colab": {
          "base_uri": "https://localhost:8080/"
        },
        "id": "Xsujq9B-O2Ny",
        "outputId": "fe1fca7a-57f6-4f52-e244-08e1c7afc66e"
      },
      "id": "Xsujq9B-O2Ny",
      "execution_count": 295,
      "outputs": [
        {
          "output_type": "execute_result",
          "data": {
            "text/plain": [
              "471"
            ]
          },
          "metadata": {},
          "execution_count": 295
        }
      ]
    },
    {
      "cell_type": "code",
      "source": [
        "# Ещё раз подсчитаем метрики\n",
        "\n",
        "print('MAE: ' + str(sklearn.metrics.mean_absolute_error(y_test_r, model_r.predict(data=X_test_r))))\n",
        "print('MSE: ' + str(sklearn.metrics.mean_squared_error(y_test_r, model_r.predict(data=X_test_r))))"
      ],
      "metadata": {
        "colab": {
          "base_uri": "https://localhost:8080/"
        },
        "id": "8jR0KoP0PY7F",
        "outputId": "3333a5f4-2ef5-414e-b7be-944698d0522a"
      },
      "id": "8jR0KoP0PY7F",
      "execution_count": 296,
      "outputs": [
        {
          "output_type": "stream",
          "name": "stdout",
          "text": [
            "MAE: 0.09408717927297197\n",
            "MSE: 0.0680880479145578\n"
          ]
        }
      ]
    },
    {
      "cell_type": "markdown",
      "source": [
        "# 2.2. Построить кривые PRC и ROC. Вычислить значения PRC-AUC и ROC-AUC."
      ],
      "metadata": {
        "id": "RxnvXCYOSd4A"
      },
      "id": "RxnvXCYOSd4A"
    },
    {
      "cell_type": "code",
      "source": [
        "# Построим ROC-кривую\n",
        "\n",
        "plt.figure(figsize=(15, 5))\n",
        "\n",
        "plt.plot(fpr, tpr, color='green', lw=3, label='ROC curve (area = %0.3f)' % roc_auc, alpha=0.5)\n",
        "\n",
        " #настроим область отображения, размеры шрифта, подписи и тд\n",
        "plt.xlim([0.0, 1.0])\n",
        "plt.ylim([0.6, 1.05])\n",
        "plt.xticks(fontsize=16)\n",
        "plt.yticks(fontsize=16)\n",
        "plt.grid(True)\n",
        "plt.xlabel('False positive', fontsize=16)\n",
        "plt.ylabel('True positive', fontsize=16)\n",
        "plt.title('ROC curve', fontsize=24)\n",
        "plt.show()"
      ],
      "metadata": {
        "colab": {
          "base_uri": "https://localhost:8080/",
          "height": 369
        },
        "id": "iehlwjSZkzFj",
        "outputId": "11137f40-2170-4443-f29b-c7f400d7eeb3"
      },
      "id": "iehlwjSZkzFj",
      "execution_count": 297,
      "outputs": [
        {
          "output_type": "display_data",
          "data": {
            "text/plain": [
              "<Figure size 1080x360 with 1 Axes>"
            ],
            "image/png": "[encoded data removed]"
          },
          "metadata": {
            "needs_background": "light"
          }
        }
      ]
    },
    {
      "cell_type": "code",
      "source": [
        "# Теперь построим PRC-кривую\n",
        "\n",
        "fig, ax = plt.subplots(figsize=(15, 5))\n",
        "\n",
        "\n",
        "sklearn.metrics.plot_precision_recall_curve(model, X_test, y_test, ax=ax, lw = 3)\n",
        "\n",
        "plt.xlim([0.0, 1.0])\n",
        "plt.ylim([0.6, 1.05])\n",
        "plt.xticks(fontsize=16)\n",
        "plt.yticks(fontsize=16)\n",
        "plt.grid(True)\n",
        "plt.xlabel('Recall', fontsize=16)\n",
        "plt.ylabel('Precision', fontsize=16)\n",
        "plt.title('PRC', fontsize=24)\n",
        "\n",
        "plt.show()"
      ],
      "metadata": {
        "colab": {
          "base_uri": "https://localhost:8080/",
          "height": 425
        },
        "id": "PKQgutLWlUwi",
        "outputId": "38a03718-8347-495a-ec3e-d5eb6828c061"
      },
      "id": "PKQgutLWlUwi",
      "execution_count": 298,
      "outputs": [
        {
          "output_type": "stream",
          "name": "stderr",
          "text": [
            "/usr/local/lib/python3.7/dist-packages/sklearn/utils/deprecation.py:87: FutureWarning: Function plot_precision_recall_curve is deprecated; Function `plot_precision_recall_curve` is deprecated in 1.0 and will be removed in 1.2. Use one of the class methods: PrecisionRecallDisplay.from_predictions or PrecisionRecallDisplay.from_estimator.\n",
            "  warnings.warn(msg, category=FutureWarning)\n"
          ]
        },
        {
          "output_type": "display_data",
          "data": {
            "text/plain": [
              "<Figure size 1080x360 with 1 Axes>"
            ],
            "image/png": "[encoded data removed]"
          },
          "metadata": {
            "needs_background": "light"
          }
        }
      ]
    },
    {
      "cell_type": "code",
      "source": [
        "eval_pool = Pool(X_test, y_test, cat_features=cat_features) \n",
        "curve = get_roc_curve(model, eval_pool)\n",
        "(fpr, tpr, thresholds) = curve\n",
        "roc_auc = sklearn.metrics.auc(fpr, tpr)\n",
        "\n",
        "# Выведем ROC AUC\n",
        "print(f'ROC-AUC: {str(roc_auc)}')\n",
        "\n",
        "# Выведем RPC AUC\n",
        "s = sklearn.metrics.average_precision_score(pd.factorize(y_test)[0], model.predict_proba(X_test)[:,0]) \n",
        "print(f'RPC-AUC:  {str(s)}')"
      ],
      "metadata": {
        "colab": {
          "base_uri": "https://localhost:8080/"
        },
        "id": "PE5HtU98mGbS",
        "outputId": "1efcef59-6080-4f0b-d58b-16fc34f33a54"
      },
      "id": "PE5HtU98mGbS",
      "execution_count": 299,
      "outputs": [
        {
          "output_type": "stream",
          "name": "stdout",
          "text": [
            "ROC-AUC: 0.9604806157889796\n",
            "RPC-AUC:  0.9062107486402184\n"
          ]
        }
      ]
    }
  ],
  "metadata": {
    "kernelspec": {
      "display_name": "Python 3 (ipykernel)",
      "language": "python",
      "name": "python3"
    },
    "language_info": {
      "codemirror_mode": {
        "name": "ipython",
        "version": 3
      },
      "file_extension": ".py",
      "mimetype": "text/x-python",
      "name": "python",
      "nbconvert_exporter": "python",
      "pygments_lexer": "ipython3",
      "version": "3.8.5"
    },
    "colab": {
      "name": "Lab_5_Catboost_6133_Korshikov_VI.ipynb",
      "provenance": [],
      "collapsed_sections": []
    }
  },
  "nbformat": 4,
  "nbformat_minor": 5
}