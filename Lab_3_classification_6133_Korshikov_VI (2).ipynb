{
  "cells": [
    {
      "cell_type": "markdown",
      "id": "f0b7b965",
      "metadata": {
        "id": "f0b7b965"
      },
      "source": [
        "# Лабораторная работа №3. Классификация данных.\n",
        "## Выполнил Коршиков Владислав Игоревич, группа 6133-010402D"
      ]
    },
    {
      "cell_type": "code",
      "source": [
        "# Подключаемся к Google Диск\n",
        "from google.colab import drive\n",
        "drive.mount(\"/content/drive\")"
      ],
      "metadata": {
        "colab": {
          "base_uri": "https://localhost:8080/"
        },
        "id": "B1r8C8UvB6Xh",
        "outputId": "1c500367-ba30-4082-e24e-f07358bc42e0"
      },
      "id": "B1r8C8UvB6Xh",
      "execution_count": 26,
      "outputs": [
        {
          "output_type": "stream",
          "name": "stdout",
          "text": [
            "Drive already mounted at /content/drive; to attempt to forcibly remount, call drive.mount(\"/content/drive\", force_remount=True).\n"
          ]
        }
      ]
    },
    {
      "cell_type": "code",
      "execution_count": 27,
      "id": "02ad4b76-02c3-4778-95c3-eec40ac0b8ad",
      "metadata": {
        "tags": [],
        "id": "02ad4b76-02c3-4778-95c3-eec40ac0b8ad"
      },
      "outputs": [],
      "source": [
        "# Импортируем необходимые библиотеки\n",
        "import pandas as pd\n",
        "import numpy as np\n",
        "import matplotlib.pyplot as plt\n",
        "import seaborn as sns\n",
        "from sklearn.model_selection import train_test_split\n",
        "from sklearn.naive_bayes import GaussianNB\n",
        "\n",
        "from sklearn.metrics import classification_report\n",
        "from sklearn.metrics import confusion_matrix\n",
        "from sklearn.metrics import accuracy_score\n",
        "from sklearn.neighbors import KNeighborsClassifier\n",
        "from sklearn.svm import SVC\n",
        "from sklearn.preprocessing import MinMaxScaler\n",
        "from sklearn.model_selection import StratifiedKFold, RandomizedSearchCV, train_test_split, cross_val_score\n",
        "\n",
        "from sklearn.model_selection import StratifiedKFold\n",
        "from sklearn.model_selection import GridSearchCV\n",
        "from sklearn.model_selection import train_test_split\n",
        "from sklearn.metrics import classification_report,confusion_matrix\n",
        "from sklearn.tree import DecisionTreeClassifier\n",
        "from sklearn.model_selection import cross_val_score\n",
        "\n",
        "from sklearn import metrics\n",
        "from sklearn.metrics import recall_score, precision_score, f1_score, classification_report\n",
        "\n",
        "import warnings\n",
        "import sys  \n",
        "if not sys.warnoptions:\n",
        "    warnings.simplefilter(\"ignore\")"
      ]
    },
    {
      "cell_type": "markdown",
      "id": "48ea23a5",
      "metadata": {
        "id": "48ea23a5"
      },
      "source": [
        "Для данной лабораторной работы использовался DataFrame, содержащий все машины из Gran Turismo 6: https://www.kaggle.com/prasertk/gran-turismo-6-cars/version/1\n",
        "\n",
        "Категориальные: car_type, drive\n",
        "\n",
        "Числовые: price, hp, weight, torque"
      ]
    },
    {
      "cell_type": "code",
      "source": [
        "# Загрузим датафрейм и удалим строчки с пустующими значениями\n",
        "gran_turismo_a = pd.read_csv(\"/content/drive/MyDrive/gran_turismo_gt6.csv\") \n",
        "gran_turismo_2=gran_turismo_a\n",
        "gran_turismo=gran_turismo_2.dropna(axis=0)\n",
        "gran_turismo.isnull().sum()"
      ],
      "metadata": {
        "colab": {
          "base_uri": "https://localhost:8080/"
        },
        "id": "J0etrKMzCxTy",
        "outputId": "7827c304-10fe-49ea-a017-1b12c954508f"
      },
      "id": "J0etrKMzCxTy",
      "execution_count": 28,
      "outputs": [
        {
          "output_type": "execute_result",
          "data": {
            "text/plain": [
              "brand       0\n",
              "model       0\n",
              "car_type    0\n",
              "img_url     0\n",
              "price       0\n",
              "drive       0\n",
              "hp          0\n",
              "weight      0\n",
              "torque      0\n",
              "w_kg        0\n",
              "dtype: int64"
            ]
          },
          "metadata": {},
          "execution_count": 28
        }
      ]
    },
    {
      "cell_type": "code",
      "source": [
        "gran_turismo"
      ],
      "metadata": {
        "colab": {
          "base_uri": "https://localhost:8080/",
          "height": 423
        },
        "id": "lv2LJe5zNOKs",
        "outputId": "a98f7679-cdcf-42f8-c9ba-9db8eb9b8f36"
      },
      "id": "lv2LJe5zNOKs",
      "execution_count": 29,
      "outputs": [
        {
          "output_type": "execute_result",
          "data": {
            "text/plain": [
              "           brand               model car_type  \\\n",
              "0        AC Cars         427 S/C '66   Street   \n",
              "1            AEM               S2000    Tuned   \n",
              "3         Abarth             500 '09   Street   \n",
              "4         Abarth    Grande Punto '09   Street   \n",
              "5          Acura   CL 3.2 Type-S '01   Street   \n",
              "...          ...                 ...      ...   \n",
              "1265  Volkswagen      Scirocco R '10   Street   \n",
              "1266  Volkswagen       W12 Nardo '01   Street   \n",
              "1267       Volvo  240 GLT Estate '88   Street   \n",
              "1268       Volvo    C30 R-Design '09   Street   \n",
              "1269       Volvo   S60 T-5 Sport '03   Street   \n",
              "\n",
              "                                                img_url      price drive  \\\n",
              "0     https://www.kudosprime.com/gt6/images/cars/gt6...   423200.0    FR   \n",
              "1     https://www.kudosprime.com/gt6/images/cars/gt6...   100000.0    FR   \n",
              "3     https://www.kudosprime.com/gt6/images/cars/gt6...    29500.0    FF   \n",
              "4     https://www.kudosprime.com/gt6/images/cars/gt6...    27000.0    FF   \n",
              "5     https://www.kudosprime.com/gt6/images/cars/gt6...    32180.0    FF   \n",
              "...                                                 ...        ...   ...   \n",
              "1265  https://www.kudosprime.com/gt6/images/cars/gt6...    51500.0    FF   \n",
              "1266  https://www.kudosprime.com/gt6/images/cars/gt6...  1250000.0    MR   \n",
              "1267  https://www.kudosprime.com/gt6/images/cars/gt6...    15920.0    FR   \n",
              "1268  https://www.kudosprime.com/gt6/images/cars/gt6...    42000.0    FF   \n",
              "1269  https://www.kudosprime.com/gt6/images/cars/gt6...    35580.0    FF   \n",
              "\n",
              "         hp  weight  torque             w_kg  \n",
              "0     478.0  1311.0   651.0    272 to ? W/Kg  \n",
              "1     430.0  1155.0   495.0  278 to 345 W/Kg  \n",
              "3     133.0  1035.0   180.0   96 to 251 W/Kg  \n",
              "4     153.0  1240.0   230.0     92 to ? W/Kg  \n",
              "5     260.0  1592.0   315.0    122 to ? W/Kg  \n",
              "...     ...     ...     ...              ...  \n",
              "1265  252.0  1410.0   330.0  133 to 298 W/Kg  \n",
              "1266  574.0  1300.0   620.0    329 to ? W/Kg  \n",
              "1267  127.0  1890.0   190.0     50 to ? W/Kg  \n",
              "1268  227.0  1430.0   319.0    118 to ? W/Kg  \n",
              "1269  246.0  1550.0   330.0    119 to ? W/Kg  \n",
              "\n",
              "[1031 rows x 10 columns]"
            ],
            "text/html": [
              "\n",
              "  <div id=\"df-2d2d1f73-279d-44da-a372-1245c0340c15\">\n",
              "    <div class=\"colab-df-container\">\n",
              "      <div>\n",
              "<style scoped>\n",
              "    .dataframe tbody tr th:only-of-type {\n",
              "        vertical-align: middle;\n",
              "    }\n",
              "\n",
              "    .dataframe tbody tr th {\n",
              "        vertical-align: top;\n",
              "    }\n",
              "\n",
              "    .dataframe thead th {\n",
              "        text-align: right;\n",
              "    }\n",
              "</style>\n",
              "<table border=\"1\" class=\"dataframe\">\n",
              "  <thead>\n",
              "    <tr style=\"text-align: right;\">\n",
              "      <th></th>\n",
              "      <th>brand</th>\n",
              "      <th>model</th>\n",
              "      <th>car_type</th>\n",
              "      <th>img_url</th>\n",
              "      <th>price</th>\n",
              "      <th>drive</th>\n",
              "      <th>hp</th>\n",
              "      <th>weight</th>\n",
              "      <th>torque</th>\n",
              "      <th>w_kg</th>\n",
              "    </tr>\n",
              "  </thead>\n",
              "  <tbody>\n",
              "    <tr>\n",
              "      <th>0</th>\n",
              "      <td>AC Cars</td>\n",
              "      <td>427 S/C '66</td>\n",
              "      <td>Street</td>\n",
              "      <td>https://www.kudosprime.com/gt6/images/cars/gt6...</td>\n",
              "      <td>423200.0</td>\n",
              "      <td>FR</td>\n",
              "      <td>478.0</td>\n",
              "      <td>1311.0</td>\n",
              "      <td>651.0</td>\n",
              "      <td>272 to ? W/Kg</td>\n",
              "    </tr>\n",
              "    <tr>\n",
              "      <th>1</th>\n",
              "      <td>AEM</td>\n",
              "      <td>S2000</td>\n",
              "      <td>Tuned</td>\n",
              "      <td>https://www.kudosprime.com/gt6/images/cars/gt6...</td>\n",
              "      <td>100000.0</td>\n",
              "      <td>FR</td>\n",
              "      <td>430.0</td>\n",
              "      <td>1155.0</td>\n",
              "      <td>495.0</td>\n",
              "      <td>278 to 345 W/Kg</td>\n",
              "    </tr>\n",
              "    <tr>\n",
              "      <th>3</th>\n",
              "      <td>Abarth</td>\n",
              "      <td>500 '09</td>\n",
              "      <td>Street</td>\n",
              "      <td>https://www.kudosprime.com/gt6/images/cars/gt6...</td>\n",
              "      <td>29500.0</td>\n",
              "      <td>FF</td>\n",
              "      <td>133.0</td>\n",
              "      <td>1035.0</td>\n",
              "      <td>180.0</td>\n",
              "      <td>96 to 251 W/Kg</td>\n",
              "    </tr>\n",
              "    <tr>\n",
              "      <th>4</th>\n",
              "      <td>Abarth</td>\n",
              "      <td>Grande Punto '09</td>\n",
              "      <td>Street</td>\n",
              "      <td>https://www.kudosprime.com/gt6/images/cars/gt6...</td>\n",
              "      <td>27000.0</td>\n",
              "      <td>FF</td>\n",
              "      <td>153.0</td>\n",
              "      <td>1240.0</td>\n",
              "      <td>230.0</td>\n",
              "      <td>92 to ? W/Kg</td>\n",
              "    </tr>\n",
              "    <tr>\n",
              "      <th>5</th>\n",
              "      <td>Acura</td>\n",
              "      <td>CL 3.2 Type-S '01</td>\n",
              "      <td>Street</td>\n",
              "      <td>https://www.kudosprime.com/gt6/images/cars/gt6...</td>\n",
              "      <td>32180.0</td>\n",
              "      <td>FF</td>\n",
              "      <td>260.0</td>\n",
              "      <td>1592.0</td>\n",
              "      <td>315.0</td>\n",
              "      <td>122 to ? W/Kg</td>\n",
              "    </tr>\n",
              "    <tr>\n",
              "      <th>...</th>\n",
              "      <td>...</td>\n",
              "      <td>...</td>\n",
              "      <td>...</td>\n",
              "      <td>...</td>\n",
              "      <td>...</td>\n",
              "      <td>...</td>\n",
              "      <td>...</td>\n",
              "      <td>...</td>\n",
              "      <td>...</td>\n",
              "      <td>...</td>\n",
              "    </tr>\n",
              "    <tr>\n",
              "      <th>1265</th>\n",
              "      <td>Volkswagen</td>\n",
              "      <td>Scirocco R '10</td>\n",
              "      <td>Street</td>\n",
              "      <td>https://www.kudosprime.com/gt6/images/cars/gt6...</td>\n",
              "      <td>51500.0</td>\n",
              "      <td>FF</td>\n",
              "      <td>252.0</td>\n",
              "      <td>1410.0</td>\n",
              "      <td>330.0</td>\n",
              "      <td>133 to 298 W/Kg</td>\n",
              "    </tr>\n",
              "    <tr>\n",
              "      <th>1266</th>\n",
              "      <td>Volkswagen</td>\n",
              "      <td>W12 Nardo '01</td>\n",
              "      <td>Street</td>\n",
              "      <td>https://www.kudosprime.com/gt6/images/cars/gt6...</td>\n",
              "      <td>1250000.0</td>\n",
              "      <td>MR</td>\n",
              "      <td>574.0</td>\n",
              "      <td>1300.0</td>\n",
              "      <td>620.0</td>\n",
              "      <td>329 to ? W/Kg</td>\n",
              "    </tr>\n",
              "    <tr>\n",
              "      <th>1267</th>\n",
              "      <td>Volvo</td>\n",
              "      <td>240 GLT Estate '88</td>\n",
              "      <td>Street</td>\n",
              "      <td>https://www.kudosprime.com/gt6/images/cars/gt6...</td>\n",
              "      <td>15920.0</td>\n",
              "      <td>FR</td>\n",
              "      <td>127.0</td>\n",
              "      <td>1890.0</td>\n",
              "      <td>190.0</td>\n",
              "      <td>50 to ? W/Kg</td>\n",
              "    </tr>\n",
              "    <tr>\n",
              "      <th>1268</th>\n",
              "      <td>Volvo</td>\n",
              "      <td>C30 R-Design '09</td>\n",
              "      <td>Street</td>\n",
              "      <td>https://www.kudosprime.com/gt6/images/cars/gt6...</td>\n",
              "      <td>42000.0</td>\n",
              "      <td>FF</td>\n",
              "      <td>227.0</td>\n",
              "      <td>1430.0</td>\n",
              "      <td>319.0</td>\n",
              "      <td>118 to ? W/Kg</td>\n",
              "    </tr>\n",
              "    <tr>\n",
              "      <th>1269</th>\n",
              "      <td>Volvo</td>\n",
              "      <td>S60 T-5 Sport '03</td>\n",
              "      <td>Street</td>\n",
              "      <td>https://www.kudosprime.com/gt6/images/cars/gt6...</td>\n",
              "      <td>35580.0</td>\n",
              "      <td>FF</td>\n",
              "      <td>246.0</td>\n",
              "      <td>1550.0</td>\n",
              "      <td>330.0</td>\n",
              "      <td>119 to ? W/Kg</td>\n",
              "    </tr>\n",
              "  </tbody>\n",
              "</table>\n",
              "<p>1031 rows × 10 columns</p>\n",
              "</div>\n",
              "      <button class=\"colab-df-convert\" onclick=\"convertToInteractive('df-2d2d1f73-279d-44da-a372-1245c0340c15')\"\n",
              "              title=\"Convert this dataframe to an interactive table.\"\n",
              "              style=\"display:none;\">\n",
              "        \n",
              "  <svg xmlns=\"http://www.w3.org/2000/svg\" height=\"24px\"viewBox=\"0 0 24 24\"\n",
              "       width=\"24px\">\n",
              "    <path d=\"M0 0h24v24H0V0z\" fill=\"none\"/>\n",
              "    <path d=\"M18.56 5.44l.94 2.06.94-2.06 2.06-.94-2.06-.94-.94-2.06-.94 2.06-2.06.94zm-11 1L8.5 8.5l.94-2.06 2.06-.94-2.06-.94L8.5 2.5l-.94 2.06-2.06.94zm10 10l.94 2.06.94-2.06 2.06-.94-2.06-.94-.94-2.06-.94 2.06-2.06.94z\"/><path d=\"M17.41 7.96l-1.37-1.37c-.4-.4-.92-.59-1.43-.59-.52 0-1.04.2-1.43.59L10.3 9.45l-7.72 7.72c-.78.78-.78 2.05 0 2.83L4 21.41c.39.39.9.59 1.41.59.51 0 1.02-.2 1.41-.59l7.78-7.78 2.81-2.81c.8-.78.8-2.07 0-2.86zM5.41 20L4 18.59l7.72-7.72 1.47 1.35L5.41 20z\"/>\n",
              "  </svg>\n",
              "      </button>\n",
              "      \n",
              "  <style>\n",
              "    .colab-df-container {\n",
              "      display:flex;\n",
              "      flex-wrap:wrap;\n",
              "      gap: 12px;\n",
              "    }\n",
              "\n",
              "    .colab-df-convert {\n",
              "      background-color: #E8F0FE;\n",
              "      border: none;\n",
              "      border-radius: 50%;\n",
              "      cursor: pointer;\n",
              "      display: none;\n",
              "      fill: #1967D2;\n",
              "      height: 32px;\n",
              "      padding: 0 0 0 0;\n",
              "      width: 32px;\n",
              "    }\n",
              "\n",
              "    .colab-df-convert:hover {\n",
              "      background-color: #E2EBFA;\n",
              "      box-shadow: 0px 1px 2px rgba(60, 64, 67, 0.3), 0px 1px 3px 1px rgba(60, 64, 67, 0.15);\n",
              "      fill: #174EA6;\n",
              "    }\n",
              "\n",
              "    [theme=dark] .colab-df-convert {\n",
              "      background-color: #3B4455;\n",
              "      fill: #D2E3FC;\n",
              "    }\n",
              "\n",
              "    [theme=dark] .colab-df-convert:hover {\n",
              "      background-color: #434B5C;\n",
              "      box-shadow: 0px 1px 3px 1px rgba(0, 0, 0, 0.15);\n",
              "      filter: drop-shadow(0px 1px 2px rgba(0, 0, 0, 0.3));\n",
              "      fill: #FFFFFF;\n",
              "    }\n",
              "  </style>\n",
              "\n",
              "      <script>\n",
              "        const buttonEl =\n",
              "          document.querySelector('#df-2d2d1f73-279d-44da-a372-1245c0340c15 button.colab-df-convert');\n",
              "        buttonEl.style.display =\n",
              "          google.colab.kernel.accessAllowed ? 'block' : 'none';\n",
              "\n",
              "        async function convertToInteractive(key) {\n",
              "          const element = document.querySelector('#df-2d2d1f73-279d-44da-a372-1245c0340c15');\n",
              "          const dataTable =\n",
              "            await google.colab.kernel.invokeFunction('convertToInteractive',\n",
              "                                                     [key], {});\n",
              "          if (!dataTable) return;\n",
              "\n",
              "          const docLinkHtml = 'Like what you see? Visit the ' +\n",
              "            '<a target=\"_blank\" href=https://colab.research.google.com/notebooks/data_table.ipynb>data table notebook</a>'\n",
              "            + ' to learn more about interactive tables.';\n",
              "          element.innerHTML = '';\n",
              "          dataTable['output_type'] = 'display_data';\n",
              "          await google.colab.output.renderOutput(dataTable, element);\n",
              "          const docLink = document.createElement('div');\n",
              "          docLink.innerHTML = docLinkHtml;\n",
              "          element.appendChild(docLink);\n",
              "        }\n",
              "      </script>\n",
              "    </div>\n",
              "  </div>\n",
              "  "
            ]
          },
          "metadata": {},
          "execution_count": 29
        }
      ]
    },
    {
      "cell_type": "code",
      "source": [
        "#Уберём столбцы, которые не оказывают влияние на целевое значение, чтобы с датафреймом было проще работать\n",
        "# Также, нам необходимо заменить tuned на street в car_type, так как tuned является подклассом race, но это выделение нигде не используется\n",
        "gran_turismo.pop('w_kg')\n",
        "gran_turismo.pop('model')\n",
        "gran_turismo.pop('img_url')\n",
        "gran_turismo['car_type'] = np.where((gran_turismo.car_type == 'Tuned'), 'Race', gran_turismo.car_type)"
      ],
      "metadata": {
        "colab": {
          "base_uri": "https://localhost:8080/"
        },
        "id": "cA6w8iIzLOXI",
        "outputId": "7c6e740e-4114-47bf-c2b5-d43ce526488e"
      },
      "id": "cA6w8iIzLOXI",
      "execution_count": 30,
      "outputs": [
        {
          "output_type": "stream",
          "name": "stderr",
          "text": [
            "/usr/local/lib/python3.7/dist-packages/ipykernel_launcher.py:6: SettingWithCopyWarning: \n",
            "A value is trying to be set on a copy of a slice from a DataFrame.\n",
            "Try using .loc[row_indexer,col_indexer] = value instead\n",
            "\n",
            "See the caveats in the documentation: https://pandas.pydata.org/pandas-docs/stable/user_guide/indexing.html#returning-a-view-versus-a-copy\n",
            "  \n"
          ]
        }
      ]
    },
    {
      "cell_type": "markdown",
      "source": [
        "1. На любом датасете продемонстрировать многоклассовую классификацию с помощью ЛЮБОГО алгоритма. Оценить accuracy"
      ],
      "metadata": {
        "id": "mlzmMdVNd3SJ"
      },
      "id": "mlzmMdVNd3SJ"
    },
    {
      "cell_type": "code",
      "execution_count": 31,
      "id": "9c61198d",
      "metadata": {
        "id": "9c61198d"
      },
      "outputs": [],
      "source": [
        "\n",
        "#Разобьём датасет на тестовую и тренировочную датафреймы\n",
        "gran_turismo_3 = gran_turismo.copy()\n",
        "gran_turismo_3.pop('brand')\n",
        "\n",
        "\n",
        "gran_turismo_3 = gran_turismo_3[gran_turismo_3.drive != 'RR']\n",
        "\n",
        "gran_turismo_3['car_type'] = gran_turismo_3['car_type'].replace({\"Street\": 0, \"Race\": 1,})"
      ]
    },
    {
      "cell_type": "markdown",
      "source": [
        "# 1.1. На любом датасете продемонстрировать многоклассовую классификацию с помощью ЛЮБОГО алгоритма. Оценить accuracy."
      ],
      "metadata": {
        "id": "0dCcsrn3oixd"
      },
      "id": "0dCcsrn3oixd"
    },
    {
      "cell_type": "code",
      "source": [
        "y=  gran_turismo_3.drive\n",
        "print(y)\n",
        "X=gran_turismo_3.drop(\"drive\", axis=1)\n",
        "X.head()\n",
        "\n",
        "\n"
      ],
      "metadata": {
        "colab": {
          "base_uri": "https://localhost:8080/",
          "height": 423
        },
        "id": "LqsBZvPIjTyi",
        "outputId": "5a93a807-9ffc-49be-a842-56f248386609"
      },
      "id": "LqsBZvPIjTyi",
      "execution_count": 32,
      "outputs": [
        {
          "output_type": "stream",
          "name": "stdout",
          "text": [
            "0       FR\n",
            "1       FR\n",
            "3       FF\n",
            "4       FF\n",
            "5       FF\n",
            "        ..\n",
            "1265    FF\n",
            "1266    MR\n",
            "1267    FR\n",
            "1268    FF\n",
            "1269    FF\n",
            "Name: drive, Length: 1013, dtype: object\n"
          ]
        },
        {
          "output_type": "execute_result",
          "data": {
            "text/plain": [
              "   car_type     price     hp  weight  torque\n",
              "0         0  423200.0  478.0  1311.0   651.0\n",
              "1         1  100000.0  430.0  1155.0   495.0\n",
              "3         0   29500.0  133.0  1035.0   180.0\n",
              "4         0   27000.0  153.0  1240.0   230.0\n",
              "5         0   32180.0  260.0  1592.0   315.0"
            ],
            "text/html": [
              "\n",
              "  <div id=\"df-69e14db0-a94e-41b3-bd33-9d76f633bcd0\">\n",
              "    <div class=\"colab-df-container\">\n",
              "      <div>\n",
              "<style scoped>\n",
              "    .dataframe tbody tr th:only-of-type {\n",
              "        vertical-align: middle;\n",
              "    }\n",
              "\n",
              "    .dataframe tbody tr th {\n",
              "        vertical-align: top;\n",
              "    }\n",
              "\n",
              "    .dataframe thead th {\n",
              "        text-align: right;\n",
              "    }\n",
              "</style>\n",
              "<table border=\"1\" class=\"dataframe\">\n",
              "  <thead>\n",
              "    <tr style=\"text-align: right;\">\n",
              "      <th></th>\n",
              "      <th>car_type</th>\n",
              "      <th>price</th>\n",
              "      <th>hp</th>\n",
              "      <th>weight</th>\n",
              "      <th>torque</th>\n",
              "    </tr>\n",
              "  </thead>\n",
              "  <tbody>\n",
              "    <tr>\n",
              "      <th>0</th>\n",
              "      <td>0</td>\n",
              "      <td>423200.0</td>\n",
              "      <td>478.0</td>\n",
              "      <td>1311.0</td>\n",
              "      <td>651.0</td>\n",
              "    </tr>\n",
              "    <tr>\n",
              "      <th>1</th>\n",
              "      <td>1</td>\n",
              "      <td>100000.0</td>\n",
              "      <td>430.0</td>\n",
              "      <td>1155.0</td>\n",
              "      <td>495.0</td>\n",
              "    </tr>\n",
              "    <tr>\n",
              "      <th>3</th>\n",
              "      <td>0</td>\n",
              "      <td>29500.0</td>\n",
              "      <td>133.0</td>\n",
              "      <td>1035.0</td>\n",
              "      <td>180.0</td>\n",
              "    </tr>\n",
              "    <tr>\n",
              "      <th>4</th>\n",
              "      <td>0</td>\n",
              "      <td>27000.0</td>\n",
              "      <td>153.0</td>\n",
              "      <td>1240.0</td>\n",
              "      <td>230.0</td>\n",
              "    </tr>\n",
              "    <tr>\n",
              "      <th>5</th>\n",
              "      <td>0</td>\n",
              "      <td>32180.0</td>\n",
              "      <td>260.0</td>\n",
              "      <td>1592.0</td>\n",
              "      <td>315.0</td>\n",
              "    </tr>\n",
              "  </tbody>\n",
              "</table>\n",
              "</div>\n",
              "      <button class=\"colab-df-convert\" onclick=\"convertToInteractive('df-69e14db0-a94e-41b3-bd33-9d76f633bcd0')\"\n",
              "              title=\"Convert this dataframe to an interactive table.\"\n",
              "              style=\"display:none;\">\n",
              "        \n",
              "  <svg xmlns=\"http://www.w3.org/2000/svg\" height=\"24px\"viewBox=\"0 0 24 24\"\n",
              "       width=\"24px\">\n",
              "    <path d=\"M0 0h24v24H0V0z\" fill=\"none\"/>\n",
              "    <path d=\"M18.56 5.44l.94 2.06.94-2.06 2.06-.94-2.06-.94-.94-2.06-.94 2.06-2.06.94zm-11 1L8.5 8.5l.94-2.06 2.06-.94-2.06-.94L8.5 2.5l-.94 2.06-2.06.94zm10 10l.94 2.06.94-2.06 2.06-.94-2.06-.94-.94-2.06-.94 2.06-2.06.94z\"/><path d=\"M17.41 7.96l-1.37-1.37c-.4-.4-.92-.59-1.43-.59-.52 0-1.04.2-1.43.59L10.3 9.45l-7.72 7.72c-.78.78-.78 2.05 0 2.83L4 21.41c.39.39.9.59 1.41.59.51 0 1.02-.2 1.41-.59l7.78-7.78 2.81-2.81c.8-.78.8-2.07 0-2.86zM5.41 20L4 18.59l7.72-7.72 1.47 1.35L5.41 20z\"/>\n",
              "  </svg>\n",
              "      </button>\n",
              "      \n",
              "  <style>\n",
              "    .colab-df-container {\n",
              "      display:flex;\n",
              "      flex-wrap:wrap;\n",
              "      gap: 12px;\n",
              "    }\n",
              "\n",
              "    .colab-df-convert {\n",
              "      background-color: #E8F0FE;\n",
              "      border: none;\n",
              "      border-radius: 50%;\n",
              "      cursor: pointer;\n",
              "      display: none;\n",
              "      fill: #1967D2;\n",
              "      height: 32px;\n",
              "      padding: 0 0 0 0;\n",
              "      width: 32px;\n",
              "    }\n",
              "\n",
              "    .colab-df-convert:hover {\n",
              "      background-color: #E2EBFA;\n",
              "      box-shadow: 0px 1px 2px rgba(60, 64, 67, 0.3), 0px 1px 3px 1px rgba(60, 64, 67, 0.15);\n",
              "      fill: #174EA6;\n",
              "    }\n",
              "\n",
              "    [theme=dark] .colab-df-convert {\n",
              "      background-color: #3B4455;\n",
              "      fill: #D2E3FC;\n",
              "    }\n",
              "\n",
              "    [theme=dark] .colab-df-convert:hover {\n",
              "      background-color: #434B5C;\n",
              "      box-shadow: 0px 1px 3px 1px rgba(0, 0, 0, 0.15);\n",
              "      filter: drop-shadow(0px 1px 2px rgba(0, 0, 0, 0.3));\n",
              "      fill: #FFFFFF;\n",
              "    }\n",
              "  </style>\n",
              "\n",
              "      <script>\n",
              "        const buttonEl =\n",
              "          document.querySelector('#df-69e14db0-a94e-41b3-bd33-9d76f633bcd0 button.colab-df-convert');\n",
              "        buttonEl.style.display =\n",
              "          google.colab.kernel.accessAllowed ? 'block' : 'none';\n",
              "\n",
              "        async function convertToInteractive(key) {\n",
              "          const element = document.querySelector('#df-69e14db0-a94e-41b3-bd33-9d76f633bcd0');\n",
              "          const dataTable =\n",
              "            await google.colab.kernel.invokeFunction('convertToInteractive',\n",
              "                                                     [key], {});\n",
              "          if (!dataTable) return;\n",
              "\n",
              "          const docLinkHtml = 'Like what you see? Visit the ' +\n",
              "            '<a target=\"_blank\" href=https://colab.research.google.com/notebooks/data_table.ipynb>data table notebook</a>'\n",
              "            + ' to learn more about interactive tables.';\n",
              "          element.innerHTML = '';\n",
              "          dataTable['output_type'] = 'display_data';\n",
              "          await google.colab.output.renderOutput(dataTable, element);\n",
              "          const docLink = document.createElement('div');\n",
              "          docLink.innerHTML = docLinkHtml;\n",
              "          element.appendChild(docLink);\n",
              "        }\n",
              "      </script>\n",
              "    </div>\n",
              "  </div>\n",
              "  "
            ]
          },
          "metadata": {},
          "execution_count": 32
        }
      ]
    },
    {
      "cell_type": "code",
      "source": [
        "X_train, X_test, y_train, y_test = train_test_split(X, y, test_size=.25, stratify=y, random_state=12)\n",
        "\n",
        "\n",
        "\n",
        "\n",
        "\n",
        "\n",
        "KNN_model = KNeighborsClassifier(n_neighbors=7)\n",
        "\n",
        "KNN_model.fit(X_train, y_train)\n",
        "\n",
        "KNN_prediction = KNN_model.predict(X_test)\n",
        "\n",
        "print(accuracy_score(KNN_prediction, y_test))"
      ],
      "metadata": {
        "colab": {
          "base_uri": "https://localhost:8080/"
        },
        "id": "2WmtTVool3Tc",
        "outputId": "cf095711-aa04-4402-f759-ff5fa43da1a5"
      },
      "id": "2WmtTVool3Tc",
      "execution_count": 33,
      "outputs": [
        {
          "output_type": "stream",
          "name": "stdout",
          "text": [
            "0.5669291338582677\n"
          ]
        }
      ]
    },
    {
      "cell_type": "markdown",
      "source": [
        "неплохо, учитывая, что тут 4 класса и нет настройки"
      ],
      "metadata": {
        "id": "ngl_oLAAoy5B"
      },
      "id": "ngl_oLAAoy5B"
    },
    {
      "cell_type": "markdown",
      "source": [
        "# 1.2. А теперь сделаем то же самое, но с использованием кросс-валидации"
      ],
      "metadata": {
        "id": "JXf2H5tXpJkD"
      },
      "id": "JXf2H5tXpJkD"
    },
    {
      "cell_type": "code",
      "source": [
        "parametrs = {\n",
        "    \"n_neighbors\": np.array(range(1, 15, 1)),\n",
        "    \"weights\": [\"uniform\", \"distance\"],\n",
        "    \"algorithm\": [\"auto\", \"ball_tree\", \"kd_tree\", \"brute\"],\n",
        "    \"p\": [1, 2],\n",
        "    \"metric\": [\"minkowski\", \"euclidean\", \"manhattan\", \"chebyshev\", \"seuclidean\", \"mahalanobis\"]\n",
        "}\n"
      ],
      "metadata": {
        "id": "OfGe9hZyogjo"
      },
      "id": "OfGe9hZyogjo",
      "execution_count": 34,
      "outputs": []
    },
    {
      "cell_type": "code",
      "source": [
        "def random_search(model=None, refit=\"precision_macro\", params=parametrs, X=X, y=y): \n",
        "    \"\"\"\n",
        "    Данная функция позволяет производить подбор гиперпараметров с помощью RandomSearch\n",
        "    \"\"\"\n",
        "    random_search_cv = RandomizedSearchCV(\n",
        "        model, \n",
        "        params, \n",
        "        scoring=[\"f1_macro\", \"precision_macro\", \"recall_macro\"], \n",
        "        n_jobs=-1, \n",
        "        cv=StratifiedKFold(n_splits=5, random_state=7, shuffle=True), \n",
        "        verbose=3, \n",
        "        refit=refit\n",
        "    )\n",
        "    random_search = random_search_cv.fit(X, y)\n",
        "    print(f\"Best params for {refit}\")\n",
        "    print(random_search.best_params_)"
      ],
      "metadata": {
        "id": "6K7ybh13QHz-"
      },
      "id": "6K7ybh13QHz-",
      "execution_count": 35,
      "outputs": []
    },
    {
      "cell_type": "code",
      "source": [
        "def print_result(y_test=y_test, pred=None):\n",
        "    print(f\"Classification report: \\n {classification_report(y_test, pred)}\")\n",
        "    print(f\"Confusion matrix: \\n {confusion_matrix(y_test, pred)} \\n\")\n",
        "    sns.set(font_scale=0.8)\n",
        "    sns.heatmap(confusion_matrix(y_test, pred), linewidths=.5, cmap=\"mako\", annot=True)"
      ],
      "metadata": {
        "id": "MXbNnA86UL-g"
      },
      "id": "MXbNnA86UL-g",
      "execution_count": 36,
      "outputs": []
    },
    {
      "cell_type": "code",
      "source": [
        "random_search(model=KNN_model, refit=\"precision_macro\", params=parametrs, X=X, y=y)"
      ],
      "metadata": {
        "colab": {
          "base_uri": "https://localhost:8080/"
        },
        "id": "6EIjjmH_UVRM",
        "outputId": "6a7e91dc-6e1f-41b7-b4ae-952d79e45d06"
      },
      "id": "6EIjjmH_UVRM",
      "execution_count": 37,
      "outputs": [
        {
          "output_type": "stream",
          "name": "stdout",
          "text": [
            "Fitting 5 folds for each of 10 candidates, totalling 50 fits\n",
            "Best params for precision_macro\n",
            "{'weights': 'distance', 'p': 1, 'n_neighbors': 10, 'metric': 'manhattan', 'algorithm': 'auto'}\n"
          ]
        },
        {
          "output_type": "stream",
          "name": "stderr",
          "text": [
            "/usr/local/lib/python3.7/dist-packages/sklearn/model_selection/_validation.py:372: FitFailedWarning: \n",
            "15 fits failed out of a total of 50.\n",
            "The score on these train-test partitions for these parameters will be set to nan.\n",
            "If these failures are not expected, you can try to debug them by setting error_score='raise'.\n",
            "\n",
            "Below are more details about the failures:\n",
            "--------------------------------------------------------------------------------\n",
            "10 fits failed with the following error:\n",
            "Traceback (most recent call last):\n",
            "  File \"/usr/local/lib/python3.7/dist-packages/sklearn/model_selection/_validation.py\", line 680, in _fit_and_score\n",
            "    estimator.fit(X_train, y_train, **fit_params)\n",
            "  File \"/usr/local/lib/python3.7/dist-packages/sklearn/neighbors/_classification.py\", line 198, in fit\n",
            "    return self._fit(X, y)\n",
            "  File \"/usr/local/lib/python3.7/dist-packages/sklearn/neighbors/_base.py\", line 553, in _fit\n",
            "    **self.effective_metric_params_,\n",
            "  File \"sklearn/neighbors/_binary_tree.pxi\", line 966, in sklearn.neighbors._ball_tree.BinaryTree.__init__\n",
            "  File \"sklearn/metrics/_dist_metrics.pyx\", line 280, in sklearn.metrics._dist_metrics.DistanceMetric.get_metric\n",
            "  File \"sklearn/metrics/_dist_metrics.pyx\", line 462, in sklearn.metrics._dist_metrics.SEuclideanDistance.__init__\n",
            "TypeError: __init__() takes exactly 1 positional argument (0 given)\n",
            "\n",
            "--------------------------------------------------------------------------------\n",
            "5 fits failed with the following error:\n",
            "Traceback (most recent call last):\n",
            "  File \"/usr/local/lib/python3.7/dist-packages/sklearn/model_selection/_validation.py\", line 680, in _fit_and_score\n",
            "    estimator.fit(X_train, y_train, **fit_params)\n",
            "  File \"/usr/local/lib/python3.7/dist-packages/sklearn/neighbors/_classification.py\", line 198, in fit\n",
            "    return self._fit(X, y)\n",
            "  File \"/usr/local/lib/python3.7/dist-packages/sklearn/neighbors/_base.py\", line 553, in _fit\n",
            "    **self.effective_metric_params_,\n",
            "  File \"sklearn/neighbors/_binary_tree.pxi\", line 966, in sklearn.neighbors._ball_tree.BinaryTree.__init__\n",
            "  File \"sklearn/metrics/_dist_metrics.pyx\", line 280, in sklearn.metrics._dist_metrics.DistanceMetric.get_metric\n",
            "  File \"sklearn/metrics/_dist_metrics.pyx\", line 676, in sklearn.metrics._dist_metrics.MahalanobisDistance.__init__\n",
            "ValueError: Must provide either V or VI for Mahalanobis distance\n",
            "\n",
            "  warnings.warn(some_fits_failed_message, FitFailedWarning)\n",
            "/usr/local/lib/python3.7/dist-packages/sklearn/model_selection/_search.py:972: UserWarning: One or more of the test scores are non-finite: [0.63281722 0.50031197        nan 0.64748014 0.5234324         nan\n",
            " 0.61307906        nan 0.54017003 0.60832111]\n",
            "  category=UserWarning,\n",
            "/usr/local/lib/python3.7/dist-packages/sklearn/model_selection/_search.py:972: UserWarning: One or more of the test scores are non-finite: [0.64419184 0.55294215        nan 0.66916946 0.57641082        nan\n",
            " 0.635519          nan 0.57063292 0.61888614]\n",
            "  category=UserWarning,\n",
            "/usr/local/lib/python3.7/dist-packages/sklearn/model_selection/_search.py:972: UserWarning: One or more of the test scores are non-finite: [0.62760821 0.48863509        nan 0.6360818  0.51252185        nan\n",
            " 0.60201733        nan 0.53777886 0.60510288]\n",
            "  category=UserWarning,\n"
          ]
        }
      ]
    },
    {
      "cell_type": "markdown",
      "source": [
        "## Оптимальные значения{'weights': 'distance', 'p': 2, 'n_neighbors': 14, 'metric': 'chebyshev', 'algorithm': 'kd_tree'}"
      ],
      "metadata": {
        "id": "hoireGxTVEcY"
      },
      "id": "hoireGxTVEcY"
    },
    {
      "cell_type": "code",
      "source": [
        "KNeighborsRandom = KNeighborsClassifier(\n",
        "    weights=\"distance\", \n",
        "    p=2, \n",
        "    n_neighbors=14, \n",
        "    metric=\"chebyshev\", \n",
        "    algorithm=\"kd_tree\"\n",
        ")\n",
        "\n",
        "KNeighborsRandom.fit(X_train, y_train)\n",
        "KNeighborsRandomPredict = KNeighborsRandom.predict(X_test)\n",
        "score = accuracy_score(KNeighborsRandomPredict, y_test)\n",
        "print(f\"Average precision score with hyperparameter setting (RandomSearchcv): {np.mean(score) * 100:.2f}%\")"
      ],
      "metadata": {
        "colab": {
          "base_uri": "https://localhost:8080/"
        },
        "id": "MF79Wd-nWEsJ",
        "outputId": "59229a11-5cf9-40ed-dfdc-5104e42b9a76"
      },
      "id": "MF79Wd-nWEsJ",
      "execution_count": 38,
      "outputs": [
        {
          "output_type": "stream",
          "name": "stdout",
          "text": [
            "Average precision score with hyperparameter setting (RandomSearchcv): 62.20%\n"
          ]
        }
      ]
    },
    {
      "cell_type": "markdown",
      "source": [
        "## Как видно, кросс-валидация методом Random Search привела к существенному повышению точности"
      ],
      "metadata": {
        "id": "CWBL_4GGWefa"
      },
      "id": "CWBL_4GGWefa"
    },
    {
      "cell_type": "markdown",
      "source": [
        "# 1.3. Поиграться с гиперпараметром, связанным со сложностью модели (в случае kNN — k_neighbours) и построить график accuracy для train set и test_set для разных значений гиперпараметра "
      ],
      "metadata": {
        "id": "sWCmyZH1XkW-"
      },
      "id": "sWCmyZH1XkW-"
    },
    {
      "cell_type": "code",
      "source": [
        "neighbors = [3, 6, 7, 8, 9, 10, 11, 12]\n",
        "accuracy_list = []\n",
        "\n",
        "for neighbor in neighbors:\n",
        "  KNeighborsRandom = KNeighborsClassifier(\n",
        "      weights=\"distance\", \n",
        "      p=2, \n",
        "      n_neighbors=neighbor, \n",
        "      metric=\"chebyshev\", \n",
        "      algorithm=\"kd_tree\"\n",
        "  )\n",
        "\n",
        "  KNeighborsRandom.fit(X_train, y_train)\n",
        "  KNeighborsRandomPredict = KNeighborsRandom.predict(X_test)\n",
        "  accuracy_l = accuracy_score(KNeighborsRandomPredict, y_test)\n",
        "  accuracy_list.append(accuracy_l)\n",
        "\n",
        "print(accuracy_list)\n",
        "\n",
        "accuracy_dict = dict(zip(neighbors, accuracy_list))\n",
        "\n",
        "print(accuracy_dict)"
      ],
      "metadata": {
        "colab": {
          "base_uri": "https://localhost:8080/"
        },
        "id": "luXQa2lVQIdU",
        "outputId": "5d1a6da7-0d7f-4364-e5bd-e1257ae0ecc0"
      },
      "id": "luXQa2lVQIdU",
      "execution_count": 39,
      "outputs": [
        {
          "output_type": "stream",
          "name": "stdout",
          "text": [
            "[0.6141732283464567, 0.6141732283464567, 0.6377952755905512, 0.6338582677165354, 0.6338582677165354, 0.6259842519685039, 0.6220472440944882, 0.6220472440944882]\n",
            "{3: 0.6141732283464567, 6: 0.6141732283464567, 7: 0.6377952755905512, 8: 0.6338582677165354, 9: 0.6338582677165354, 10: 0.6259842519685039, 11: 0.6220472440944882, 12: 0.6220472440944882}\n"
          ]
        }
      ]
    },
    {
      "cell_type": "code",
      "source": [
        "plt.plot(neighbors, accuracy_list)\n",
        "plt.title('Точность в зависимости от количества соседей')\n",
        "plt.show()"
      ],
      "metadata": {
        "colab": {
          "base_uri": "https://localhost:8080/",
          "height": 281
        },
        "id": "fvHX7BnShbkM",
        "outputId": "a608746b-5159-45a3-b56f-7462930a6295"
      },
      "id": "fvHX7BnShbkM",
      "execution_count": 40,
      "outputs": [
        {
          "output_type": "display_data",
          "data": {
            "text/plain": [
              "<Figure size 432x288 with 1 Axes>"
            ],
            "image/png": "[encoded data removed]"
          },
          "metadata": {
            "needs_background": "light"
          }
        }
      ]
    },
    {
      "cell_type": "markdown",
      "source": [
        "## Как видно из графика, точность обучения зависит от количества соседей, но всё равно уступает оптимальному значению"
      ],
      "metadata": {
        "id": "3PpLfpU-jrAO"
      },
      "id": "3PpLfpU-jrAO"
    },
    {
      "cell_type": "markdown",
      "source": [
        "# 1.4. Построить confusion matrix (это вроде матрицы TN / TP/ FN/ FP, только расширенной для многоклассовой классификации, чтобы понять в какие стороны чаще ошибается классификатор)."
      ],
      "metadata": {
        "id": "QxXJwOxOkH1s"
      },
      "id": "QxXJwOxOkH1s"
    },
    {
      "cell_type": "code",
      "source": [
        "# Построим confusion matrix\n",
        "DTC = DecisionTreeClassifier()\n",
        "DTC.fit(X_train, y_train)\n",
        "DTCPredict = DTC.predict(X_test)\n",
        "sns.heatmap(confusion_matrix(y_test, DTCPredict), cmap=\"mako\")"
      ],
      "metadata": {
        "colab": {
          "base_uri": "https://localhost:8080/",
          "height": 283
        },
        "id": "9JTB3EqDj00E",
        "outputId": "00eea7f8-35d8-4927-d964-f2cc1f6aac18"
      },
      "id": "9JTB3EqDj00E",
      "execution_count": 41,
      "outputs": [
        {
          "output_type": "execute_result",
          "data": {
            "text/plain": [
              "<matplotlib.axes._subplots.AxesSubplot at 0x7f6af1d96b50>"
            ]
          },
          "metadata": {},
          "execution_count": 41
        },
        {
          "output_type": "display_data",
          "data": {
            "text/plain": [
              "<Figure size 432x288 with 2 Axes>"
            ],
            "image/png": "[encoded data removed]"
          },
          "metadata": {
            "needs_background": "light"
          }
        }
      ]
    },
    {
      "cell_type": "markdown",
      "source": [
        "# **2. Бинарная классификация.**\n",
        "\n",
        "На любом (но уже другом, бинарном) датасете продемонстрировать бинарную классификацию (можно использовать любой алгоритм), посчитать метрики: accuracy, precision, recall, f-measure, а также составить classification_report"
      ],
      "metadata": {
        "id": "TzgkYn9Nl7u9"
      },
      "id": "TzgkYn9Nl7u9"
    },
    {
      "cell_type": "code",
      "source": [
        "#Поменяем целевое значение на бинарное car_type\n",
        "gran_turismo_5 = gran_turismo_a.copy()"
      ],
      "metadata": {
        "id": "hW7OXEI_l5uY"
      },
      "id": "hW7OXEI_l5uY",
      "execution_count": 42,
      "outputs": []
    },
    {
      "cell_type": "code",
      "source": [
        "gran_turismo_5"
      ],
      "metadata": {
        "colab": {
          "base_uri": "https://localhost:8080/",
          "height": 423
        },
        "id": "NjuXZubsq9nt",
        "outputId": "b719b49e-6041-49b5-fee6-0dc45821e130"
      },
      "id": "NjuXZubsq9nt",
      "execution_count": 43,
      "outputs": [
        {
          "output_type": "execute_result",
          "data": {
            "text/plain": [
              "           brand                             model car_type  \\\n",
              "0        AC Cars                       427 S/C '66   Street   \n",
              "1            AEM                             S2000    Tuned   \n",
              "2         Abarth  1500 Biposto Bertone B.A.T 1 '52   Street   \n",
              "3         Abarth                           500 '09   Street   \n",
              "4         Abarth                  Grande Punto '09   Street   \n",
              "...          ...                               ...      ...   \n",
              "1265  Volkswagen                    Scirocco R '10   Street   \n",
              "1266  Volkswagen                     W12 Nardo '01   Street   \n",
              "1267       Volvo                240 GLT Estate '88   Street   \n",
              "1268       Volvo                  C30 R-Design '09   Street   \n",
              "1269       Volvo                 S60 T-5 Sport '03   Street   \n",
              "\n",
              "                                                img_url      price drive  \\\n",
              "0     https://www.kudosprime.com/gt6/images/cars/gt6...   423200.0    FR   \n",
              "1     https://www.kudosprime.com/gt6/images/cars/gt6...   100000.0    FR   \n",
              "2     https://www.kudosprime.com/gt6/images/cars/gt6...  3500000.0    FR   \n",
              "3     https://www.kudosprime.com/gt6/images/cars/gt6...    29500.0    FF   \n",
              "4     https://www.kudosprime.com/gt6/images/cars/gt6...    27000.0    FF   \n",
              "...                                                 ...        ...   ...   \n",
              "1265  https://www.kudosprime.com/gt6/images/cars/gt6...    51500.0    FF   \n",
              "1266  https://www.kudosprime.com/gt6/images/cars/gt6...  1250000.0    MR   \n",
              "1267  https://www.kudosprime.com/gt6/images/cars/gt6...    15920.0    FR   \n",
              "1268  https://www.kudosprime.com/gt6/images/cars/gt6...    42000.0    FF   \n",
              "1269  https://www.kudosprime.com/gt6/images/cars/gt6...    35580.0    FF   \n",
              "\n",
              "         hp  weight  torque             w_kg  \n",
              "0     478.0  1311.0   651.0    272 to ? W/Kg  \n",
              "1     430.0  1155.0   495.0  278 to 345 W/Kg  \n",
              "2      72.0   870.0     NaN   62 to 250 W/Kg  \n",
              "3     133.0  1035.0   180.0   96 to 251 W/Kg  \n",
              "4     153.0  1240.0   230.0     92 to ? W/Kg  \n",
              "...     ...     ...     ...              ...  \n",
              "1265  252.0  1410.0   330.0  133 to 298 W/Kg  \n",
              "1266  574.0  1300.0   620.0    329 to ? W/Kg  \n",
              "1267  127.0  1890.0   190.0     50 to ? W/Kg  \n",
              "1268  227.0  1430.0   319.0    118 to ? W/Kg  \n",
              "1269  246.0  1550.0   330.0    119 to ? W/Kg  \n",
              "\n",
              "[1270 rows x 10 columns]"
            ],
            "text/html": [
              "\n",
              "  <div id=\"df-7dde1038-59c5-48f8-a975-f593704050b0\">\n",
              "    <div class=\"colab-df-container\">\n",
              "      <div>\n",
              "<style scoped>\n",
              "    .dataframe tbody tr th:only-of-type {\n",
              "        vertical-align: middle;\n",
              "    }\n",
              "\n",
              "    .dataframe tbody tr th {\n",
              "        vertical-align: top;\n",
              "    }\n",
              "\n",
              "    .dataframe thead th {\n",
              "        text-align: right;\n",
              "    }\n",
              "</style>\n",
              "<table border=\"1\" class=\"dataframe\">\n",
              "  <thead>\n",
              "    <tr style=\"text-align: right;\">\n",
              "      <th></th>\n",
              "      <th>brand</th>\n",
              "      <th>model</th>\n",
              "      <th>car_type</th>\n",
              "      <th>img_url</th>\n",
              "      <th>price</th>\n",
              "      <th>drive</th>\n",
              "      <th>hp</th>\n",
              "      <th>weight</th>\n",
              "      <th>torque</th>\n",
              "      <th>w_kg</th>\n",
              "    </tr>\n",
              "  </thead>\n",
              "  <tbody>\n",
              "    <tr>\n",
              "      <th>0</th>\n",
              "      <td>AC Cars</td>\n",
              "      <td>427 S/C '66</td>\n",
              "      <td>Street</td>\n",
              "      <td>https://www.kudosprime.com/gt6/images/cars/gt6...</td>\n",
              "      <td>423200.0</td>\n",
              "      <td>FR</td>\n",
              "      <td>478.0</td>\n",
              "      <td>1311.0</td>\n",
              "      <td>651.0</td>\n",
              "      <td>272 to ? W/Kg</td>\n",
              "    </tr>\n",
              "    <tr>\n",
              "      <th>1</th>\n",
              "      <td>AEM</td>\n",
              "      <td>S2000</td>\n",
              "      <td>Tuned</td>\n",
              "      <td>https://www.kudosprime.com/gt6/images/cars/gt6...</td>\n",
              "      <td>100000.0</td>\n",
              "      <td>FR</td>\n",
              "      <td>430.0</td>\n",
              "      <td>1155.0</td>\n",
              "      <td>495.0</td>\n",
              "      <td>278 to 345 W/Kg</td>\n",
              "    </tr>\n",
              "    <tr>\n",
              "      <th>2</th>\n",
              "      <td>Abarth</td>\n",
              "      <td>1500 Biposto Bertone B.A.T 1 '52</td>\n",
              "      <td>Street</td>\n",
              "      <td>https://www.kudosprime.com/gt6/images/cars/gt6...</td>\n",
              "      <td>3500000.0</td>\n",
              "      <td>FR</td>\n",
              "      <td>72.0</td>\n",
              "      <td>870.0</td>\n",
              "      <td>NaN</td>\n",
              "      <td>62 to 250 W/Kg</td>\n",
              "    </tr>\n",
              "    <tr>\n",
              "      <th>3</th>\n",
              "      <td>Abarth</td>\n",
              "      <td>500 '09</td>\n",
              "      <td>Street</td>\n",
              "      <td>https://www.kudosprime.com/gt6/images/cars/gt6...</td>\n",
              "      <td>29500.0</td>\n",
              "      <td>FF</td>\n",
              "      <td>133.0</td>\n",
              "      <td>1035.0</td>\n",
              "      <td>180.0</td>\n",
              "      <td>96 to 251 W/Kg</td>\n",
              "    </tr>\n",
              "    <tr>\n",
              "      <th>4</th>\n",
              "      <td>Abarth</td>\n",
              "      <td>Grande Punto '09</td>\n",
              "      <td>Street</td>\n",
              "      <td>https://www.kudosprime.com/gt6/images/cars/gt6...</td>\n",
              "      <td>27000.0</td>\n",
              "      <td>FF</td>\n",
              "      <td>153.0</td>\n",
              "      <td>1240.0</td>\n",
              "      <td>230.0</td>\n",
              "      <td>92 to ? W/Kg</td>\n",
              "    </tr>\n",
              "    <tr>\n",
              "      <th>...</th>\n",
              "      <td>...</td>\n",
              "      <td>...</td>\n",
              "      <td>...</td>\n",
              "      <td>...</td>\n",
              "      <td>...</td>\n",
              "      <td>...</td>\n",
              "      <td>...</td>\n",
              "      <td>...</td>\n",
              "      <td>...</td>\n",
              "      <td>...</td>\n",
              "    </tr>\n",
              "    <tr>\n",
              "      <th>1265</th>\n",
              "      <td>Volkswagen</td>\n",
              "      <td>Scirocco R '10</td>\n",
              "      <td>Street</td>\n",
              "      <td>https://www.kudosprime.com/gt6/images/cars/gt6...</td>\n",
              "      <td>51500.0</td>\n",
              "      <td>FF</td>\n",
              "      <td>252.0</td>\n",
              "      <td>1410.0</td>\n",
              "      <td>330.0</td>\n",
              "      <td>133 to 298 W/Kg</td>\n",
              "    </tr>\n",
              "    <tr>\n",
              "      <th>1266</th>\n",
              "      <td>Volkswagen</td>\n",
              "      <td>W12 Nardo '01</td>\n",
              "      <td>Street</td>\n",
              "      <td>https://www.kudosprime.com/gt6/images/cars/gt6...</td>\n",
              "      <td>1250000.0</td>\n",
              "      <td>MR</td>\n",
              "      <td>574.0</td>\n",
              "      <td>1300.0</td>\n",
              "      <td>620.0</td>\n",
              "      <td>329 to ? W/Kg</td>\n",
              "    </tr>\n",
              "    <tr>\n",
              "      <th>1267</th>\n",
              "      <td>Volvo</td>\n",
              "      <td>240 GLT Estate '88</td>\n",
              "      <td>Street</td>\n",
              "      <td>https://www.kudosprime.com/gt6/images/cars/gt6...</td>\n",
              "      <td>15920.0</td>\n",
              "      <td>FR</td>\n",
              "      <td>127.0</td>\n",
              "      <td>1890.0</td>\n",
              "      <td>190.0</td>\n",
              "      <td>50 to ? W/Kg</td>\n",
              "    </tr>\n",
              "    <tr>\n",
              "      <th>1268</th>\n",
              "      <td>Volvo</td>\n",
              "      <td>C30 R-Design '09</td>\n",
              "      <td>Street</td>\n",
              "      <td>https://www.kudosprime.com/gt6/images/cars/gt6...</td>\n",
              "      <td>42000.0</td>\n",
              "      <td>FF</td>\n",
              "      <td>227.0</td>\n",
              "      <td>1430.0</td>\n",
              "      <td>319.0</td>\n",
              "      <td>118 to ? W/Kg</td>\n",
              "    </tr>\n",
              "    <tr>\n",
              "      <th>1269</th>\n",
              "      <td>Volvo</td>\n",
              "      <td>S60 T-5 Sport '03</td>\n",
              "      <td>Street</td>\n",
              "      <td>https://www.kudosprime.com/gt6/images/cars/gt6...</td>\n",
              "      <td>35580.0</td>\n",
              "      <td>FF</td>\n",
              "      <td>246.0</td>\n",
              "      <td>1550.0</td>\n",
              "      <td>330.0</td>\n",
              "      <td>119 to ? W/Kg</td>\n",
              "    </tr>\n",
              "  </tbody>\n",
              "</table>\n",
              "<p>1270 rows × 10 columns</p>\n",
              "</div>\n",
              "      <button class=\"colab-df-convert\" onclick=\"convertToInteractive('df-7dde1038-59c5-48f8-a975-f593704050b0')\"\n",
              "              title=\"Convert this dataframe to an interactive table.\"\n",
              "              style=\"display:none;\">\n",
              "        \n",
              "  <svg xmlns=\"http://www.w3.org/2000/svg\" height=\"24px\"viewBox=\"0 0 24 24\"\n",
              "       width=\"24px\">\n",
              "    <path d=\"M0 0h24v24H0V0z\" fill=\"none\"/>\n",
              "    <path d=\"M18.56 5.44l.94 2.06.94-2.06 2.06-.94-2.06-.94-.94-2.06-.94 2.06-2.06.94zm-11 1L8.5 8.5l.94-2.06 2.06-.94-2.06-.94L8.5 2.5l-.94 2.06-2.06.94zm10 10l.94 2.06.94-2.06 2.06-.94-2.06-.94-.94-2.06-.94 2.06-2.06.94z\"/><path d=\"M17.41 7.96l-1.37-1.37c-.4-.4-.92-.59-1.43-.59-.52 0-1.04.2-1.43.59L10.3 9.45l-7.72 7.72c-.78.78-.78 2.05 0 2.83L4 21.41c.39.39.9.59 1.41.59.51 0 1.02-.2 1.41-.59l7.78-7.78 2.81-2.81c.8-.78.8-2.07 0-2.86zM5.41 20L4 18.59l7.72-7.72 1.47 1.35L5.41 20z\"/>\n",
              "  </svg>\n",
              "      </button>\n",
              "      \n",
              "  <style>\n",
              "    .colab-df-container {\n",
              "      display:flex;\n",
              "      flex-wrap:wrap;\n",
              "      gap: 12px;\n",
              "    }\n",
              "\n",
              "    .colab-df-convert {\n",
              "      background-color: #E8F0FE;\n",
              "      border: none;\n",
              "      border-radius: 50%;\n",
              "      cursor: pointer;\n",
              "      display: none;\n",
              "      fill: #1967D2;\n",
              "      height: 32px;\n",
              "      padding: 0 0 0 0;\n",
              "      width: 32px;\n",
              "    }\n",
              "\n",
              "    .colab-df-convert:hover {\n",
              "      background-color: #E2EBFA;\n",
              "      box-shadow: 0px 1px 2px rgba(60, 64, 67, 0.3), 0px 1px 3px 1px rgba(60, 64, 67, 0.15);\n",
              "      fill: #174EA6;\n",
              "    }\n",
              "\n",
              "    [theme=dark] .colab-df-convert {\n",
              "      background-color: #3B4455;\n",
              "      fill: #D2E3FC;\n",
              "    }\n",
              "\n",
              "    [theme=dark] .colab-df-convert:hover {\n",
              "      background-color: #434B5C;\n",
              "      box-shadow: 0px 1px 3px 1px rgba(0, 0, 0, 0.15);\n",
              "      filter: drop-shadow(0px 1px 2px rgba(0, 0, 0, 0.3));\n",
              "      fill: #FFFFFF;\n",
              "    }\n",
              "  </style>\n",
              "\n",
              "      <script>\n",
              "        const buttonEl =\n",
              "          document.querySelector('#df-7dde1038-59c5-48f8-a975-f593704050b0 button.colab-df-convert');\n",
              "        buttonEl.style.display =\n",
              "          google.colab.kernel.accessAllowed ? 'block' : 'none';\n",
              "\n",
              "        async function convertToInteractive(key) {\n",
              "          const element = document.querySelector('#df-7dde1038-59c5-48f8-a975-f593704050b0');\n",
              "          const dataTable =\n",
              "            await google.colab.kernel.invokeFunction('convertToInteractive',\n",
              "                                                     [key], {});\n",
              "          if (!dataTable) return;\n",
              "\n",
              "          const docLinkHtml = 'Like what you see? Visit the ' +\n",
              "            '<a target=\"_blank\" href=https://colab.research.google.com/notebooks/data_table.ipynb>data table notebook</a>'\n",
              "            + ' to learn more about interactive tables.';\n",
              "          element.innerHTML = '';\n",
              "          dataTable['output_type'] = 'display_data';\n",
              "          await google.colab.output.renderOutput(dataTable, element);\n",
              "          const docLink = document.createElement('div');\n",
              "          docLink.innerHTML = docLinkHtml;\n",
              "          element.appendChild(docLink);\n",
              "        }\n",
              "      </script>\n",
              "    </div>\n",
              "  </div>\n",
              "  "
            ]
          },
          "metadata": {},
          "execution_count": 43
        }
      ]
    },
    {
      "cell_type": "code",
      "source": [
        "gran_turismo_5.pop('w_kg')\n",
        "gran_turismo_5.pop('model')\n",
        "gran_turismo_5.pop('img_url')\n",
        "gran_turismo_5.pop('brand')\n",
        "gran_turismo_5.pop('drive')\n",
        "gran_turismo_5['car_type'] = np.where((gran_turismo_5.car_type == 'Tuned'), 'Race', gran_turismo_5.car_type)\n",
        "gran_turismo_5['car_type'] = gran_turismo_5['car_type'].replace({\"Street\": 0, \"Race\": 1,})"
      ],
      "metadata": {
        "id": "3TRlcM1trdLv"
      },
      "id": "3TRlcM1trdLv",
      "execution_count": 44,
      "outputs": []
    },
    {
      "cell_type": "code",
      "source": [
        "gran_turismo_6=gran_turismo_5.dropna(axis=0)"
      ],
      "metadata": {
        "id": "y9j5m7bKsb9R"
      },
      "id": "y9j5m7bKsb9R",
      "execution_count": 45,
      "outputs": []
    },
    {
      "cell_type": "code",
      "source": [
        "y=  gran_turismo_6.car_type\n",
        "print(y)\n",
        "X=gran_turismo_6.drop(\"car_type\", axis=1)\n",
        "X.head()"
      ],
      "metadata": {
        "colab": {
          "base_uri": "https://localhost:8080/",
          "height": 423
        },
        "id": "7vssHYiDn7ip",
        "outputId": "3ead0ec1-a921-409d-ff55-807289baef43"
      },
      "id": "7vssHYiDn7ip",
      "execution_count": 46,
      "outputs": [
        {
          "output_type": "stream",
          "name": "stdout",
          "text": [
            "0       0\n",
            "1       1\n",
            "3       0\n",
            "4       0\n",
            "5       0\n",
            "       ..\n",
            "1265    0\n",
            "1266    0\n",
            "1267    0\n",
            "1268    0\n",
            "1269    0\n",
            "Name: car_type, Length: 1031, dtype: int64\n"
          ]
        },
        {
          "output_type": "execute_result",
          "data": {
            "text/plain": [
              "      price     hp  weight  torque\n",
              "0  423200.0  478.0  1311.0   651.0\n",
              "1  100000.0  430.0  1155.0   495.0\n",
              "3   29500.0  133.0  1035.0   180.0\n",
              "4   27000.0  153.0  1240.0   230.0\n",
              "5   32180.0  260.0  1592.0   315.0"
            ],
            "text/html": [
              "\n",
              "  <div id=\"df-79aa9789-dd05-4b85-9d7c-930b25658d80\">\n",
              "    <div class=\"colab-df-container\">\n",
              "      <div>\n",
              "<style scoped>\n",
              "    .dataframe tbody tr th:only-of-type {\n",
              "        vertical-align: middle;\n",
              "    }\n",
              "\n",
              "    .dataframe tbody tr th {\n",
              "        vertical-align: top;\n",
              "    }\n",
              "\n",
              "    .dataframe thead th {\n",
              "        text-align: right;\n",
              "    }\n",
              "</style>\n",
              "<table border=\"1\" class=\"dataframe\">\n",
              "  <thead>\n",
              "    <tr style=\"text-align: right;\">\n",
              "      <th></th>\n",
              "      <th>price</th>\n",
              "      <th>hp</th>\n",
              "      <th>weight</th>\n",
              "      <th>torque</th>\n",
              "    </tr>\n",
              "  </thead>\n",
              "  <tbody>\n",
              "    <tr>\n",
              "      <th>0</th>\n",
              "      <td>423200.0</td>\n",
              "      <td>478.0</td>\n",
              "      <td>1311.0</td>\n",
              "      <td>651.0</td>\n",
              "    </tr>\n",
              "    <tr>\n",
              "      <th>1</th>\n",
              "      <td>100000.0</td>\n",
              "      <td>430.0</td>\n",
              "      <td>1155.0</td>\n",
              "      <td>495.0</td>\n",
              "    </tr>\n",
              "    <tr>\n",
              "      <th>3</th>\n",
              "      <td>29500.0</td>\n",
              "      <td>133.0</td>\n",
              "      <td>1035.0</td>\n",
              "      <td>180.0</td>\n",
              "    </tr>\n",
              "    <tr>\n",
              "      <th>4</th>\n",
              "      <td>27000.0</td>\n",
              "      <td>153.0</td>\n",
              "      <td>1240.0</td>\n",
              "      <td>230.0</td>\n",
              "    </tr>\n",
              "    <tr>\n",
              "      <th>5</th>\n",
              "      <td>32180.0</td>\n",
              "      <td>260.0</td>\n",
              "      <td>1592.0</td>\n",
              "      <td>315.0</td>\n",
              "    </tr>\n",
              "  </tbody>\n",
              "</table>\n",
              "</div>\n",
              "      <button class=\"colab-df-convert\" onclick=\"convertToInteractive('df-79aa9789-dd05-4b85-9d7c-930b25658d80')\"\n",
              "              title=\"Convert this dataframe to an interactive table.\"\n",
              "              style=\"display:none;\">\n",
              "        \n",
              "  <svg xmlns=\"http://www.w3.org/2000/svg\" height=\"24px\"viewBox=\"0 0 24 24\"\n",
              "       width=\"24px\">\n",
              "    <path d=\"M0 0h24v24H0V0z\" fill=\"none\"/>\n",
              "    <path d=\"M18.56 5.44l.94 2.06.94-2.06 2.06-.94-2.06-.94-.94-2.06-.94 2.06-2.06.94zm-11 1L8.5 8.5l.94-2.06 2.06-.94-2.06-.94L8.5 2.5l-.94 2.06-2.06.94zm10 10l.94 2.06.94-2.06 2.06-.94-2.06-.94-.94-2.06-.94 2.06-2.06.94z\"/><path d=\"M17.41 7.96l-1.37-1.37c-.4-.4-.92-.59-1.43-.59-.52 0-1.04.2-1.43.59L10.3 9.45l-7.72 7.72c-.78.78-.78 2.05 0 2.83L4 21.41c.39.39.9.59 1.41.59.51 0 1.02-.2 1.41-.59l7.78-7.78 2.81-2.81c.8-.78.8-2.07 0-2.86zM5.41 20L4 18.59l7.72-7.72 1.47 1.35L5.41 20z\"/>\n",
              "  </svg>\n",
              "      </button>\n",
              "      \n",
              "  <style>\n",
              "    .colab-df-container {\n",
              "      display:flex;\n",
              "      flex-wrap:wrap;\n",
              "      gap: 12px;\n",
              "    }\n",
              "\n",
              "    .colab-df-convert {\n",
              "      background-color: #E8F0FE;\n",
              "      border: none;\n",
              "      border-radius: 50%;\n",
              "      cursor: pointer;\n",
              "      display: none;\n",
              "      fill: #1967D2;\n",
              "      height: 32px;\n",
              "      padding: 0 0 0 0;\n",
              "      width: 32px;\n",
              "    }\n",
              "\n",
              "    .colab-df-convert:hover {\n",
              "      background-color: #E2EBFA;\n",
              "      box-shadow: 0px 1px 2px rgba(60, 64, 67, 0.3), 0px 1px 3px 1px rgba(60, 64, 67, 0.15);\n",
              "      fill: #174EA6;\n",
              "    }\n",
              "\n",
              "    [theme=dark] .colab-df-convert {\n",
              "      background-color: #3B4455;\n",
              "      fill: #D2E3FC;\n",
              "    }\n",
              "\n",
              "    [theme=dark] .colab-df-convert:hover {\n",
              "      background-color: #434B5C;\n",
              "      box-shadow: 0px 1px 3px 1px rgba(0, 0, 0, 0.15);\n",
              "      filter: drop-shadow(0px 1px 2px rgba(0, 0, 0, 0.3));\n",
              "      fill: #FFFFFF;\n",
              "    }\n",
              "  </style>\n",
              "\n",
              "      <script>\n",
              "        const buttonEl =\n",
              "          document.querySelector('#df-79aa9789-dd05-4b85-9d7c-930b25658d80 button.colab-df-convert');\n",
              "        buttonEl.style.display =\n",
              "          google.colab.kernel.accessAllowed ? 'block' : 'none';\n",
              "\n",
              "        async function convertToInteractive(key) {\n",
              "          const element = document.querySelector('#df-79aa9789-dd05-4b85-9d7c-930b25658d80');\n",
              "          const dataTable =\n",
              "            await google.colab.kernel.invokeFunction('convertToInteractive',\n",
              "                                                     [key], {});\n",
              "          if (!dataTable) return;\n",
              "\n",
              "          const docLinkHtml = 'Like what you see? Visit the ' +\n",
              "            '<a target=\"_blank\" href=https://colab.research.google.com/notebooks/data_table.ipynb>data table notebook</a>'\n",
              "            + ' to learn more about interactive tables.';\n",
              "          element.innerHTML = '';\n",
              "          dataTable['output_type'] = 'display_data';\n",
              "          await google.colab.output.renderOutput(dataTable, element);\n",
              "          const docLink = document.createElement('div');\n",
              "          docLink.innerHTML = docLinkHtml;\n",
              "          element.appendChild(docLink);\n",
              "        }\n",
              "      </script>\n",
              "    </div>\n",
              "  </div>\n",
              "  "
            ]
          },
          "metadata": {},
          "execution_count": 46
        }
      ]
    },
    {
      "cell_type": "code",
      "source": [
        "X_train, X_test, y_train, y_test = train_test_split(X, y, test_size=.25, stratify=y, random_state=12)\n",
        "\n"
      ],
      "metadata": {
        "id": "w6zFytAAoZCr"
      },
      "id": "w6zFytAAoZCr",
      "execution_count": 47,
      "outputs": []
    },
    {
      "cell_type": "code",
      "source": [
        "KNeighborsRandom = KNeighborsClassifier(\n",
        "    weights=\"distance\", \n",
        "    p=2, \n",
        "    n_neighbors=14, \n",
        "    metric=\"chebyshev\", \n",
        "    algorithm=\"kd_tree\"\n",
        ")\n",
        "\n",
        "KNeighborsRandom.fit(X_train, y_train)\n",
        "KNeighborsRandomPredict = KNeighborsRandom.predict(X_test)\n",
        "score = accuracy_score(KNeighborsRandomPredict, y_test)\n",
        "print(f\"Average precision score with hyperparameter setting (RandomSearchcv): {np.mean(score) * 100:.2f}%\")"
      ],
      "metadata": {
        "colab": {
          "base_uri": "https://localhost:8080/"
        },
        "id": "k_OJyD0GjgbG",
        "outputId": "80f6c378-8cdc-434f-b73d-1844a3538c06"
      },
      "id": "k_OJyD0GjgbG",
      "execution_count": 48,
      "outputs": [
        {
          "output_type": "stream",
          "name": "stdout",
          "text": [
            "Average precision score with hyperparameter setting (RandomSearchcv): 91.86%\n"
          ]
        }
      ]
    },
    {
      "cell_type": "code",
      "source": [
        "DTC = DecisionTreeClassifier()\n",
        "DTC.fit(X_train, y_train)\n",
        "DTCPredict = DTC.predict(X_test)\n",
        "\n",
        "print(f\"Accuracy: {accuracy_score(y_test, DTCPredict)}\")\n",
        "print(f\"Precision: {precision_score(y_test, DTCPredict)}\")\n",
        "print(f\"Recall: {recall_score(y_test, DTCPredict)}\")\n",
        "print(f\"F1-score: {f1_score(y_test, DTCPredict)}\")\n",
        "print(f\"Classification report:\\n{classification_report(y_test, DTCPredict)}\")"
      ],
      "metadata": {
        "colab": {
          "base_uri": "https://localhost:8080/"
        },
        "id": "cXhVvyENUfA2",
        "outputId": "984e0b13-543c-4041-dd3b-2562451ce1a7"
      },
      "id": "cXhVvyENUfA2",
      "execution_count": 49,
      "outputs": [
        {
          "output_type": "stream",
          "name": "stdout",
          "text": [
            "Accuracy: 0.9031007751937985\n",
            "Precision: 0.7592592592592593\n",
            "Recall: 0.7735849056603774\n",
            "F1-score: 0.7663551401869159\n",
            "Classification report:\n",
            "              precision    recall  f1-score   support\n",
            "\n",
            "           0       0.94      0.94      0.94       205\n",
            "           1       0.76      0.77      0.77        53\n",
            "\n",
            "    accuracy                           0.90       258\n",
            "   macro avg       0.85      0.86      0.85       258\n",
            "weighted avg       0.90      0.90      0.90       258\n",
            "\n"
          ]
        }
      ]
    },
    {
      "cell_type": "markdown",
      "source": [
        "## С бинарной классификацией KNN справляется хорошо"
      ],
      "metadata": {
        "id": "mp4mPFG5s4s0"
      },
      "id": "mp4mPFG5s4s0"
    },
    {
      "cell_type": "markdown",
      "source": [
        "# 3. Использование нормализации признаков"
      ],
      "metadata": {
        "id": "hSe_7L6ftEca"
      },
      "id": "hSe_7L6ftEca"
    },
    {
      "cell_type": "code",
      "source": [
        "# Опробуем на примере из задания 1.1\n",
        "\n",
        "y=  gran_turismo_3.drive\n",
        "print(y)\n",
        "X=gran_turismo_3.drop(\"drive\", axis=1)\n",
        "X.head()\n",
        "\n",
        "\n",
        "Scaler = MinMaxScaler()\n",
        "X_scal = Scaler.fit_transform(X)\n",
        "\n",
        "\n",
        "\n",
        "# Сначала выведем результат без нормализации\n",
        "\n",
        "X_train, X_test, y_train, y_test = train_test_split(X, y, test_size=.25, stratify=y, random_state=12)\n",
        "\n",
        "\n",
        "KNN_model = KNeighborsClassifier(n_neighbors=7)\n",
        "\n",
        "KNN_model.fit(X_train, y_train)\n",
        "\n",
        "KNN_prediction = KNN_model.predict(X_test)\n",
        "\n",
        "print(f'Без нормализации: {accuracy_score(KNN_prediction, y_test)} ')\n",
        "\n",
        "#Теперь с нормализацией:\n",
        "\n",
        "X_train, X_test, y_train, y_test = train_test_split(X_scal, y, test_size=.25, stratify=y, random_state=12)\n",
        "\n",
        "\n",
        "KNN_model = KNeighborsClassifier(n_neighbors=7)\n",
        "\n",
        "KNN_model.fit(X_train, y_train)\n",
        "\n",
        "KNN_prediction = KNN_model.predict(X_test)\n",
        "\n",
        "print(f'C нормализацией:: {accuracy_score(KNN_prediction, y_test)} ')\n",
        "\n"
      ],
      "metadata": {
        "id": "xoLggNFpSTuJ",
        "colab": {
          "base_uri": "https://localhost:8080/"
        },
        "outputId": "a6900a43-b060-4085-d108-f8b345214406"
      },
      "id": "xoLggNFpSTuJ",
      "execution_count": 50,
      "outputs": [
        {
          "output_type": "stream",
          "name": "stdout",
          "text": [
            "0       FR\n",
            "1       FR\n",
            "3       FF\n",
            "4       FF\n",
            "5       FF\n",
            "        ..\n",
            "1265    FF\n",
            "1266    MR\n",
            "1267    FR\n",
            "1268    FF\n",
            "1269    FF\n",
            "Name: drive, Length: 1013, dtype: object\n",
            "Без нормализации: 0.5669291338582677 \n",
            "C нормализацией:: 0.6062992125984252 \n"
          ]
        }
      ]
    },
    {
      "cell_type": "markdown",
      "source": [
        "##Точность прогноза объективно возросла!"
      ],
      "metadata": {
        "id": "pdgyizI9umBm"
      },
      "id": "pdgyizI9umBm"
    }
  ],
  "metadata": {
    "kernelspec": {
      "display_name": "Python 3 (ipykernel)",
      "language": "python",
      "name": "python3"
    },
    "language_info": {
      "codemirror_mode": {
        "name": "ipython",
        "version": 3
      },
      "file_extension": ".py",
      "mimetype": "text/x-python",
      "name": "python",
      "nbconvert_exporter": "python",
      "pygments_lexer": "ipython3",
      "version": "3.8.5"
    },
    "colab": {
      "name": "Lab_3_classification_6133_Korshikov_VI.ipynb",
      "provenance": [],
      "collapsed_sections": []
    }
  },
  "nbformat": 4,
  "nbformat_minor": 5
}